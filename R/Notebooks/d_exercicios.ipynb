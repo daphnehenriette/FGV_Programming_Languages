{
 "cells": [
  {
   "cell_type": "markdown",
   "metadata": {},
   "source": [
    "Criar uma função que gere números primos em R"
   ]
  },
  {
   "cell_type": "code",
   "execution_count": 35,
   "metadata": {},
   "outputs": [],
   "source": [
    "numeros_primos.function <- function(a) {\n",
    "    if(a <= 1) {\n",
    "        print(\"não é primo\")\n",
    "    } \n",
    "    else {\n",
    "        v <<- 2:a \n",
    "        print(v)\n",
    "            for(i in v) {\n",
    "                if(a %% i == 0 & a != i) {\n",
    "                    print(\"não é primo\")\n",
    "                    break\n",
    "                } else {\n",
    "                    print(\"é primo!\")\n",
    "                }\n",
    "            }    \n",
    "        }\n",
    "    }"
   ]
  },
  {
   "cell_type": "code",
   "execution_count": 38,
   "metadata": {},
   "outputs": [
    {
     "name": "stdout",
     "output_type": "stream",
     "text": [
      " [1]  2  3  4  5  6  7  8  9 10 11\n",
      "[1] \"é primo!\"\n",
      "[1] \"é primo!\"\n",
      "[1] \"é primo!\"\n",
      "[1] \"é primo!\"\n",
      "[1] \"é primo!\"\n",
      "[1] \"é primo!\"\n",
      "[1] \"é primo!\"\n",
      "[1] \"é primo!\"\n",
      "[1] \"é primo!\"\n",
      "[1] \"é primo!\"\n"
     ]
    }
   ],
   "source": [
    "numeros_primos.function(11)"
   ]
  },
  {
   "cell_type": "code",
   "execution_count": 6,
   "metadata": {},
   "outputs": [
    {
     "ename": "ERROR",
     "evalue": "Error in parse(text = x, srcfile = src): <text>:2:8: unexpected symbol\n1: numeros_primos.function <- function(a) {\n2:     if a\n          ^\n",
     "output_type": "error",
     "traceback": [
      "Error in parse(text = x, srcfile = src): <text>:2:8: unexpected symbol\n1: numeros_primos.function <- function(a) {\n2:     if a\n          ^\nTraceback:\n"
     ]
    }
   ],
   "source": [
    "numeros_primos.function <- function(a) {\n",
    "    if a == 2 {\n",
    "        print('oi')\n",
    "    }\n",
    "    }"
   ]
  },
  {
   "cell_type": "code",
   "execution_count": null,
   "metadata": {},
   "outputs": [],
   "source": []
  },
  {
   "cell_type": "code",
   "execution_count": null,
   "metadata": {},
   "outputs": [],
   "source": []
  }
 ],
 "metadata": {
  "kernelspec": {
   "display_name": "R",
   "language": "R",
   "name": "ir"
  },
  "language_info": {
   "codemirror_mode": "r",
   "file_extension": ".r",
   "mimetype": "text/x-r-source",
   "name": "R",
   "pygments_lexer": "r",
   "version": "3.2.3"
  }
 },
 "nbformat": 4,
 "nbformat_minor": 2
}
