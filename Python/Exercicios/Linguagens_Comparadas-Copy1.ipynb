{
 "cells": [
  {
   "cell_type": "markdown",
   "metadata": {},
   "source": [
    "### Exercícios comparativos de linguagens:"
   ]
  },
  {
   "cell_type": "markdown",
   "metadata": {},
   "source": [
    "1) Dado os seguintes algoritmos em linguagens específicas, crie um algoritmo equivalente em linguagem Python\n",
    "\n",
    "https://rosettacode.org/wiki/Sorting_algorithms/Quicksort  "
   ]
  },
  {
   "cell_type": "code",
   "execution_count": 12,
   "metadata": {},
   "outputs": [
    {
     "ename": "SyntaxError",
     "evalue": "invalid syntax (<ipython-input-12-e96b0dc7989f>, line 3)",
     "output_type": "error",
     "traceback": [
      "\u001b[0;36m  File \u001b[0;32m\"<ipython-input-12-e96b0dc7989f>\"\u001b[0;36m, line \u001b[0;32m3\u001b[0m\n\u001b[0;31m    qsort <- function(v) {\u001b[0m\n\u001b[0m                         ^\u001b[0m\n\u001b[0;31mSyntaxError\u001b[0m\u001b[0;31m:\u001b[0m invalid syntax\n"
     ]
    }
   ],
   "source": [
    "# R\n",
    "\n",
    "qsort <- function(v) {\n",
    "  if ( length(v) > 1 ) \n",
    "  {\n",
    "    pivot <- (min(v) + max(v))/2.0                            # Could also use pivot <- median(v)\n",
    "    c(qsort(v[v < pivot]), v[v == pivot], qsort(v[v > pivot])) \n",
    "  } else v\n",
    "}\n",
    " \n",
    "N <- 100\n",
    "vs <- runif(N)\n",
    "system.time(u <- qsort(vs))\n",
    "print(u)"
   ]
  },
  {
   "cell_type": "code",
   "execution_count": null,
   "metadata": {},
   "outputs": [],
   "source": []
  },
  {
   "cell_type": "code",
   "execution_count": 11,
   "metadata": {},
   "outputs": [
    {
     "ename": "SyntaxError",
     "evalue": "invalid syntax (<ipython-input-11-2bd9966a42fb>, line 3)",
     "output_type": "error",
     "traceback": [
      "\u001b[0;36m  File \u001b[0;32m\"<ipython-input-11-2bd9966a42fb>\"\u001b[0;36m, line \u001b[0;32m3\u001b[0m\n\u001b[0;31m    (defun quicksort (list &aux (pivot (car list)) )\u001b[0m\n\u001b[0m                   ^\u001b[0m\n\u001b[0;31mSyntaxError\u001b[0m\u001b[0;31m:\u001b[0m invalid syntax\n"
     ]
    }
   ],
   "source": [
    "# Common Lisp\n",
    "\n",
    "(defun quicksort (list &aux (pivot (car list)) )\n",
    "  (if (cdr list)\n",
    "      (nconc (quicksort (remove-if-not #'(lambda (x) (< x pivot)) list))\n",
    "             (remove-if-not #'(lambda (x) (= x pivot)) list)\n",
    "             (quicksort (remove-if-not #'(lambda (x) (> x pivot)) list)))\n",
    "      list))"
   ]
  },
  {
   "cell_type": "code",
   "execution_count": null,
   "metadata": {},
   "outputs": [],
   "source": [
    "#C\n",
    "\n",
    "#include <stdio.h>\n",
    " \n",
    "void quicksort(int *A, int len);\n",
    " \n",
    "int main (void) {\n",
    "  int a[] = {4, 65, 2, -31, 0, 99, 2, 83, 782, 1};\n",
    "  int n = sizeof a / sizeof a[0];\n",
    " \n",
    "  int i;\n",
    "  for (i = 0; i < n; i++) {\n",
    "    printf(\"%d \", a[i]);\n",
    "  }\n",
    "  printf(\"\\n\");\n",
    " \n",
    "  quicksort(a, n);\n",
    " \n",
    "  for (i = 0; i < n; i++) {\n",
    "    printf(\"%d \", a[i]);\n",
    "  }\n",
    "  printf(\"\\n\");\n",
    " \n",
    "  return 0;\n",
    "}\n",
    " \n",
    "void quicksort(int *A, int len) {\n",
    "  if (len < 2) return;\n",
    " \n",
    "  int pivot = A[len / 2];\n",
    " \n",
    "  int i, j;\n",
    "  for (i = 0, j = len - 1; ; i++, j--) {\n",
    "    while (A[i] < pivot) i++;\n",
    "    while (A[j] > pivot) j--;\n",
    " \n",
    "    if (i >= j) break;\n",
    " \n",
    "    int temp = A[i];\n",
    "    A[i]     = A[j];\n",
    "    A[j]     = temp;\n",
    "  }\n",
    " \n",
    "  quicksort(A, i);\n",
    "  quicksort(A + i, len - i);\n",
    "}"
   ]
  },
  {
   "cell_type": "code",
   "execution_count": null,
   "metadata": {},
   "outputs": [],
   "source": [
    "# Python"
   ]
  },
  {
   "cell_type": "code",
   "execution_count": 16,
   "metadata": {},
   "outputs": [
    {
     "ename": "TypeError",
     "evalue": "'int' object is not iterable",
     "output_type": "error",
     "traceback": [
      "\u001b[0;31m---------------------------------------------------------------------------\u001b[0m",
      "\u001b[0;31mTypeError\u001b[0m                                 Traceback (most recent call last)",
      "\u001b[0;32m<ipython-input-16-03cf7a2d7f10>\u001b[0m in \u001b[0;36m<module>\u001b[0;34m()\u001b[0m\n\u001b[1;32m     11\u001b[0m         \u001b[0;32mreturn\u001b[0m \u001b[0mv\u001b[0m\u001b[0;34m\u001b[0m\u001b[0m\n\u001b[1;32m     12\u001b[0m \u001b[0mN\u001b[0m \u001b[0;34m=\u001b[0m \u001b[0;36m100\u001b[0m\u001b[0;34m\u001b[0m\u001b[0m\n\u001b[0;32m---> 13\u001b[0;31m \u001b[0mvs\u001b[0m \u001b[0;34m=\u001b[0m \u001b[0mqsort\u001b[0m\u001b[0;34m(\u001b[0m\u001b[0mN\u001b[0m\u001b[0;34m)\u001b[0m\u001b[0;34m\u001b[0m\u001b[0m\n\u001b[0m",
      "\u001b[0;32m<ipython-input-16-03cf7a2d7f10>\u001b[0m in \u001b[0;36mqsort\u001b[0;34m(v)\u001b[0m\n\u001b[1;32m      1\u001b[0m \u001b[0;32mdef\u001b[0m \u001b[0mqsort\u001b[0m\u001b[0;34m(\u001b[0m\u001b[0mv\u001b[0m\u001b[0;34m)\u001b[0m\u001b[0;34m:\u001b[0m\u001b[0;34m\u001b[0m\u001b[0m\n\u001b[0;32m----> 2\u001b[0;31m     \u001b[0;32mif\u001b[0m \u001b[0mlen\u001b[0m\u001b[0;34m(\u001b[0m\u001b[0mlist\u001b[0m\u001b[0;34m(\u001b[0m\u001b[0mv\u001b[0m\u001b[0;34m)\u001b[0m\u001b[0;34m)\u001b[0m \u001b[0;34m>\u001b[0m \u001b[0;36m1\u001b[0m\u001b[0;34m:\u001b[0m\u001b[0;34m\u001b[0m\u001b[0m\n\u001b[0m\u001b[1;32m      3\u001b[0m         \u001b[0mpivot\u001b[0m \u001b[0;34m=\u001b[0m \u001b[0;34m(\u001b[0m\u001b[0mmin\u001b[0m\u001b[0;34m(\u001b[0m\u001b[0mv\u001b[0m\u001b[0;34m)\u001b[0m \u001b[0;34m+\u001b[0m \u001b[0mmax\u001b[0m\u001b[0;34m(\u001b[0m\u001b[0mv\u001b[0m\u001b[0;34m)\u001b[0m\u001b[0;34m)\u001b[0m\u001b[0;34m/\u001b[0m\u001b[0;36m2\u001b[0m\u001b[0;34m\u001b[0m\u001b[0m\n\u001b[1;32m      4\u001b[0m         \u001b[0;32mif\u001b[0m \u001b[0mv\u001b[0m \u001b[0;34m<\u001b[0m \u001b[0mpivot\u001b[0m\u001b[0;34m:\u001b[0m\u001b[0;34m\u001b[0m\u001b[0m\n\u001b[1;32m      5\u001b[0m             \u001b[0;32mreturn\u001b[0m \u001b[0mqsort\u001b[0m\u001b[0;34m(\u001b[0m\u001b[0mv\u001b[0m\u001b[0;34m)\u001b[0m\u001b[0;34m\u001b[0m\u001b[0m\n",
      "\u001b[0;31mTypeError\u001b[0m: 'int' object is not iterable"
     ]
    }
   ],
   "source": [
    "def qsort(v):\n",
    "    if len(list(v)) > 1:\n",
    "        pivot = (min(v) + max(v))/2\n",
    "        if v < pivot:\n",
    "            return qsort(v)\n",
    "        elif v == pivot:\n",
    "            return v\n",
    "        else:\n",
    "            return qsort(v)\n",
    "    else:\n",
    "        return v\n",
    "N = 100\n",
    "vs = qsort(N)"
   ]
  },
  {
   "cell_type": "markdown",
   "metadata": {},
   "source": [
    "2) Escreva um código em R para receber um vetor de inteiros e retornar um vetor com os inteiros pares dentre os inteiros da primeira lista"
   ]
  },
  {
   "cell_type": "code",
   "execution_count": 13,
   "metadata": {},
   "outputs": [
    {
     "ename": "SyntaxError",
     "evalue": "invalid syntax (<ipython-input-13-a02c863349b6>, line 1)",
     "output_type": "error",
     "traceback": [
      "\u001b[0;36m  File \u001b[0;32m\"<ipython-input-13-a02c863349b6>\"\u001b[0;36m, line \u001b[0;32m1\u001b[0m\n\u001b[0;31m    vetorpar <- function(n) {\u001b[0m\n\u001b[0m                            ^\u001b[0m\n\u001b[0;31mSyntaxError\u001b[0m\u001b[0;31m:\u001b[0m invalid syntax\n"
     ]
    }
   ],
   "source": [
    "vetorpar <- function(n) {\n",
    "    listapar = seq(n)\n",
    "    for (i in n) {\n",
    "        if (i%%2 != 0) {\n",
    "            listapar <- listapar(-i)\n",
    "        } \n",
    "    }\n",
    "}"
   ]
  },
  {
   "cell_type": "markdown",
   "metadata": {},
   "source": [
    "3) Escreva um código em Common Lisp para receber um vetor de inteiros e retornar um vetor com os inteiros pares dentre os inteiros da primeira lista"
   ]
  },
  {
   "cell_type": "code",
   "execution_count": null,
   "metadata": {},
   "outputs": [],
   "source": []
  },
  {
   "cell_type": "markdown",
   "metadata": {},
   "source": [
    "4) Dada a tabela \"pacientes\", no banco de dados \"Medicina\", ilustrada abaixo:  \n",
    "\n",
    "\n",
    "| idade | altura | peso | pressao_d | pressao_s |nome  |\n",
    "|-------|--------|------|-----------|-----------|------|\n",
    "| 23    | 183    | 73   | 8         | 12        |Rubens|\n",
    "| 42    | 167    | 60   | 7         | 11        |Maria |\n",
    "| 34    | 177    | 77   | 9         | 13        |Carlos|\n",
    "\n",
    "\n",
    "\n",
    "Escreva um script em Python + SQL para construir um dicionário tendo os nomes como chave e as idades como valores. "
   ]
  },
  {
   "cell_type": "code",
   "execution_count": null,
   "metadata": {},
   "outputs": [],
   "source": []
  }
 ],
 "metadata": {
  "kernelspec": {
   "display_name": "Python 3",
   "language": "python",
   "name": "python3"
  },
  "language_info": {
   "codemirror_mode": {
    "name": "ipython",
    "version": 3
   },
   "file_extension": ".py",
   "mimetype": "text/x-python",
   "name": "python",
   "nbconvert_exporter": "python",
   "pygments_lexer": "ipython3",
   "version": "3.5.2"
  }
 },
 "nbformat": 4,
 "nbformat_minor": 2
}
