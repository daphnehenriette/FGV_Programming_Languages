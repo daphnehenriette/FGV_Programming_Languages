{
 "cells": [
  {
   "cell_type": "code",
   "execution_count": 1,
   "metadata": {
    "collapsed": true
   },
   "outputs": [],
   "source": [
    "import time"
   ]
  },
  {
   "cell_type": "markdown",
   "metadata": {},
   "source": [
    "1 - Dada a lista:"
   ]
  },
  {
   "cell_type": "code",
   "execution_count": 2,
   "metadata": {
    "collapsed": true
   },
   "outputs": [],
   "source": [
    "lista = [1,2,3,'4',5,6.3,7.4 + 2j,\"123\",[1,2,3], 93, \"98\"]"
   ]
  },
  {
   "cell_type": "markdown",
   "metadata": {},
   "source": [
    "Crie um código para imprimir o antecessor e o sucessor de cada elemento de uma lista:\n",
    "+ Caso este elemento seja inteiro, imprimir o valor;  \n",
    "+ Caso seja uma string, imprimir o inteiro correspondente;  \n",
    "+ Caso seja um real, imprima a parte inteira;\n",
    "+ Caso seja um imaginário, imprima a parte inteira e real;\n",
    "+ Caso seja uma sequência, seguie as regras acima para cada elemento da sequência.  "
   ]
  },
  {
   "cell_type": "code",
   "execution_count": 3,
   "metadata": {},
   "outputs": [
    {
     "name": "stdout",
     "output_type": "stream",
     "text": [
      "Não há antecessor,  2\n",
      "1 3\n",
      "2 4\n",
      "3 5\n",
      "4 6\n",
      "5 7\n",
      "6 123\n",
      "7 [1, 2, 3]\n",
      "123 93\n",
      "[1, 2, 3] 98\n",
      "93 Não há sucessor\n"
     ]
    }
   ],
   "source": [
    "#t0 = time.time()\n",
    "k=list(range(len(lista)))\n",
    "tipos=[]\n",
    "for w in k:\n",
    "    tipos.append(type(lista[w]))  \n",
    "    \n",
    "for j in k:\n",
    "    if tipos[j]==list:\n",
    "        f=list(range(len(lista[j])))\n",
    "        tiposf=[]\n",
    "        for m in f:\n",
    "            tiposf.append(type(lista[j][m]))\n",
    "            if tiposf[m]==float:\n",
    "                lista[j][m]=int(lista[j][m])\n",
    "            elif tipos[m]==str:\n",
    "                lista[j][m]=int(lista[j][m])\n",
    "            elif tipos[m]==int:\n",
    "                lista[j][m]=lista[j][m]\n",
    "            elif tipos[m]==complex: \n",
    "                lista[j][m]=int((lista[j][m].real))\n",
    "    elif tipos[j]==int:\n",
    "        lista[j]=lista[j]\n",
    "    elif tipos[j]==str:\n",
    "        lista[j]=int(lista[j])\n",
    "    elif tipos[j]==float:\n",
    "        lista[j]=int(lista[j])\n",
    "    else:\n",
    "        #tipos[j]==complex: \n",
    "        lista[j]=int((lista[j].real))\n",
    "        \n",
    "for q in k:\n",
    "    if q==0:\n",
    "        print(\"Não há antecessor, \",lista[q+1])\n",
    "    elif q==(len(k)-1):\n",
    "        print(lista[q-1],\"Não há sucessor\")\n",
    "    else:\n",
    "        print(lista[q-1],lista[q+1])\n",
    "#print(time.time() - t0)"
   ]
  },
  {
   "cell_type": "markdown",
   "metadata": {},
   "source": [
    "2 - Os fatores primos de 13195 são 5, 7, 13 e 29. Qual o maior fator primo de 600851475143?  \n",
    "https://projecteuler.net/problem=3  "
   ]
  },
  {
   "cell_type": "code",
   "execution_count": 4,
   "metadata": {},
   "outputs": [
    {
     "name": "stdout",
     "output_type": "stream",
     "text": [
      "O maior fator primo desse número é:  6857\n",
      "600851475143\n",
      "[71, 839, 1471, 6857]\n"
     ]
    }
   ],
   "source": [
    "#t0 = time.time()\n",
    "primos = []\n",
    "fatores = []\n",
    "k1=2\n",
    "k2=20\n",
    "produto=1\n",
    "\n",
    "while produto != 600851475143:\n",
    "    produto=1\n",
    "    for i in range(k1, k2):\n",
    "        k=True\n",
    "        for j in range(2,i):\n",
    "            if i%j==0:\n",
    "                k=False\n",
    "                break\n",
    "        if k:\n",
    "            primos.append(i)  \n",
    "        \n",
    "    for m in primos:\n",
    "        if 600851475143%m==0:\n",
    "            fatores.append(m)\n",
    "\n",
    "    for n in fatores:\n",
    "        produto *= n\n",
    "\n",
    "    k1=k2\n",
    "    k2=k2+20\n",
    "    primos=[]\n",
    "\n",
    "print(\"O maior fator primo desse número é: \",fatores[-1])\n",
    "print(produto)\n",
    "print(fatores)\n",
    "#print(time.time() - t0)"
   ]
  },
  {
   "cell_type": "code",
   "execution_count": 5,
   "metadata": {},
   "outputs": [
    {
     "name": "stdout",
     "output_type": "stream",
     "text": [
      "[5, 7, 13, 29]\n",
      "13195\n"
     ]
    }
   ],
   "source": [
    "#t0 = time.time()\n",
    "primos = []\n",
    "fatores = []\n",
    "k1=2\n",
    "k2=20\n",
    "produto=1\n",
    "\n",
    "while produto != 13195:\n",
    "    produto=1\n",
    "    for i in range(k1, k2):\n",
    "        k=True\n",
    "        for j in range(2,i):\n",
    "            if i%j==0:\n",
    "                k=False\n",
    "                break\n",
    "        if k:\n",
    "            primos.append(i)  \n",
    "        \n",
    "    for m in primos:\n",
    "        if 13195%m==0:\n",
    "            fatores.append(m)\n",
    "\n",
    "    for n in fatores:\n",
    "        produto *= n\n",
    "\n",
    "    k1=k2\n",
    "    k2=k2+20\n",
    "    primos=[]\n",
    "\n",
    "print(fatores)\n",
    "print(produto)\n",
    "#print(time.time() - t0)"
   ]
  },
  {
   "cell_type": "markdown",
   "metadata": {},
   "source": [
    "3- Crie um programa que imprima os números de 1 a 100, mas nos múltiplos de 3 imprima “Fizz” em vez do  número e nos múltiplos de 5 imprima “Buzz”. Para os números que são múltiplos de tanto 3 como 5, imprima “FizzBuzz”.  "
   ]
  },
  {
   "cell_type": "code",
   "execution_count": 6,
   "metadata": {},
   "outputs": [
    {
     "name": "stdout",
     "output_type": "stream",
     "text": [
      "1\n",
      "2\n",
      "Fizz\n",
      "4\n",
      "Buzz\n",
      "Fizz\n",
      "7\n",
      "8\n",
      "Fizz\n",
      "Buzz\n",
      "11\n",
      "Fizz\n",
      "13\n",
      "14\n",
      "FizzBuzz\n",
      "16\n",
      "17\n",
      "Fizz\n",
      "19\n",
      "Buzz\n",
      "Fizz\n",
      "22\n",
      "23\n",
      "Fizz\n",
      "Buzz\n",
      "26\n",
      "Fizz\n",
      "28\n",
      "29\n",
      "FizzBuzz\n",
      "31\n",
      "32\n",
      "Fizz\n",
      "34\n",
      "Buzz\n",
      "Fizz\n",
      "37\n",
      "38\n",
      "Fizz\n",
      "Buzz\n",
      "41\n",
      "Fizz\n",
      "43\n",
      "44\n",
      "FizzBuzz\n",
      "46\n",
      "47\n",
      "Fizz\n",
      "49\n",
      "Buzz\n",
      "Fizz\n",
      "52\n",
      "53\n",
      "Fizz\n",
      "Buzz\n",
      "56\n",
      "Fizz\n",
      "58\n",
      "59\n",
      "FizzBuzz\n",
      "61\n",
      "62\n",
      "Fizz\n",
      "64\n",
      "Buzz\n",
      "Fizz\n",
      "67\n",
      "68\n",
      "Fizz\n",
      "Buzz\n",
      "71\n",
      "Fizz\n",
      "73\n",
      "74\n",
      "FizzBuzz\n",
      "76\n",
      "77\n",
      "Fizz\n",
      "79\n",
      "Buzz\n",
      "Fizz\n",
      "82\n",
      "83\n",
      "Fizz\n",
      "Buzz\n",
      "86\n",
      "Fizz\n",
      "88\n",
      "89\n",
      "FizzBuzz\n",
      "91\n",
      "92\n",
      "Fizz\n",
      "94\n",
      "Buzz\n",
      "Fizz\n",
      "97\n",
      "98\n",
      "Fizz\n",
      "Buzz\n"
     ]
    }
   ],
   "source": [
    "for i in range(1,101):\n",
    "    if i%3 == 0 and i%5 == 0:\n",
    "        print('FizzBuzz')\n",
    "        continue\n",
    "    if i%3 == 0:\n",
    "        print('Fizz')\n",
    "        continue\n",
    "    if i%5 == 0:\n",
    "        print('Buzz')\n",
    "        continue\n",
    "    print(i)"
   ]
  },
  {
   "cell_type": "markdown",
   "metadata": {},
   "source": [
    "4- Usando a biblioteca \"random\", crie um programa para calcular a média da soma de dois dados de 6 faces (D6) em 10000 lançamentos."
   ]
  },
  {
   "cell_type": "code",
   "execution_count": 7,
   "metadata": {
    "collapsed": true
   },
   "outputs": [],
   "source": [
    "import random"
   ]
  },
  {
   "cell_type": "code",
   "execution_count": 8,
   "metadata": {},
   "outputs": [
    {
     "name": "stdout",
     "output_type": "stream",
     "text": [
      "A média da 'média da soma' de dois dados em 1000 lançamentos é 3.49\n"
     ]
    }
   ],
   "source": [
    "lancamentos=[]\n",
    "media=0\n",
    "for i in range(1,1001):\n",
    "    a = random.randrange(1,7)\n",
    "    b = random.randrange(1,7)\n",
    "    med = (a+b)/2\n",
    "    lancamentos.append(med)\n",
    "for j in lancamentos:\n",
    "    media += j\n",
    "\n",
    "media=media/len(range(1,1001))\n",
    "print(\"A média da 'média da soma' de dois dados em 1000 lançamentos é %.2f\" %media)"
   ]
  },
  {
   "cell_type": "code",
   "execution_count": 9,
   "metadata": {},
   "outputs": [
    {
     "name": "stdout",
     "output_type": "stream",
     "text": [
      "A média da soma de dois dados em 1000 lançamentos é 6.94\n"
     ]
    }
   ],
   "source": [
    "lancamentos=[]\n",
    "media=0\n",
    "for i in range(1,1001):\n",
    "    a = random.randrange(1,7)\n",
    "    b = random.randrange(1,7)\n",
    "    med = (a+b)\n",
    "    lancamentos.append(med)\n",
    "for j in lancamentos:\n",
    "    media += j\n",
    "\n",
    "media=media/len(range(1,1001))\n",
    "print(\"A média da soma de dois dados em 1000 lançamentos é %.2f\" %media)"
   ]
  }
 ],
 "metadata": {
  "kernelspec": {
   "display_name": "Python 3",
   "language": "python",
   "name": "python3"
  },
  "language_info": {
   "codemirror_mode": {
    "name": "ipython",
    "version": 3
   },
   "file_extension": ".py",
   "mimetype": "text/x-python",
   "name": "python",
   "nbconvert_exporter": "python",
   "pygments_lexer": "ipython3",
   "version": "3.5.2+"
  }
 },
 "nbformat": 4,
 "nbformat_minor": 2
}
