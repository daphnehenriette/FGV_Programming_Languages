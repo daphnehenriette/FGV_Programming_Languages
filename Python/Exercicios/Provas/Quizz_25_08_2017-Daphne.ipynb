{
 "cells": [
  {
   "cell_type": "markdown",
   "metadata": {},
   "source": [
    "1 - Dadas uma lista qualquer, como a do exemplo abaixo:"
   ]
  },
  {
   "cell_type": "code",
   "execution_count": 1,
   "metadata": {
    "collapsed": true
   },
   "outputs": [],
   "source": [
    "lista = [1,2,3,'4',5,6.3,7.4 + 2j,\"123\",[1,2,3], 93, \"98\", (1,2,3,'4')]"
   ]
  },
  {
   "cell_type": "markdown",
   "metadata": {},
   "source": [
    "Crie uma função recursiva para imprimir o antecessor e o sucessor de cada elemento de uma lista:\n",
    "+ Caso este elemento seja inteiro, imprimir o valor;  \n",
    "+ Caso seja uma string, imprimir o inteiro correspondente;  \n",
    "+ Caso seja um real, imprima a parte inteira;\n",
    "+ Caso seja um imaginário, imprima a parte inteira e real;\n",
    "+ Caso seja uma sequência, aplique as regras acima para cada elemento da sequência.  "
   ]
  },
  {
   "cell_type": "code",
   "execution_count": 2,
   "metadata": {
    "collapsed": true
   },
   "outputs": [],
   "source": [
    "def imprime(lista):\n",
    "    for k in lista:\n",
    "        if type(k)==list or type(k)==tuple:\n",
    "            imprime(k)\n",
    "        elif type(k)==int:\n",
    "            print('{} {}' .format(k-1,k+1))\n",
    "        elif type(k)==float or type(k)==str:\n",
    "            k=int(k)\n",
    "            print('{} {}' .format(k-1,k+1))\n",
    "        else: #type(k)==complex: \n",
    "            k=int(k.real)\n",
    "            print('{} {}' .format(k-1,k+1))"
   ]
  },
  {
   "cell_type": "code",
   "execution_count": 3,
   "metadata": {},
   "outputs": [
    {
     "name": "stdout",
     "output_type": "stream",
     "text": [
      "0 2\n",
      "1 3\n",
      "2 4\n",
      "3 5\n",
      "4 6\n",
      "5 7\n",
      "6 8\n",
      "122 124\n",
      "0 2\n",
      "1 3\n",
      "2 4\n",
      "92 94\n",
      "97 99\n",
      "0 2\n",
      "1 3\n",
      "2 4\n",
      "3 5\n"
     ]
    }
   ],
   "source": [
    "imprime(lista)"
   ]
  },
  {
   "cell_type": "markdown",
   "metadata": {},
   "source": [
    "2 - Crie uma função, ou conjunto de funções, para exibir por extenso o valor de qualquer número inteiro até 1000.  \n",
    "Exemplo:  \n",
    "\n",
    "    print(imprime_extenso(234))  \n",
    "    > 'duzentos e trinta e quatro'  "
   ]
  },
  {
   "cell_type": "code",
   "execution_count": 4,
   "metadata": {
    "collapsed": true
   },
   "outputs": [],
   "source": [
    "import time"
   ]
  },
  {
   "cell_type": "code",
   "execution_count": 5,
   "metadata": {},
   "outputs": [
    {
     "name": "stdout",
     "output_type": "stream",
     "text": [
      "0.00042366981506347656\n"
     ]
    }
   ],
   "source": [
    "t0=time.time()\n",
    "\n",
    "def imprime_extenso(num):\n",
    "        \n",
    "    listacen=['cento','duzentos','trezentos','quatrocentos','quinhentos',\n",
    "              'seiscentos', 'setecentos','oitocentos','novecentos','mil']\n",
    "    \n",
    "    listadez=['dez','vinte','trinta','quarenta','cinquenta','sessenta',\n",
    "              'setenta','oitenta','noventa']\n",
    "    \n",
    "    listauni=['zero','um','dois','três','quatro','cinco','seis','sete',\n",
    "              'oito','nove','dez','onze','doze','treze','quatorze',\n",
    "              'quinze','dezesseis','dezessete','dezoito','dezenove']\n",
    "    \n",
    "    if num<0 or num>1000 or type(num)!=int:\n",
    "        print('O número deve ser inteiro, entre 0 e 1000')\n",
    "        \n",
    "    else:\n",
    "        cen=int(num/100)\n",
    "        ind=(num-cen*100)\n",
    "        dez=int(ind/10)\n",
    "        uni=ind%10\n",
    "            \n",
    "        if cen==0:\n",
    "            if ind<=19:\n",
    "                return(listauni[ind])\n",
    "            elif uni!=0:\n",
    "                return('{} e {}' .format(listadez[dez-1],listauni[uni]))\n",
    "            else:\n",
    "                return('{}' .format(listadez[dez-1]))\n",
    "                \n",
    "        else: #cen!=0\n",
    "            if ind==0:\n",
    "                if cen==1:\n",
    "                    return('cem')\n",
    "                else:\n",
    "                    return(listacen[cen-1])\n",
    "                    \n",
    "            else: #ind!=0\n",
    "                if uni==0:\n",
    "                    return('{} e {}' .format(listacen[cen-1],listadez[dez-1]))\n",
    "                elif dez==0 or ind<=19:\n",
    "                    return('{} e {}' .format(listacen[cen-1],listauni[ind]))\n",
    "                else:\n",
    "                    return('{} e {} e {}' .format(listacen[cen-1],listadez[dez-1],listauni[uni]))\n",
    "\n",
    "print(time.time() - t0)"
   ]
  },
  {
   "cell_type": "code",
   "execution_count": 6,
   "metadata": {},
   "outputs": [
    {
     "data": {
      "text/plain": [
       "'duzentos e trinta e quatro'"
      ]
     },
     "execution_count": 6,
     "metadata": {},
     "output_type": "execute_result"
    }
   ],
   "source": [
    "imprime_extenso(234)"
   ]
  },
  {
   "cell_type": "code",
   "execution_count": 7,
   "metadata": {},
   "outputs": [
    {
     "data": {
      "text/plain": [
       "'cento e dez'"
      ]
     },
     "execution_count": 7,
     "metadata": {},
     "output_type": "execute_result"
    }
   ],
   "source": [
    "imprime_extenso(110)"
   ]
  },
  {
   "cell_type": "code",
   "execution_count": 8,
   "metadata": {},
   "outputs": [
    {
     "data": {
      "text/plain": [
       "'novecentos e quatro'"
      ]
     },
     "execution_count": 8,
     "metadata": {},
     "output_type": "execute_result"
    }
   ],
   "source": [
    "imprime_extenso(904)"
   ]
  },
  {
   "cell_type": "code",
   "execution_count": 9,
   "metadata": {},
   "outputs": [
    {
     "data": {
      "text/plain": [
       "'oitocentos e noventa e nove'"
      ]
     },
     "execution_count": 9,
     "metadata": {},
     "output_type": "execute_result"
    }
   ],
   "source": [
    "imprime_extenso(899)"
   ]
  },
  {
   "cell_type": "markdown",
   "metadata": {},
   "source": [
    "3- Em alguns lugares é comum lembrar um número do telefone associando seus dígitos a letras. Dessa maneira a expressão MY LOVE significa 69 5683. Claro que existem alguns problemas, uma vez que alguns números de telefone não formam uma palavra ou uma frase e os dígitos 1 e 0 não estão associados a nenhuma letra.  \n",
    "\n",
    "Sua tarefa é ler uma expressão e encontrar o número de telefone correspondente baseado na tabela abaixo. Uma expressão é composta por letras maiúsculas (A-Z), hifens (-) e os números 1 e 0.  \n",
    "\n",
    "Letras  ->  Número \n",
    "ABC    ->  2 \n",
    "DEF    ->  3 \n",
    "GHI    ->  4 \n",
    "JKL    ->  5 \n",
    "MNO    ->  6 \n",
    "PQRS    ->  7 \n",
    "TUV    ->  8 \n",
    "WXYZ   ->  9 \n",
    "\n",
    "Entrada  \n",
    "\n",
    "A entrada consiste de um conjunto de expressões. Cada expressão está sozinha em uma linha e possui C caracteres, onde 1 ≤ C ≤ 30. A entrada é terminada por fim de arquivo (EOF).  \n",
    "\n",
    "Saída  \n",
    "\n",
    "Para cada expressão você deve imprimir o número de telefone correspondente.  \n",
    "\n",
    "Exemplo de entrada:  \n",
    "\n",
    "1-HOME-SWEET-HOME  \n",
    "MY-MISERABLE-JOB  \n",
    "\n",
    "Saída correspondente:\n",
    "\n",
    "1-4663-79338-4663  \n",
    "69-647372253-562  "
   ]
  },
  {
   "cell_type": "code",
   "execution_count": 10,
   "metadata": {
    "collapsed": true
   },
   "outputs": [],
   "source": [
    "import string"
   ]
  },
  {
   "cell_type": "code",
   "execution_count": 11,
   "metadata": {},
   "outputs": [
    {
     "name": "stdout",
     "output_type": "stream",
     "text": [
      "0.0005900859832763672\n"
     ]
    }
   ],
   "source": [
    "t0=time.time()\n",
    "\n",
    "def telefone(*nums):\n",
    "    \n",
    "    for num in nums:\n",
    "        \n",
    "        num=str(num)  #str.upper(num) se enunciado não fizesse a restrição que toda letra da entrada é maiúscula.\n",
    "        tel=[]\n",
    "    \n",
    "        lista={'-':'-','0':0,'1':1,'A':2,'B':2,'C':2,'D':3,'E':3,'F':3,'G':4,\n",
    "               'H':4,'I':4,'J':5,'K':5,'L':5,'M':6,'N':6,'O':6,'P':7,'Q':7,\n",
    "               'R':7,'S':7,'T':8,'U':8,'V':8,'W':9,'X':9,'Y':9,'Z':9}\n",
    "    \n",
    "        for i in num:\n",
    "            tel.append(str(lista[i]))\n",
    "    \n",
    "        print(''.join(tel))\n",
    "\n",
    "print(time.time()-t0)"
   ]
  },
  {
   "cell_type": "code",
   "execution_count": 12,
   "metadata": {},
   "outputs": [
    {
     "name": "stdout",
     "output_type": "stream",
     "text": [
      "1-4663-79338-4663\n",
      "69-647372253-562\n"
     ]
    }
   ],
   "source": [
    "telefone('1-HOME-SWEET-HOME','MY-MISERABLE-JOB')"
   ]
  },
  {
   "cell_type": "code",
   "execution_count": 13,
   "metadata": {},
   "outputs": [
    {
     "name": "stdout",
     "output_type": "stream",
     "text": [
      "1-4663-79338-4663\n"
     ]
    }
   ],
   "source": [
    "telefone('1-HOME-SWEET-HOME')"
   ]
  },
  {
   "cell_type": "code",
   "execution_count": 14,
   "metadata": {},
   "outputs": [
    {
     "name": "stdout",
     "output_type": "stream",
     "text": [
      "69-647372253-562\n"
     ]
    }
   ],
   "source": [
    "telefone('MY-MISERABLE-JOB')"
   ]
  },
  {
   "cell_type": "markdown",
   "metadata": {},
   "source": [
    "4- Dada um texto em formato string, encontre todas as palavras pertencentes a esta string que contenham uma determinada letra, passada como parâmetro. "
   ]
  },
  {
   "cell_type": "code",
   "execution_count": 15,
   "metadata": {
    "collapsed": true
   },
   "outputs": [],
   "source": [
    "def ctrlf(texto,letra):\n",
    "    texto=texto.split(\" \")\n",
    "    palavras=[]\n",
    "    letra=str.upper(letra)\n",
    "    \n",
    "    for i in texto:\n",
    "        i=str(i)\n",
    "        s=str.upper(i)\n",
    "        if letra in s:\n",
    "            palavras.append(i)\n",
    "    \n",
    "    print(palavras)"
   ]
  },
  {
   "cell_type": "code",
   "execution_count": 16,
   "metadata": {},
   "outputs": [
    {
     "name": "stdout",
     "output_type": "stream",
     "text": [
      "['Maggy', 'Mika', 'Mickey']\n"
     ]
    }
   ],
   "source": [
    "ctrlf('Lila Maggy Mika Luna Tuareg Neguinho Donna Tuxa Apolo Trix Baco Sansão Lya Mickey Black','m')"
   ]
  }
 ],
 "metadata": {
  "kernelspec": {
   "display_name": "Python 3",
   "language": "python",
   "name": "python3"
  },
  "language_info": {
   "codemirror_mode": {
    "name": "ipython",
    "version": 3
   },
   "file_extension": ".py",
   "mimetype": "text/x-python",
   "name": "python",
   "nbconvert_exporter": "python",
   "pygments_lexer": "ipython3",
   "version": "3.5.2+"
  }
 },
 "nbformat": 4,
 "nbformat_minor": 2
}
