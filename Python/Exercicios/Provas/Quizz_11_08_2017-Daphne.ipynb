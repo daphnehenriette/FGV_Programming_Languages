{
 "cells": [
  {
   "cell_type": "markdown",
   "metadata": {},
   "source": [
    "1 - Quais são as estruturas de dados primitivas mais comuns na linguagem Python? Exemplifique criando variáveis de cada uma destas estruturas."
   ]
  },
  {
   "cell_type": "markdown",
   "metadata": {
    "collapsed": true
   },
   "source": [
    "Há algumas estruturas de dados primitivas mais comuns na linguagem Python, como por exemplo (os exemplos relativos a cada uma seguem em ordem, abaixo):\n",
    "- Tipo numérico, que pode ser dividido em inteiro, float e complex.\n",
    "- Tipo lista\n",
    "- Tipo dicionário\n",
    "- Tipo conjunto\n",
    "- Tipo booleano\n",
    "- Tipo string\n",
    "- Tipo tupla\n"
   ]
  },
  {
   "cell_type": "code",
   "execution_count": 1,
   "metadata": {
    "collapsed": true
   },
   "outputs": [],
   "source": [
    "a1=1 #tipo inteiro\n",
    "a2=3 #tipo inteiro\n",
    "b=1.1 #tipo float\n",
    "c=1+1j #tipo complex"
   ]
  },
  {
   "cell_type": "code",
   "execution_count": 2,
   "metadata": {
    "collapsed": true
   },
   "outputs": [],
   "source": [
    "lista=[1,2,3]"
   ]
  },
  {
   "cell_type": "code",
   "execution_count": 3,
   "metadata": {
    "collapsed": true
   },
   "outputs": [],
   "source": [
    "dic={'Nome paciente':{'peso':[50],'altura':[1.80],'idade':[20]}}"
   ]
  },
  {
   "cell_type": "code",
   "execution_count": 4,
   "metadata": {
    "collapsed": true
   },
   "outputs": [],
   "source": [
    "con={1,2,3,4,4,4}"
   ]
  },
  {
   "cell_type": "code",
   "execution_count": 5,
   "metadata": {},
   "outputs": [
    {
     "data": {
      "text/plain": [
       "False"
      ]
     },
     "execution_count": 5,
     "metadata": {},
     "output_type": "execute_result"
    }
   ],
   "source": [
    "a1 == a2"
   ]
  },
  {
   "cell_type": "code",
   "execution_count": 6,
   "metadata": {
    "collapsed": true
   },
   "outputs": [],
   "source": [
    "str='1'"
   ]
  },
  {
   "cell_type": "code",
   "execution_count": 7,
   "metadata": {
    "collapsed": true
   },
   "outputs": [],
   "source": [
    "tup=(1,2,3,1,1,'string',{1,2},[1,2])"
   ]
  },
  {
   "cell_type": "markdown",
   "metadata": {},
   "source": [
    "2 - Dê pelo menos 5 exemplos de conversões entre tipos de dados, utilizando as variáveis criadas na questão anterior  "
   ]
  },
  {
   "cell_type": "code",
   "execution_count": 8,
   "metadata": {},
   "outputs": [
    {
     "name": "stdout",
     "output_type": "stream",
     "text": [
      "0.3333333333333333\n"
     ]
    }
   ],
   "source": [
    "a3=a1/a2 #agora ao invés de tipo inteiro que eram a1 e a2, é tipo float\n",
    "print(a3)"
   ]
  },
  {
   "cell_type": "code",
   "execution_count": 9,
   "metadata": {},
   "outputs": [
    {
     "name": "stdout",
     "output_type": "stream",
     "text": [
      "{1, 2, 3}\n"
     ]
    }
   ],
   "source": [
    "conjunto=set(lista)  #conversão de lista para conjunto\n",
    "print(conjunto)"
   ]
  },
  {
   "cell_type": "code",
   "execution_count": 10,
   "metadata": {},
   "outputs": [
    {
     "name": "stdout",
     "output_type": "stream",
     "text": [
      "1\n"
     ]
    }
   ],
   "source": [
    "x=int(str)           #conversão de string para inteiro\n",
    "print(x)"
   ]
  },
  {
   "cell_type": "code",
   "execution_count": 11,
   "metadata": {},
   "outputs": [
    {
     "name": "stdout",
     "output_type": "stream",
     "text": [
      "(1, 2, 3)\n"
     ]
    }
   ],
   "source": [
    "tupla=tuple(lista)   #conversão de lista para tupla\n",
    "print(tupla)"
   ]
  },
  {
   "cell_type": "code",
   "execution_count": 12,
   "metadata": {},
   "outputs": [
    {
     "name": "stdout",
     "output_type": "stream",
     "text": [
      "[1, 2, 3, 4]\n"
     ]
    }
   ],
   "source": [
    "lista=list(con)      #conversão de conjunto para lista\n",
    "print(lista)"
   ]
  },
  {
   "cell_type": "markdown",
   "metadata": {},
   "source": [
    "3- Exemplifique o uso de algumas primitivas, de forma isolada ou combinada, para criar as seguintes estruturas de dados:  \n",
    "\n",
    "+ Um registro médico\n",
    "+ Uma matriz de pixels em formato RGB\n",
    "+ Um conjunto de coordenadas geográficas representando a sede da prefeitura e do corpo de bombeiros em 4 cidades diferentes"
   ]
  },
  {
   "cell_type": "code",
   "execution_count": 13,
   "metadata": {},
   "outputs": [
    {
     "name": "stdout",
     "output_type": "stream",
     "text": [
      "{'Nomepaciente2': {'idade': [60], 'peso': [60], 'altura': [1.6]}, 'Nomepaciente1': {'idade': [20], 'peso': [50], 'altura': [1.8]}}\n"
     ]
    }
   ],
   "source": [
    "registro={'Nomepaciente1':{'peso':[50],'altura':[1.80],'idade':[20]},'Nomepaciente2':{'peso':[60],'altura':[1.60],'idade':[60]}}\n",
    "print(registro)"
   ]
  },
  {
   "cell_type": "code",
   "execution_count": 14,
   "metadata": {},
   "outputs": [
    {
     "name": "stdout",
     "output_type": "stream",
     "text": [
      "[['rgb11', 'rgb12', 'rgb13'], ['rgb21', 'rgb22', 'rgb23'], ['rgb31', 'rgb32', 'rgb33']]\n"
     ]
    }
   ],
   "source": [
    "matriz=[['rgb11','rgb12','rgb13'],['rgb21','rgb22','rgb23'],['rgb31','rgb32','rgb33']]\n",
    "print(matriz)"
   ]
  },
  {
   "cell_type": "code",
   "execution_count": 15,
   "metadata": {},
   "outputs": [
    {
     "name": "stdout",
     "output_type": "stream",
     "text": [
      "{'cidade2': {'sp': ['sp2'], 'cb': ['cb2']}, 'cidade4': {'sp': ['sp4'], 'cb': ['cb4']}, 'cidade3': {'sp': ['sp3'], 'cb': ['cb3']}, 'cidade1': {'sp': ['sp1'], 'cb': ['cb1']}}\n"
     ]
    }
   ],
   "source": [
    "coord=({'cidade1':{'sp':['sp1'],'cb':['cb1']},'cidade2':{'sp':['sp2'],'cb':['cb2']},'cidade3':{'sp':['sp3'],'cb':['cb3']},'cidade4':{'sp':['sp4'],'cb':['cb4']}})\n",
    "print(coord)"
   ]
  },
  {
   "cell_type": "markdown",
   "metadata": {},
   "source": [
    "4- Exemplifique o acesso aos elementos de informação das estruturas criadas na questão anterior."
   ]
  },
  {
   "cell_type": "code",
   "execution_count": 16,
   "metadata": {},
   "outputs": [
    {
     "data": {
      "text/plain": [
       "[1.8]"
      ]
     },
     "execution_count": 16,
     "metadata": {},
     "output_type": "execute_result"
    }
   ],
   "source": [
    "registro['Nomepaciente1']['altura'] #qual a altura do paciente 1"
   ]
  },
  {
   "cell_type": "code",
   "execution_count": 17,
   "metadata": {},
   "outputs": [
    {
     "data": {
      "text/plain": [
       "'rgb32'"
      ]
     },
     "execution_count": 17,
     "metadata": {},
     "output_type": "execute_result"
    }
   ],
   "source": [
    "matriz[2][1] #qual informação da terceira linha segunda coluna"
   ]
  },
  {
   "cell_type": "code",
   "execution_count": 18,
   "metadata": {},
   "outputs": [
    {
     "data": {
      "text/plain": [
       "['sp3']"
      ]
     },
     "execution_count": 18,
     "metadata": {},
     "output_type": "execute_result"
    }
   ],
   "source": [
    "coord['cidade3']['sp'] #qual a coordenada da sede da prefeitura da cidade 3"
   ]
  },
  {
   "cell_type": "markdown",
   "metadata": {},
   "source": [
    "5- Explique o que são, exemplifique, e mostre algumas características de:  \n",
    "\n",
    "+ Tipos mutáveis e tipos imutáveis  \n",
    "+ Tipos \"container\"\n",
    "+ Tipos sequenciais\n"
   ]
  },
  {
   "cell_type": "markdown",
   "metadata": {
    "collapsed": true
   },
   "source": [
    "No caso do tipo mutável você pode fazer alterações (como por exemplo no tipo lista), já no tipo imutável não; em outras palavras, um objeto do tipo imutável não pode sofrer alterações em seu estado, como por exemplo no tipo tupla. O tipo container é um objeto que contém um número arbitrário de outros objetos, e é um tipo sobre o qual você pode iterar; exemplos do tipo container são o tipo conjunto e o tipo dicionário. O tipo sequencial, por sua vez, pode ser 'fatiado', ou seja, você pode acessar um elemento contido nesse tipo de acordo com seu índice, exemplos são o tipo lista e o tipo string.\n",
    "- vale notar que toda sequência é um container, mas nem todo container é uma sequência."
   ]
  },
  {
   "cell_type": "markdown",
   "metadata": {},
   "source": [
    "6- Exemplifique chamadas de métodos em variáveis associadas a tipos de dados que:  \n",
    "+ Não modifiquem a variável e não retornem valores à chamada do método \n",
    "+ Modifiquem a variável mas não retornem valores à chamada do método\n",
    "+ Não modifiquem a variável mas retornem valores à chamada do método\n",
    "+ Modifiquem a variável e retornem valores à chamada do método  "
   ]
  },
  {
   "cell_type": "code",
   "execution_count": 19,
   "metadata": {
    "collapsed": true
   },
   "outputs": [],
   "source": [
    "ex1=(1,2,3,243)"
   ]
  },
  {
   "cell_type": "code",
   "execution_count": 20,
   "metadata": {
    "collapsed": true
   },
   "outputs": [],
   "source": [
    "list(ex1).append(5)"
   ]
  },
  {
   "cell_type": "code",
   "execution_count": 21,
   "metadata": {},
   "outputs": [
    {
     "name": "stdout",
     "output_type": "stream",
     "text": [
      "(1, 2, 3, 243)\n"
     ]
    }
   ],
   "source": [
    "print(ex1)     #não modifica a variável e não retorna valor"
   ]
  },
  {
   "cell_type": "code",
   "execution_count": 22,
   "metadata": {
    "collapsed": true
   },
   "outputs": [],
   "source": [
    "ex2=[1,2,3]"
   ]
  },
  {
   "cell_type": "code",
   "execution_count": 23,
   "metadata": {
    "collapsed": true
   },
   "outputs": [],
   "source": [
    "ex2.append(44) #modifica a variável mas não retorna valor"
   ]
  },
  {
   "cell_type": "code",
   "execution_count": 24,
   "metadata": {},
   "outputs": [
    {
     "name": "stdout",
     "output_type": "stream",
     "text": [
      "[1, 2, 3, 44]\n"
     ]
    }
   ],
   "source": [
    "print(ex2)"
   ]
  },
  {
   "cell_type": "code",
   "execution_count": 25,
   "metadata": {
    "collapsed": true
   },
   "outputs": [],
   "source": [
    "ex3=(1,2,3,4,12341234)"
   ]
  },
  {
   "cell_type": "code",
   "execution_count": 26,
   "metadata": {},
   "outputs": [
    {
     "data": {
      "text/plain": [
       "{1, 2, 3, 4, 12341234}"
      ]
     },
     "execution_count": 26,
     "metadata": {},
     "output_type": "execute_result"
    }
   ],
   "source": [
    "set(ex3)        #não modifica a variável mas retorna valor"
   ]
  },
  {
   "cell_type": "code",
   "execution_count": 27,
   "metadata": {},
   "outputs": [
    {
     "name": "stdout",
     "output_type": "stream",
     "text": [
      "(1, 2, 3, 4, 12341234)\n"
     ]
    }
   ],
   "source": [
    "print(ex3)      "
   ]
  },
  {
   "cell_type": "code",
   "execution_count": 28,
   "metadata": {
    "collapsed": true
   },
   "outputs": [],
   "source": [
    "ex4=[1,2,3,234143]"
   ]
  },
  {
   "cell_type": "code",
   "execution_count": 29,
   "metadata": {},
   "outputs": [
    {
     "data": {
      "text/plain": [
       "234143"
      ]
     },
     "execution_count": 29,
     "metadata": {},
     "output_type": "execute_result"
    }
   ],
   "source": [
    "ex4.pop()        #modifica a variável e retorna valor"
   ]
  },
  {
   "cell_type": "code",
   "execution_count": 30,
   "metadata": {},
   "outputs": [
    {
     "name": "stdout",
     "output_type": "stream",
     "text": [
      "[1, 2, 3]\n"
     ]
    }
   ],
   "source": [
    "print(ex4)"
   ]
  },
  {
   "cell_type": "markdown",
   "metadata": {},
   "source": [
    "7- Exemplifique o uso de métodos para:  \n",
    "+ Testar se uma string pode ser convertida para um inteiro  \n",
    "+ Testar se um conjunto é subconjunto de outro\n",
    "+ Concatenar duas listas\n",
    "+ Contar as ocorrências de um elemento em uma lista"
   ]
  },
  {
   "cell_type": "markdown",
   "metadata": {
    "collapsed": true
   },
   "source": [
    "Para testar se uma string pode ser convertida para um inteiro basta usar o comando int, a forma 'int(sua string aqui). Se der uma mensagem de erro, não é possível converter a string para um inteiro."
   ]
  },
  {
   "cell_type": "code",
   "execution_count": 31,
   "metadata": {
    "collapsed": true
   },
   "outputs": [],
   "source": [
    "uh={1,2}\n",
    "buh={1,2,3,4}"
   ]
  },
  {
   "cell_type": "code",
   "execution_count": 32,
   "metadata": {},
   "outputs": [
    {
     "data": {
      "text/plain": [
       "True"
      ]
     },
     "execution_count": 32,
     "metadata": {},
     "output_type": "execute_result"
    }
   ],
   "source": [
    "uh.issubset(buh)  #testando se um conjunto é subconjunto de outro"
   ]
  },
  {
   "cell_type": "code",
   "execution_count": 33,
   "metadata": {
    "collapsed": true
   },
   "outputs": [],
   "source": [
    "tuh=[1,2,3]\n",
    "ruh=[3,3,4,5]"
   ]
  },
  {
   "cell_type": "code",
   "execution_count": 34,
   "metadata": {},
   "outputs": [
    {
     "data": {
      "text/plain": [
       "[1, 2, 3, 3, 3, 4, 5]"
      ]
     },
     "execution_count": 34,
     "metadata": {},
     "output_type": "execute_result"
    }
   ],
   "source": [
    "tuh+ruh           #concatenando duas listas"
   ]
  },
  {
   "cell_type": "code",
   "execution_count": 35,
   "metadata": {},
   "outputs": [
    {
     "data": {
      "text/plain": [
       "2"
      ]
     },
     "execution_count": 35,
     "metadata": {},
     "output_type": "execute_result"
    }
   ],
   "source": [
    "ruh.count(3)      #contando as ocorrências de um elementos em uma lista"
   ]
  },
  {
   "cell_type": "markdown",
   "metadata": {},
   "source": [
    "Deescreva, em linhas gerais, o que é uma linguagem de programação, e para que serve.  "
   ]
  },
  {
   "cell_type": "markdown",
   "metadata": {},
   "source": [
    "É uma maneira de comunicar instruções ao computador. Uma linguagem de programação serve para facilitar a comunicação entre quem programa e o hardware."
   ]
  },
  {
   "cell_type": "markdown",
   "metadata": {},
   "source": [
    "Feedback: o que você está achando do curso até agora?  "
   ]
  },
  {
   "cell_type": "markdown",
   "metadata": {},
   "source": [
    "Muito interessante e bem planejado. Em todas as aulas é repassada uma grande quantidade de informação e conhecimento, de maneira relativamente bem estruturada, o que gera interesse na disciplina. Ademais, o material disponibilizado auxilia no acompanhamento das aulas.\n",
    "\n",
    "A maior parte do conteúdo abordado é novidade para mim, destarte, com relação ao meu desempenho na consecução dos exercícios aqui propostos, me confundi um pouco no uso dos diferentes tipos e métodos. Acredito que no decorrer do tempo e das aulas devo me habituar melhor ao uso de cada um deles. \n",
    "\n",
    "Assim, conforme o acima exposto, a experiência com o curso tem sido positiva até então, e espero que possamos realizar cada vez mais exercícios nas aulas - ou em listas, pois acredito ser este um grande aliado para fixação do conteúdo de maneira mais eficaz. Não obstante, acho válido pontuar que a paciência do professor para responder as mais diversas perguntas em sala de aula tem também grande influência na visão positiva do curso."
   ]
  },
  {
   "cell_type": "markdown",
   "metadata": {},
   "source": []
  }
 ],
 "metadata": {
  "kernelspec": {
   "display_name": "Python 3",
   "language": "python",
   "name": "python3"
  },
  "language_info": {
   "codemirror_mode": {
    "name": "ipython",
    "version": 3
   },
   "file_extension": ".py",
   "mimetype": "text/x-python",
   "name": "python",
   "nbconvert_exporter": "python",
   "pygments_lexer": "ipython3",
   "version": "3.5.2+"
  }
 },
 "nbformat": 4,
 "nbformat_minor": 2
}
