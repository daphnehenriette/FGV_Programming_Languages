{
 "cells": [
  {
   "cell_type": "markdown",
   "metadata": {},
   "source": [
    "### Exercícios comparativos de linguagens:"
   ]
  },
  {
   "cell_type": "markdown",
   "metadata": {},
   "source": [
    "1) Dado os seguintes algoritmos em linguagens específicas, crie um algoritmo equivalente em linguagem Python\n",
    "\n",
    "https://rosettacode.org/wiki/Sorting_algorithms/Quicksort  "
   ]
  },
  {
   "cell_type": "raw",
   "metadata": {},
   "source": [
    "# R\n",
    "\n",
    "qsort <- function(v) {\n",
    "  if (length(v) > 1) \n",
    "  {\n",
    "    pivot <- (min(v) + max(v))/2.0  # Could also use pivot <- median(v)\n",
    "    c(qsort(v[v < pivot]), v[v == pivot], qsort(v[v > pivot])) \n",
    "  } else v\n",
    "}\n",
    " \n",
    "N <- 100\n",
    "vs <- runif(N)\n",
    "system.time(u <- qsort(vs))\n",
    "print(u)"
   ]
  },
  {
   "cell_type": "raw",
   "metadata": {},
   "source": [
    "# Common Lisp\n",
    "\n",
    "(defun quicksort (list &aux (pivot (car list)) )\n",
    "  (if (cdr list)\n",
    "      (nconc (quicksort (remove-if-not #'(lambda (x) (< x pivot)) list))\n",
    "             (remove-if-not #'(lambda (x) (= x pivot)) list)\n",
    "             (quicksort (remove-if-not #'(lambda (x) (> x pivot)) list)))\n",
    "      list))"
   ]
  },
  {
   "cell_type": "code",
   "execution_count": null,
   "metadata": {
    "collapsed": true
   },
   "outputs": [],
   "source": [
    "#C\n",
    "\n",
    "#include <stdio.h>\n",
    "void quicksort(int *A, int len);\n",
    " \n",
    "int main (void) {\n",
    "  int a[] = {4, 65, 2, -31, 0, 99, 2, 83, 782, 1};\n",
    "  int n = sizeof a / sizeof a[0];\n",
    "  int i;\n",
    "  for (i = 0; i < n; i++) {\n",
    "    printf(\"%d \", a[i]);\n",
    "  }\n",
    "  printf(\"\\n\");\n",
    "  quicksort(a, n);\n",
    "  for (i = 0; i < n; i++) {\n",
    "    printf(\"%d \", a[i]);\n",
    "  }\n",
    "  printf(\"\\n\");\n",
    "  return 0;\n",
    "}"
   ]
  },
  {
   "cell_type": "code",
   "execution_count": null,
   "metadata": {
    "collapsed": true
   },
   "outputs": [],
   "source": [
    "# Python\n",
    "\n",
    "def quickSort(arr):\n",
    "    less = []\n",
    "    pivotList = []\n",
    "    more = []\n",
    "    if len(arr) <= 1:\n",
    "        return arr\n",
    "    else:\n",
    "        pivot = arr[0]\n",
    "        for i in arr:\n",
    "            if i < pivot:\n",
    "                less.append(i)\n",
    "            elif i > pivot:\n",
    "                more.append(i)\n",
    "            else:\n",
    "                pivotList.append(i)\n",
    "        less = quickSort(less)\n",
    "        more = quickSort(more)\n",
    "        return less + pivotList + more\n",
    " \n",
    "a = [4, 65, 2, -31, 0, 99, 83, 782, 1]\n",
    "a = quickSort(a)"
   ]
  },
  {
   "cell_type": "markdown",
   "metadata": {},
   "source": [
    "2) Escreva um código em R para receber um vetor de inteiros e retornar um vetor com os inteiros pares dentre os inteiros da primeira lista"
   ]
  },
  {
   "cell_type": "code",
   "execution_count": null,
   "metadata": {
    "collapsed": true
   },
   "outputs": [],
   "source": [
    "v <- 1:20\n",
    "    \n",
    "filtra.pares <- function(v) {\n",
    "  v <- v[v%%2 == 0]\n",
    "  print(v)\n",
    "  }\n",
    "\n",
    "filtra.pares(v)"
   ]
  },
  {
   "cell_type": "markdown",
   "metadata": {},
   "source": [
    "3) Escreva um código em Common Lisp para receber um vetor de inteiros e retornar um vetor com os inteiros pares dentre os inteiros da primeira lista"
   ]
  },
  {
   "cell_type": "code",
   "execution_count": null,
   "metadata": {
    "collapsed": true
   },
   "outputs": [],
   "source": [
    "(setq v2 #(1 2 3 4 5 6 7 8 9 10))\n",
    "(remove-if-not 'evenp v2)"
   ]
  },
  {
   "cell_type": "markdown",
   "metadata": {},
   "source": [
    "4) Faça um programa em Python equivalente ao seguinte programa em R:"
   ]
  },
  {
   "cell_type": "code",
   "execution_count": null,
   "metadata": {},
   "outputs": [],
   "source": [
    "function (x) \n",
    "{\n",
    "  romans <- c(\"M\", \"CM\", \"D\", \"CD\", \"C\", \"XC\", \"L\", \"XL\", \"X\", \n",
    "              \"IX\", \"V\", \"IV\", \"I\")\n",
    "  numbers <- c(1000L, 900L, 500L, 400L, 100L, 90L, 50L, 40L, \n",
    "               10L, 9L, 5L, 4L, 1L)\n",
    "  out <- integer(length(x))\n",
    "  ind <- is.na(x)\n",
    "  out[ind] <- NA\n",
    "  if (any(!ind)) {\n",
    "    y <- toupper(x[!ind])\n",
    "    y <- gsub(\"CM\", \"DCCCC\", y)\n",
    "    y <- gsub(\"CD\", \"CCCC\", y)\n",
    "    y <- gsub(\"XC\", \"LXXXX\", y)\n",
    "    y <- gsub(\"XL\", \"XXXX\", y)\n",
    "    y <- gsub(\"IX\", \"VIIII\", y)\n",
    "    y <- gsub(\"IV\", \"IIII\", y)\n",
    "    ok <- grepl(\"^M{,3}D?C{,4}L?X{,4}V?I{,4}$\", y)\n",
    "    if (any(!ok)) {\n",
    "      warning(sprintf(ngettext(sum(!ok), \"invalid roman numeral: %s\", \n",
    "                               \"invalid roman numerals: %s\"), paste(x[!ind][!ok], \n",
    "                                                                    collapse = \" \")), domain = NA)\n",
    "      out[!ind][!ok] <- NA\n",
    "    }\n",
    "    if (any(ok)) \n",
    "      out[!ind][ok] <- sapply(strsplit(y[ok], \"\"), function(z) as.integer(sum(numbers[match(z, \n",
    "                                                                                            romans)])))\n",
    "  }\n",
    "  out\n",
    "}"
   ]
  },
  {
   "cell_type": "markdown",
   "metadata": {},
   "source": [
    "5) Faça um programa em Python equivalente ao seguinte programa em C:"
   ]
  },
  {
   "cell_type": "code",
   "execution_count": null,
   "metadata": {},
   "outputs": [],
   "source": [
    "/* A function that prints given number in words */\n",
    "void convert_to_words(char *num)\n",
    "{\n",
    "    int len = strlen(num);  // Get number of digits in given number\n",
    " \n",
    "    /* Base cases */\n",
    "    if (len == 0) {\n",
    "        fprintf(stderr, \"empty string\\n\");\n",
    "        return;\n",
    "    }\n",
    "    if (len > 4) {\n",
    "        fprintf(stderr, \"Length more than 4 is not supported\\n\");\n",
    "        return;\n",
    "    }\n",
    " \n",
    "    /* The first string is not used, it is to make array indexing simple */\n",
    "    char *single_digits[] = { \"zero\", \"one\", \"two\", \"three\", \"four\",\n",
    "                              \"five\", \"six\", \"seven\", \"eight\", \"nine\"};\n",
    " \n",
    "    /* The first string is not used, it is to make array indexing simple */\n",
    "    char *two_digits[] = {\"\", \"ten\", \"eleven\", \"twelve\", \"thirteen\", \"fourteen\",\n",
    "                     \"fifteen\", \"sixteen\", \"seventeen\", \"eighteen\", \"nineteen\"};\n",
    " \n",
    "    /* The first two string are not used, they are to make array indexing simple*/\n",
    "    char *tens_multiple[] = {\"\", \"\", \"twenty\", \"thirty\", \"forty\", \"fifty\",\n",
    "                             \"sixty\", \"seventy\", \"eighty\", \"ninety\"};\n",
    " \n",
    "    char *tens_power[] = {\"hundred\", \"thousand\"};\n",
    " \n",
    "    /* Used for debugging purpose only */\n",
    "    printf(\"\\n%s: \", num);\n",
    " \n",
    "    /* For single digit number */\n",
    "    if (len == 1) {\n",
    "        printf(\"%s\\n\", single_digits[*num - '0']);\n",
    "        return;\n",
    "    }\n",
    " \n",
    "     /* Iterate while num is not '\\0' */\n",
    "     while (*num != '\\0') {\n",
    " \n",
    "        /* Code path for first 2 digits */\n",
    "        if (len >= 3) {\n",
    "            if (*num -'0' != 0) {\n",
    "                printf(\"%s \", single_digits[*num - '0']);\n",
    "                printf(\"%s \", tens_power[len-3]); // here len can be 3 or 4\n",
    "            }\n",
    "            --len;\n",
    "        }\n",
    " \n",
    "        /* Code path for last 2 digits */\n",
    "        else {\n",
    "            /* Need to explicitly handle 10-19. Sum of the two digits is\n",
    "               used as index of \"two_digits\" array of strings */\n",
    "            if (*num == '1') {\n",
    "                int sum = *num - '0' + *(num + 1)- '0';\n",
    "                printf(\"%s\\n\", two_digits[sum]);\n",
    "                return;\n",
    "            }\n",
    " \n",
    "            /* Need to explicitely handle 20 */\n",
    "            else if (*num == '2' && *(num + 1) == '0') {\n",
    "                printf(\"twenty\\n\");\n",
    "                return;\n",
    "            }\n",
    " \n",
    "            /* Rest of the two digit numbers i.e., 21 to 99 */\n",
    "            else {\n",
    "                int i = *num - '0';\n",
    "                printf(\"%s \", i? tens_multiple[i]: \"\");\n",
    "                ++num;\n",
    "                if (*num != '0')\n",
    "                    printf(\"%s \", single_digits[*num - '0']);\n",
    "            }\n",
    "        }\n",
    "        ++num;\n",
    "    }\n",
    "}\n",
    "\n",
    "/* Driver program to test above function */\n",
    "int main(void)\n",
    "{\n",
    "    convert_to_words(\"9923\");\n",
    "    convert_to_words(\"523\");\n",
    "    convert_to_words(\"89\");\n",
    "    convert_to_words(\"8989\");\n",
    " \n",
    "    return 0;\n",
    "}"
   ]
  },
  {
   "cell_type": "code",
   "execution_count": null,
   "metadata": {},
   "outputs": [],
   "source": []
  },
  {
   "cell_type": "markdown",
   "metadata": {},
   "source": [
    "### Exercícios com bancos de dados"
   ]
  },
  {
   "cell_type": "markdown",
   "metadata": {},
   "source": [
    "1) Dada a tabela \"pacientes\", no banco de dados \"Medicina\", ilustrada abaixo:  \n",
    "\n",
    "\n",
    "| idade | altura | peso | pressao_d | pressao_s |nome  |\n",
    "|-------|--------|------|-----------|-----------|------|\n",
    "| 23    | 183    | 73   | 8         | 12        |Rubens|\n",
    "| 42    | 167    | 60   | 7         | 11        |Maria |\n",
    "| 34    | 177    | 77   | 9         | 13        |Carlos|\n",
    "\n",
    "\n",
    "\n",
    "Escreva um script em Python + SQL para construir um dicionário tendo os nomes como chave e as idades como valores. "
   ]
  },
  {
   "cell_type": "code",
   "execution_count": 1,
   "metadata": {},
   "outputs": [],
   "source": [
    "import sqlite3\n",
    "\n",
    "conn = sqlite3.connect('Medicina.db')\n",
    "cur = conn.cursor()"
   ]
  },
  {
   "cell_type": "code",
   "execution_count": 2,
   "metadata": {},
   "outputs": [],
   "source": [
    "# Create table\n",
    "cur.execute('''CREATE TABLE IF NOT EXISTS pacientes\n",
    "             (idade real, altura real, peso real, pressao_d real, pressao_s real, nome text)''')\n",
    "\n",
    "# Insert a row of data\n",
    "cur.execute(\"INSERT INTO pacientes VALUES (23, 183, 73, 8, 12, 'Rubens')\")\n",
    "cur.execute(\"INSERT INTO pacientes VALUES (42, 167, 60, 7, 11, 'Maria')\")\n",
    "cur.execute(\"INSERT INTO pacientes VALUES (34, 177, 77, 9, 13, 'Carlos')\")\n",
    "\n",
    "# Save (commit) the changes\n",
    "conn.commit()\n",
    "\n",
    "# We can also close the connection if we are done with it.\n",
    "# Just be sure any changes have been committed or they will be lost.\n",
    "conn.close()"
   ]
  },
  {
   "cell_type": "code",
   "execution_count": 5,
   "metadata": {},
   "outputs": [],
   "source": [
    "conn = sqlite3.connect('Medicina.db')\n",
    "cur = conn.cursor()"
   ]
  },
  {
   "cell_type": "code",
   "execution_count": 6,
   "metadata": {},
   "outputs": [
    {
     "name": "stdout",
     "output_type": "stream",
     "text": [
      "(34.0, 177.0, 77.0, 9.0, 13.0, 'Carlos')\n",
      "(42.0, 167.0, 60.0, 7.0, 11.0, 'Maria')\n",
      "(23.0, 183.0, 73.0, 8.0, 12.0, 'Rubens')\n"
     ]
    }
   ],
   "source": [
    "for row in cur.execute('SELECT * FROM pacientes ORDER BY nome'):\n",
    "        print(row)"
   ]
  },
  {
   "cell_type": "code",
   "execution_count": 8,
   "metadata": {},
   "outputs": [
    {
     "name": "stdout",
     "output_type": "stream",
     "text": [
      "('Carlos', 34.0)\n",
      "('Maria', 42.0)\n",
      "('Rubens', 23.0)\n"
     ]
    },
    {
     "data": {
      "text/plain": [
       "{'Carlos': 34.0, 'Maria': 42.0, 'Rubens': 23.0}"
      ]
     },
     "execution_count": 8,
     "metadata": {},
     "output_type": "execute_result"
    }
   ],
   "source": [
    "dic = {}\n",
    "for row in cur.execute('SELECT nome, idade FROM pacientes ORDER BY nome'):\n",
    "        print(row)\n",
    "        dic[row[0]] = row[1]\n",
    "dic"
   ]
  },
  {
   "cell_type": "markdown",
   "metadata": {},
   "source": [
    "2) Conecte ao banco Python/Dados/chinook.sqlite e inspecione a lista de tabelas"
   ]
  },
  {
   "cell_type": "code",
   "execution_count": 12,
   "metadata": {},
   "outputs": [],
   "source": [
    "conn = sqlite3.connect('../Dados/chinook.sqlite')\n",
    "cur = conn.cursor()"
   ]
  },
  {
   "cell_type": "code",
   "execution_count": 19,
   "metadata": {},
   "outputs": [
    {
     "name": "stdout",
     "output_type": "stream",
     "text": [
      "('albums',)\n",
      "('sqlite_sequence',)\n",
      "('artists',)\n",
      "('customers',)\n",
      "('employees',)\n",
      "('genres',)\n",
      "('invoices',)\n",
      "('invoice_items',)\n",
      "('media_types',)\n",
      "('playlists',)\n",
      "('playlist_track',)\n",
      "('tracks',)\n",
      "('sqlite_stat1',)\n"
     ]
    }
   ],
   "source": [
    "for row in cur.execute(\"SELECT name FROM sqlite_master WHERE type='table';\"):\n",
    "    print(row)"
   ]
  },
  {
   "cell_type": "markdown",
   "metadata": {},
   "source": [
    "3) Quais artistas lançaram mais albuns?"
   ]
  },
  {
   "cell_type": "code",
   "execution_count": null,
   "metadata": {},
   "outputs": [],
   "source": []
  },
  {
   "cell_type": "markdown",
   "metadata": {},
   "source": [
    "4) Quais gêneros musicais contêm mais faixas gravadas(tracks)?"
   ]
  },
  {
   "cell_type": "code",
   "execution_count": null,
   "metadata": {},
   "outputs": [],
   "source": []
  },
  {
   "cell_type": "markdown",
   "metadata": {},
   "source": [
    "5) Quais os clientes (customers) que gastaram mais dinheiro em compras (invoices)?"
   ]
  },
  {
   "cell_type": "code",
   "execution_count": null,
   "metadata": {},
   "outputs": [],
   "source": []
  },
  {
   "cell_type": "markdown",
   "metadata": {},
   "source": [
    "6) Quais foram as faixas mais compradas, e de qual artista são?"
   ]
  },
  {
   "cell_type": "code",
   "execution_count": null,
   "metadata": {},
   "outputs": [],
   "source": []
  },
  {
   "cell_type": "markdown",
   "metadata": {},
   "source": [
    "7) Crie um histograma de faixas mais compradas, usando o matplotlib  \n",
    "https://matplotlib.org/devdocs/api/_as_gen/matplotlib.pyplot.hist.html"
   ]
  },
  {
   "cell_type": "code",
   "execution_count": null,
   "metadata": {},
   "outputs": [],
   "source": []
  }
 ],
 "metadata": {
  "kernelspec": {
   "display_name": "Python 3",
   "language": "python",
   "name": "python3"
  },
  "language_info": {
   "codemirror_mode": {
    "name": "ipython",
    "version": 3
   },
   "file_extension": ".py",
   "mimetype": "text/x-python",
   "name": "python",
   "nbconvert_exporter": "python",
   "pygments_lexer": "ipython3",
   "version": "3.5.2"
  }
 },
 "nbformat": 4,
 "nbformat_minor": 2
}
