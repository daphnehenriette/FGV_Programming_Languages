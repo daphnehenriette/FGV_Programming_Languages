{
 "cells": [
  {
   "cell_type": "markdown",
   "metadata": {},
   "source": [
    "Exercícios de Revisão\n",
    "--\n",
    "Professor: Renato Rocha Souza  \n",
    "--"
   ]
  },
  {
   "cell_type": "code",
   "execution_count": 186,
   "metadata": {
    "collapsed": true
   },
   "outputs": [],
   "source": [
    "import itertools\n",
    "import random\n",
    "import numpy as np\n",
    "import matplotlib.pyplot as plt\n",
    "import urllib\n",
    "import pandas as pd\n",
    "import requests\n",
    "from bs4 import BeautifulSoup as bs\n",
    "import networkx as nx\n",
    "%matplotlib inline"
   ]
  },
  {
   "cell_type": "markdown",
   "metadata": {},
   "source": [
    "Em quais tipos de dados do Python (que você conhece) que se pode iterar (com o comando for, por exemplo)? Exemplifique para cada tipo."
   ]
  },
  {
   "cell_type": "markdown",
   "metadata": {
    "collapsed": true
   },
   "source": [
    "- R. tipos container, como por exemplo listas, strings e tuplas."
   ]
  },
  {
   "cell_type": "markdown",
   "metadata": {},
   "source": [
    "Escreva uma função que receba um número romano e retorne o equivalente em algarismos indo-arábicos"
   ]
  },
  {
   "cell_type": "code",
   "execution_count": 94,
   "metadata": {},
   "outputs": [],
   "source": [
    "def rom_arab(num):\n",
    "    num = str.upper(num)[::-1]\n",
    "    tam = len(num)\n",
    "    \n",
    "    lista=['I','V','X','L','C','D','M']  \n",
    "    indo=[1,5,10,50,100,500,1000]  \n",
    "    iterar=range(1,len(num)) #0-3, 0,1,2\n",
    "    \n",
    "    numero=indo[lista.index(num[0])]\n",
    "    \n",
    "    for i in iterar:\n",
    "        li=lista.index(num[i])\n",
    "        lii=lista.index(num[i-1])\n",
    "            \n",
    "        if li < lii:\n",
    "            numero -= indo[li]\n",
    "        else:\n",
    "            numero += indo[li]\n",
    "        \n",
    "    print(numero)\n",
    "        "
   ]
  },
  {
   "cell_type": "code",
   "execution_count": 95,
   "metadata": {},
   "outputs": [
    {
     "name": "stdout",
     "output_type": "stream",
     "text": [
      "1001\n"
     ]
    }
   ],
   "source": [
    "rom_arab('mi')"
   ]
  },
  {
   "cell_type": "markdown",
   "metadata": {},
   "source": [
    "#### Validação de CPF\n",
    "\n",
    "O CPF é formado por 11 dígitos numéricos que seguem a máscara “###.###.###-##”, a verificação do CPF acontece utilizando os 9 primeiros dígitos e, com um cálculo simples, verificando se o resultado corresponde aos dois últimos dígitos (depois do sinal “-“).\n",
    "\n",
    "Vamos usar como exemplo, um CPF fictício “529.982.247-25”.\n",
    "\n",
    "#### Validação do primeiro dígito após o \"-\"\n",
    "\n",
    "Primeiramente multiplicam-se os 9 primeiros dígitos pela sequência decrescente de números de 10 à 2 e soma os resultados. Assim:\n",
    "\n",
    "    5 * 10 + 2 * 9 + 9 * 8 + 9 * 7 + 8 * 6 + 2 * 5 + 2 * 4 + 4 * 3 + 7 * 2\n",
    "\n",
    "O resultado do nosso exemplo é: 295\n",
    "    \n",
    "O próximo passo da verificação também é simples, basta multiplicarmos esse resultado por 10 e dividirmos por 11.\n",
    "\n",
    "    295 * 10 / 11\n",
    "\n",
    "O resultado que nos interessa na verdade é o RESTO da divisão. Se ele for igual ao primeiro dígito verificador (primeiro dígito depois do ‘-‘), a primeira parte da validação está correta.\n",
    "\n",
    "Observação Importante: Se o resto da divisão for igual a 10, nós o consideramos como 0.\n",
    "\n",
    "Vamos conferir o primeiro dígito verificador do nosso exemplo. O resultado da divisão acima é ‘268’ e o RESTO é 2\n",
    "\n",
    "Isso significa que o nosso CPF exemplo passou na validação do primeiro dígito.\n",
    "\n",
    "#### Validação do segundo dígito após o \"-\"\n",
    "\n",
    "A validação do segundo dígito é semelhante à primeira, porém vamos considerar os 9 primeiros dígitos, mais o primeiro dígito verificador, e vamos multiplicar esses 10 números pela sequencia decrescente de 11 a 2. Vejamos:\n",
    "\n",
    "    5 * 11 + 2 * 10 + 9 * 9 + 9 * 8 + 8 * 7 + 2 * 6 + 2 * 5 + 4 * 4 + 7 * 3 + 2 * 2\n",
    "\n",
    "O resultado é: 347\n",
    "\n",
    "Seguindo o mesmo processo da primeira verificação, multiplicamos por 10 e dividimos por 11.\n",
    "\n",
    "    347 * 10 / 11\n",
    "\n",
    "Verificando o RESTO, como fizemos anteriormente, temos que o resultado da divisão é ‘315’ e o RESTO é 5\n",
    "\n",
    "Verificamos, se o resto corresponde ao segundo dígito verificador. Com essa verificação, constatamos que o CPF 529.982.247-25 é válido.\n",
    "\n",
    "Existe alguns casos de CPFs que passam nessa validação que expliquei, mas que ainda são inválidos. É os caso dos CPFs com dígitos repetidos (111.111.111-11, 222.222.222-22, …). Esses CPF atendem à validação, mas ainda são considerados inválidos.\n",
    "\n",
    "#### Crie uma função que receba um CPF e diga se este é válido."
   ]
  },
  {
   "cell_type": "code",
   "execution_count": 322,
   "metadata": {},
   "outputs": [],
   "source": [
    "import re\n",
    "def cpf(arg):\n",
    "    lista=range(2,12)\n",
    "    novoarg = re.sub(r'[^0-9]','',arg)\n",
    "    soma=0\n",
    "    dig1=0\n",
    "    dig2=0\n",
    "    \n",
    "    for repet in range(0,10):\n",
    "        if int(novoarg[repet]) == int(novoarg[repet+1]):\n",
    "            soma+=1\n",
    "    \n",
    "    if soma%10 == 0:\n",
    "        print('cpf com digitos repetidos')\n",
    "            \n",
    "    else:\n",
    "        for i in range(0,9):\n",
    "            dig1 = dig1 + int(novoarg[i])*lista[-i-2]\n",
    "            \n",
    "        teste1 = dig1*10%11\n",
    "        \n",
    "        if teste1 == 10:\n",
    "            teste1 = 0\n",
    "        \n",
    "        if teste1 == int(novoarg[9]):\n",
    "            for i in range(0,10):\n",
    "                dig2 = dig2 + int(novoarg[i])*lista[-i-1]\n",
    "                \n",
    "            if dig2*10%11 == int(novoarg[10]):\n",
    "                print('cpf válido')\n",
    "                \n",
    "            else:\n",
    "                print('cpf inválido no segundo dígito')\n",
    "        \n",
    "        else:\n",
    "            print('cpf inválido no primeiro dígito')"
   ]
  },
  {
   "cell_type": "code",
   "execution_count": 323,
   "metadata": {},
   "outputs": [
    {
     "name": "stdout",
     "output_type": "stream",
     "text": [
      "cpf válido\n"
     ]
    }
   ],
   "source": [
    "cpf('529.982.247-25')"
   ]
  },
  {
   "cell_type": "code",
   "execution_count": 325,
   "metadata": {},
   "outputs": [
    {
     "name": "stdout",
     "output_type": "stream",
     "text": [
      "cpf com digitos repetidos\n"
     ]
    }
   ],
   "source": [
    "cpf('22222222222')"
   ]
  },
  {
   "cell_type": "markdown",
   "metadata": {},
   "source": [
    "Escreva um programa em Python que:\n",
    "+ Leia o arquivo em:  \n",
    "  https://github.com/rsouza/FGV_Programming_Languages/blob/master/Python/Dados/numero_mil_digitos.txt\n",
    "+ Some 1 (um) a cada dígito do arquivo (se for 9, vira 0), e;\n",
    "+ Salve o arquivo novamente no seu disco rígido com o nome de “resultado.txt”.\n",
    "\n",
    "+ Lembre-se dos métodos de arquivo: read(), readline(), readlines() e write().\n",
    "\n",
    "Lembre-se, também, do caractere especial <newline> (\\n).\n",
    "Finalmente, lembre-se do pacote “requests”, se quiser automatizar a leitura do arquivo na web."
   ]
  },
  {
   "cell_type": "code",
   "execution_count": 326,
   "metadata": {},
   "outputs": [
    {
     "data": {
      "text/plain": [
       "'/home/daphne/FGV_Programming_Languages/Python/Exercicios'"
      ]
     },
     "execution_count": 326,
     "metadata": {},
     "output_type": "execute_result"
    }
   ],
   "source": [
    "pwd!"
   ]
  },
  {
   "cell_type": "code",
   "execution_count": 329,
   "metadata": {},
   "outputs": [
    {
     "name": "stdout",
     "output_type": "stream",
     "text": [
      "73167176531330624919225119674426574742355349194934\n",
      "96983520312774506326239578318016984801869478851843\n",
      "85861560789112949495459501737958331952853208805511\n",
      "12540698747158523863050715693290963295227443043557\n",
      "66896648950445244523161731856403098711121722383113\n",
      "62229893423380308135336276614282806444486645238749\n",
      "30358907296290491560440772390713810515859307960866\n",
      "70172427121883998797908792274921901699720888093776\n",
      "65727333001053367881220235421809751254540594752243\n",
      "52584907711670556013604839586446706324415722155397\n",
      "53697817977846174064955149290862569321978468622482\n",
      "83972241375657056057490261407972968652414535100474\n",
      "82166370484403199890008895243450658541227588666881\n",
      "16427171479924442928230863465674813919123162824586\n",
      "17866458359124566529476545682848912883142607690042\n",
      "24219022671055626321111109370544217506941658960408\n",
      "07198403850962455444362981230987879927244284909188\n",
      "84580156166097919133875499200524063689912560717606\n",
      "05886116467109405077541002256983155200055935729725\n",
      "71636269561882670428252483600823257530420752963450\n"
     ]
    }
   ],
   "source": [
    "with open('../Dados/numero_mil_digitos.txt', mode='r') as f:\n",
    "    numero = f.read()\n",
    "    print(numero)"
   ]
  },
  {
   "cell_type": "code",
   "execution_count": 349,
   "metadata": {},
   "outputs": [
    {
     "name": "stdout",
     "output_type": "stream",
     "text": [
      "7316717653133062491922511967442657474235534919493496983520312774506326239578318016984801869478851843858615607891129494954595017379583319528532088055111254069874715852386305071569329096329522744304355766896648950445244523161731856403098711121722383113622298934233803081353362766142828064444866452387493035890729629049156044077239071381051585930796086670172427121883998797908792274921901699720888093776657273330010533678812202354218097512545405947522435258490771167055601360483958644670632441572215539753697817977846174064955149290862569321978468622482839722413756570560574902614079729686524145351004748216637048440319989000889524345065854122758866688116427171479924442928230863465674813919123162824586178664583591245665294765456828489128831426076900422421902267105562632111110937054421750694165896040807198403850962455444362981230987879927244284909188845801561660979191338754992005240636899125607176060588611646710940507754100225698315520005593572972571636269561882670428252483600823257530420752963450\n"
     ]
    }
   ],
   "source": [
    "numero = numero.replace('\\n','')\n",
    "print(numero)\n",
    "\n",
    "resultados = []\n",
    "for i in numero:\n",
    "    i = int(i)+1\n",
    "    if int(i) == 10:\n",
    "        i = 0\n",
    "    resultados.append(i)\n",
    "\n",
    "resultados = str(resultados)"
   ]
  },
  {
   "cell_type": "code",
   "execution_count": 350,
   "metadata": {},
   "outputs": [
    {
     "name": "stdout",
     "output_type": "stream",
     "text": [
      "8427828764244173502033622078553768585346645020504507094631423885617437340689429127095912970589962954969726718902230505065606128480694420639643199166222365170985826963497416182670430107430633855415466877907759061556355634272842967514109822232833494224733309045344914192464473877253939175555977563498504146901830730150267155188340182492162696041807197781283538232994009808019803385032012700831999104887768384441121644789923313465329108623656516058633546369501882278166712471594069755781743552683326640864708928088957285175066250301973670432089579733593940833524867681671685013725180830797635256462115859327748159551420090111990635456176965233869977799227538282580035553039341974576785924020234273935697289775694602356776305876567939590239942537187011533532013378216673743222221048165532861705276907151918209514961073566555473092341098980038355395010299956912672771080202449865003116351747900236718287171699722757821051618865211336709426631116604683083682747370672993781539363594711934368641531863074561\n"
     ]
    }
   ],
   "source": [
    "import string\n",
    "resultados = ''.join(l for l in resultados if l not in string.punctuation)\n",
    "resultados = resultados.replace(\" \",'')\n",
    "print(resultados)"
   ]
  },
  {
   "cell_type": "markdown",
   "metadata": {},
   "source": [
    "Mostre graficamente que $ \\sin ^2 x + \\cos^2 x = 1. $  \n",
    "\n",
    "Dica: para melhor visualização do gráfico, mude a escala dos eixos com $plt.axis([x_{min},x_{max},y_{min},y_{max}])$"
   ]
  },
  {
   "cell_type": "code",
   "execution_count": 352,
   "metadata": {},
   "outputs": [
    {
     "data": {
      "image/png": "[encoded data removed]",
      "text/plain": [
       "<matplotlib.figure.Figure at 0x7fc01a4029b0>"
      ]
     },
     "metadata": {},
     "output_type": "display_data"
    }
   ],
   "source": [
    "x = np.linspace(0, 2 * np.pi, 2000) #distribuicao de numeros entre 0 e 2pi\n",
    "a = (np.sin(x) ** 2)\n",
    "b = (np.cos(x) ** 2)\n",
    "plt.plot(a)\n",
    "plt.plot(b)\n",
    "plt.plot(a+b)\n",
    "plt.show()"
   ]
  },
  {
   "cell_type": "markdown",
   "metadata": {},
   "source": [
    "Vamos testar se o módulo “random” gera mesmo números aleatórios?   \n",
    "Escreva uma função que sorteie 10000 números de 1 a 10 e crie um gráfico (histograma) com a frequência de ocorrência de cada um deles.  "
   ]
  },
  {
   "cell_type": "code",
   "execution_count": 237,
   "metadata": {},
   "outputs": [
    {
     "data": {
      "image/png": "[encoded data removed]",
      "text/plain": [
       "<matplotlib.figure.Figure at 0x7fc01a5143c8>"
      ]
     },
     "metadata": {},
     "output_type": "display_data"
    }
   ],
   "source": [
    "x = np.random.randint(0,10,10000000)\n",
    "plt.hist(x, 20, facecolor='g', alpha=0.5, histtype='stepfilled')\n",
    "plt.show()\n",
    "\n",
    "#num = np.random.randint(0, 10, 10000)\n",
    "\n",
    "#plt.hist(num)\n",
    "#plt.show()"
   ]
  },
  {
   "cell_type": "markdown",
   "metadata": {
    "collapsed": true
   },
   "source": [
    "Escreva uma função que gere uma lista com os n primeiros números primos.    "
   ]
  },
  {
   "cell_type": "code",
   "execution_count": 355,
   "metadata": {
    "collapsed": true
   },
   "outputs": [],
   "source": [
    "def primos(n):\n",
    "    seq = range(3,n+1)\n",
    "    primos = [2]\n",
    "    for candidato in seq:\n",
    "        E_primo = True\n",
    "        for primo in primos:\n",
    "            if candidato%primo == 0:\n",
    "                E_primo = False\n",
    "        if E_primo:\n",
    "            primos.append(candidato)\n",
    "    print(primos)"
   ]
  },
  {
   "cell_type": "code",
   "execution_count": 358,
   "metadata": {},
   "outputs": [
    {
     "name": "stdout",
     "output_type": "stream",
     "text": [
      "[2, 3, 5, 7, 11, 13, 17]\n"
     ]
    }
   ],
   "source": [
    "primos(17)"
   ]
  },
  {
   "cell_type": "markdown",
   "metadata": {},
   "source": [
    "Escreva uma função que gere uma lista com os n primeiros números da sequência de fibonacci  "
   ]
  },
  {
   "cell_type": "code",
   "execution_count": 365,
   "metadata": {
    "collapsed": true
   },
   "outputs": [],
   "source": [
    "def fibbo(n):\n",
    "    seq = [1,1]\n",
    "    for i in range(0,n-2):\n",
    "        seq.append(seq[i]+seq[i+1])\n",
    "    print(seq)"
   ]
  },
  {
   "cell_type": "code",
   "execution_count": 369,
   "metadata": {},
   "outputs": [
    {
     "name": "stdout",
     "output_type": "stream",
     "text": [
      "[1, 1, 2, 3, 5, 8, 13, 21, 34]\n"
     ]
    }
   ],
   "source": [
    "fibbo(9)"
   ]
  },
  {
   "cell_type": "markdown",
   "metadata": {
    "collapsed": true
   },
   "source": [
    "Escreva uma função que receba n listas de números e “plote” estas sequências em um único gráfico."
   ]
  },
  {
   "cell_type": "code",
   "execution_count": 3,
   "metadata": {
    "collapsed": true
   },
   "outputs": [],
   "source": [
    "seq1 = [1,2,3,4,5,6]\n",
    "seq2 = [8,6,5,2,3,1]\n",
    "seq3 = [8,3,5,2,4,1]\n",
    "seq4 = [3,7,9,2,4,8,7,5,3,7]\n",
    "\n",
    "def plota_seq(*seqs):\n",
    "    for seq in seqs:\n",
    "        plt.plot(seq)\n",
    "        \n",
    "def plota_seq_lado_lado(*seqs):\n",
    "    num = len(seqs)\n",
    "    fig, ax = plt.subplots(nrows=1, ncols=num, figsize=(12,6))\n",
    "    for idx, seq in enumerate(seqs):\n",
    "        ax[idx].plot(seq)"
   ]
  },
  {
   "cell_type": "code",
   "execution_count": 4,
   "metadata": {},
   "outputs": [
    {
     "data": {
      "image/png": "[encoded data removed]",
      "text/plain": [
       "<matplotlib.figure.Figure at 0x7f16112b01d0>"
      ]
     },
     "metadata": {},
     "output_type": "display_data"
    }
   ],
   "source": [
    "#pLota_seq(seq1,seq2,seq3, seq4)\n",
    "plota_seq_lado_lado(seq1,seq2,seq3, seq4)"
   ]
  },
  {
   "cell_type": "markdown",
   "metadata": {},
   "source": [
    "Implemente funções em Python que tenham as mesmas funcionalidade dos comandos \"range\", \"zip\", \"map\", \"filter\" e \"reduce\""
   ]
  },
  {
   "cell_type": "markdown",
   "metadata": {
    "collapsed": true
   },
   "source": [
    "https://pythonhelp.wordpress.com/2012/05/13/map-reduce-filter-e-lambda/\n",
    "- map: uma função a cada elemento de uma lista\n",
    "- reduce: aplica uma função a todos os valores do conjunto, juntando eles. (ex. faz a soma dos elementos de uma lista)\n",
    "- filter: filtra com base em uma função, aplicada a uma lista de valores filter(função, lista de valores)\n",
    "###### *lambda é uma função anônima\n",
    "- valores = [10, 4, -1, 3, 5, -9, -11]\n",
    "- print filter(lambda x: x > 0, valores)\n",
    "- [10, 4, 3, 5]\n",
    "#### zip e range\n",
    "- zip: junta listas de acordo com os índices\n",
    "- range: óbvio"
   ]
  },
  {
   "cell_type": "code",
   "execution_count": null,
   "metadata": {
    "collapsed": true
   },
   "outputs": [],
   "source": []
  },
  {
   "cell_type": "markdown",
   "metadata": {},
   "source": [
    "Escreva uma função em Python que receba uma string e devolva quatro listas: uma com as palavras em minúsculas, outra com as palavras todas em maiúsculas, uma com as palavras que comecem em maiúsculas, e outra com o que não se encaixar nas listas anteriores."
   ]
  },
  {
   "cell_type": "code",
   "execution_count": null,
   "metadata": {
    "collapsed": true
   },
   "outputs": [],
   "source": []
  },
  {
   "cell_type": "markdown",
   "metadata": {},
   "source": [
    "Escreva a sequência de comandos para extrair as palavras que se iniciem com maiúsculas de uma string utilizando no processo a função “filter”. O resultado deve ser uma lista."
   ]
  },
  {
   "cell_type": "code",
   "execution_count": 372,
   "metadata": {},
   "outputs": [
    {
     "name": "stdout",
     "output_type": "stream",
     "text": [
      "['Uma', 'Algumas', 'Maiúsculo']\n"
     ]
    }
   ],
   "source": [
    "string = 'Uma frase com Algumas palavras em Maiúsculo'\n",
    "resultado = filter(str.istitle,string.split())\n",
    "print(list(resultado))"
   ]
  },
  {
   "cell_type": "markdown",
   "metadata": {},
   "source": [
    "Escreva uma função que receba uma lista de nomes e retorne um grafo que ligue os nomes que compartilham ao menos uma letra. Veja o código abaixo para exemplificar a geração de um grafo.\n",
    "+ Mais informação em: https://networkx.github.io/documentation/stable/tutorial.html"
   ]
  },
  {
   "cell_type": "code",
   "execution_count": 7,
   "metadata": {},
   "outputs": [
    {
     "data": {
      "image/png": "[encoded data removed]",
      "text/plain": [
       "<matplotlib.figure.Figure at 0x7f160d7ec7b8>"
      ]
     },
     "metadata": {},
     "output_type": "display_data"
    }
   ],
   "source": [
    "G = nx.Graph()\n",
    "G.add_nodes_from(['Renato','Carla','Theo','Alifer'])\n",
    "G.add_edge('Renato','Carla')\n",
    "nx.draw(G, with_labels=True, font_weight='bold')"
   ]
  },
  {
   "cell_type": "code",
   "execution_count": 377,
   "metadata": {},
   "outputs": [
    {
     "ename": "SyntaxError",
     "evalue": "invalid syntax (<ipython-input-377-1fb48807bb70>, line 1)",
     "output_type": "error",
     "traceback": [
      "\u001b[0;36m  File \u001b[0;32m\"<ipython-input-377-1fb48807bb70>\"\u001b[0;36m, line \u001b[0;32m1\u001b[0m\n\u001b[0;31m    def compara(letras)\u001b[0m\n\u001b[0m                       ^\u001b[0m\n\u001b[0;31mSyntaxError\u001b[0m\u001b[0;31m:\u001b[0m invalid syntax\n"
     ]
    }
   ],
   "source": [
    "def compara(letras)\n",
    "    #letras a princípio é no formato lista, com pelo menos dois argumentos\n",
    "    comp = []\n",
    "    for i in letras:\n",
    "        for j in i:\n",
    "            j = j.upper()\n",
    "            if j in comp:\n",
    "                \n",
    "            \n",
    "\n",
    "def grafo(lista):\n",
    "    lista=['Renato','Carla','Theo','Alifer']\n",
    "    G = nx.Graph()\n",
    "    G.add_nodes_from(lista)\n",
    "    a = range(0,len(lista)-1)\n",
    "    cont=0\n",
    "    \n",
    "    for i in a:\n",
    "        cont = cont+1\n",
    "        for j in lista[i]:\n",
    "            \n",
    "        \n",
    "        \n",
    "    \n",
    "    \n",
    "            \n",
    "        G.add_edge('Renato','Carla')\n",
    "    nx.draw(G, with_labels=True, font_weight='bold')"
   ]
  },
  {
   "cell_type": "markdown",
   "metadata": {},
   "source": [
    "Uma das tarefas mais comuns no tratamento de dados não estruturados é a extração de informações em textos. Escreva uma função chamada “freqdist” que receba uma string e retorne um dicionário que contenha as palavras como chaves e suas frequências de ocorrência como valores. Use apenas a biblioteca padrão do Python."
   ]
  },
  {
   "cell_type": "code",
   "execution_count": 375,
   "metadata": {},
   "outputs": [
    {
     "data": {
      "text/plain": [
       "'WFEWF'"
      ]
     },
     "execution_count": 375,
     "metadata": {},
     "output_type": "execute_result"
    }
   ],
   "source": [
    "'wfewf'.upper()"
   ]
  },
  {
   "cell_type": "code",
   "execution_count": 376,
   "metadata": {},
   "outputs": [
    {
     "ename": "SyntaxError",
     "evalue": "can't assign to function call (<ipython-input-376-3cc2cbaf8ecd>, line 1)",
     "output_type": "error",
     "traceback": [
      "\u001b[0;36m  File \u001b[0;32m\"<ipython-input-376-3cc2cbaf8ecd>\"\u001b[0;36m, line \u001b[0;32m1\u001b[0m\n\u001b[0;31m    l(2)=[]\u001b[0m\n\u001b[0m           ^\u001b[0m\n\u001b[0;31mSyntaxError\u001b[0m\u001b[0;31m:\u001b[0m can't assign to function call\n"
     ]
    }
   ],
   "source": [
    "l(2)=[]"
   ]
  },
  {
   "cell_type": "markdown",
   "metadata": {},
   "source": [
    "Uma técnica muito comum no estudo de linguagem natural é eliminar as palavras mais frequentes que não agregam muito ao texto, para \"limpar\" as análises; essas palavras são chamadas de \"stopwords\".  \n",
    "\n",
    "Crie uma função chamada “remove_stopwords”que recebe um dicionário como o retornado pela função “freqdist”e uma lista de palavras a serem removidas e retorna um novo dicionário, com as devidas palavras removidas.  \n",
    "Por exemplo:  \n",
    "\n",
    "    distribuicao_de_frequencia = {'Era': 1, 'casa': 1, 'engra\\xe7ada': 1,  'muito': 1, 'nada': 1, 'n\\xe3o': 2, 'teto': 1, 'tinha': 2, 'uma': 1}\n",
    "    stopwords = ['não', 'de', 'em', 'um', 'uma', 'para']\n",
    "    nova_freqdist = remove_stopwords(distribuicao_de_frequencia, stopwords)\n",
    "    print nova_freqdist\n",
    "    {'casa': 1, 'engra\\xe7ada': 1, 'era': 1, 'muito': 1, 'nada': 1, 'teto': 1, 'tinha': 2}\n",
    "    \n",
    "Nota: sua função não deve alterar o dicionário recebido! Ela deve retornar um novo dicionário com as palavras desejadas."
   ]
  },
  {
   "cell_type": "code",
   "execution_count": null,
   "metadata": {
    "collapsed": true
   },
   "outputs": [],
   "source": []
  },
  {
   "cell_type": "markdown",
   "metadata": {},
   "source": [
    "Escreva uma função que extraia todos os links da url abaixo."
   ]
  },
  {
   "cell_type": "code",
   "execution_count": 8,
   "metadata": {
    "collapsed": true
   },
   "outputs": [],
   "source": [
    "url = 'http://ppgci.eci.ufmg.br/pessoas/professores/permanentes'"
   ]
  },
  {
   "cell_type": "code",
   "execution_count": 9,
   "metadata": {
    "collapsed": true
   },
   "outputs": [],
   "source": [
    "pagina = requests.get(url)\n",
    "texto = pagina.text\n",
    "#soup = BeautifulSoup(texto)\n",
    "#print(texto)"
   ]
  },
  {
   "cell_type": "code",
   "execution_count": null,
   "metadata": {
    "collapsed": true
   },
   "outputs": [],
   "source": []
  },
  {
   "cell_type": "markdown",
   "metadata": {},
   "source": [
    "Partindo do código abaixo, escreva comandos para realizar as seguintes tarefas:\n",
    "- Identificar os candidatos a nomes próprios do texto e a frequência com que aparecem;\n",
    "- Identificar as 5 palavras mais comuns;\n",
    "- Identificar os tritongos;\n",
    "\n",
    "- Salvar os resultados em um arquivo chamado \"respostas.txt\" no computador"
   ]
  },
  {
   "cell_type": "code",
   "execution_count": 10,
   "metadata": {
    "collapsed": true
   },
   "outputs": [],
   "source": [
    "from bs4.element import Comment\n",
    "\n",
    "#url = 'http://norvig.com/big.txt'\n",
    "url = 'http://ppgci.eci.ufmg.br/pessoas/professores/permanentes'\n",
    "\n",
    "def tag_visible(element):\n",
    "    if element.parent.name in ['style', 'script', 'head', 'title', 'meta', '[document]']:\n",
    "        return False\n",
    "    if isinstance(element, Comment):\n",
    "        return False\n",
    "    return True\n",
    "\n",
    "page = requests.get(url)\n",
    "html = page.text\n",
    "sopa = bs(html, \"lxml\")\n",
    "texts = sopa.findAll(text=True)\n",
    "visible_texts = list(filter(tag_visible, texts))\n",
    "#visible_texts"
   ]
  },
  {
   "cell_type": "code",
   "execution_count": 11,
   "metadata": {},
   "outputs": [
    {
     "data": {
      "text/plain": [
       "['Página Inicial',\n",
       " 'Professores',\n",
       " 'Permanentes',\n",
       " 'Busca',\n",
       " 'Busca Avançada…',\n",
       " 'Acessibilidade',\n",
       " 'Objetivos',\n",
       " 'Avaliação ',\n",
       " 'Coordenação',\n",
       " 'Orientação',\n",
       " 'Regulamento',\n",
       " 'Resoluções',\n",
       " 'Mestrado',\n",
       " 'Doutorado',\n",
       " 'Especialização',\n",
       " 'Seleção Mestrado',\n",
       " 'Seleção Doutorado',\n",
       " 'Professores',\n",
       " 'Permanentes',\n",
       " 'Secretaria',\n",
       " 'Matrículas',\n",
       " 'Formulários',\n",
       " 'Info',\n",
       " '\\n                    Permanentes\\n                ',\n",
       " 'Adriana Bogliolo Sirihal Duarte',\n",
       " 'Adriana Bogliolo Sirihal Duarte - ',\n",
       " 'Carlos Alberto Ávila Araújo',\n",
       " 'Carlos Alberto Ávila Araújo - ',\n",
       " 'Cíntia Aparecida Chagas Arreguy',\n",
       " 'Cíntia Aparecida Chagas Arreguy - ',\n",
       " 'Cristina Dotta Ortega',\n",
       " 'Cristina Dotta Ortega - ',\n",
       " 'Helena Maria Tarchi Crivellari',\n",
       " 'Helena Maria Tarchi Crivellari - ',\n",
       " 'Ivana Denise Parrela',\n",
       " 'Ivana Denise Parrela - ',\n",
       " 'Lígia Maria Moreira Dumont',\n",
       " 'Lígia Maria Moreira Dumont - ',\n",
       " 'Maria Aparecida Moura',\n",
       " 'Maria Aparecida Moura - ',\n",
       " 'Mônica Erichsen Nassif',\n",
       " 'Mônica Erichsen Nassif - ',\n",
       " 'Renato Pinto Venâncio',\n",
       " 'Renato Pinto Venâncio - ',\n",
       " 'Permanentes',\n",
       " 'Adriana Bogliolo Sirihal Duarte',\n",
       " 'Carlos Alberto Ávila Araújo',\n",
       " 'Cíntia Aparecida Chagas Arreguy',\n",
       " 'Cristina Dotta Ortega',\n",
       " 'Helena Maria Tarchi Crivellari',\n",
       " 'Ivana Denise Parrela',\n",
       " 'Lígia Maria Moreira Dumont',\n",
       " 'Maria Aparecida Moura',\n",
       " 'Mônica Erichsen Nassif',\n",
       " 'Renato Pinto Venâncio',\n",
       " 'Colaboradores',\n",
       " 'Associados',\n",
       " 'Credenciamentos',\n",
       " '\\n        Notícias\\n        ',\n",
       " '\\n           Localização\\n        ',\n",
       " ' Fone: (31) 3409-5207',\n",
       " ' Fone: (31) 3409-6103',\n",
       " '\\n    Links\\n    ',\n",
       " ' Login ',\n",
       " 'Av. Antônio Carlos, 6627 - Pampulha',\n",
       " 'Schools Plone Theme',\n",
       " 'Quintagroup',\n",
       " 'Communi']"
      ]
     },
     "execution_count": 11,
     "metadata": {},
     "output_type": "execute_result"
    }
   ],
   "source": [
    "nomes_proprios = list(filter(str.istitle,visible_texts))\n",
    "nomes_proprios"
   ]
  },
  {
   "cell_type": "markdown",
   "metadata": {},
   "source": [
    "Escreva uma função (ou conjunto de funções) que extraia(m) todos os endereços de e-mail de uma página web (passada como parâmetro) e os devolva em uma lista. Considere apenas e-mails:  \n",
    "- De domínios do Brasil ('.br') ou;  \n",
    "- De domínios de alto nível originais ('.com', '.org', '.net', '.int', '.edu', '.gov', '.mil')."
   ]
  },
  {
   "cell_type": "code",
   "execution_count": null,
   "metadata": {
    "collapsed": true
   },
   "outputs": [],
   "source": []
  },
  {
   "cell_type": "markdown",
   "metadata": {},
   "source": [
    "Escreva uma função que possua o mesmo comportamento do gerador (x**2 for x in range(100))"
   ]
  },
  {
   "cell_type": "code",
   "execution_count": null,
   "metadata": {
    "collapsed": true
   },
   "outputs": [],
   "source": []
  },
  {
   "cell_type": "markdown",
   "metadata": {},
   "source": [
    "Uma progressão aritmética (PA) é um sequência numérica em que cada termo, a partir do segundo, é igual à soma do termo anterior com uma constante R positiva (denominada razão).  \n",
    "\n",
    "A fórmula geral de uma PA é:  $an = a1 + (n - 1) * R$    \n",
    "\n",
    "Escreva uma função que receba uma lista com um conjunto de números inteiros positivos, identifique todos os subconjuntos de no mínimo 3 elementos desta lista onde os números formem uma progressão aritmética. Devem ser apresentados sempre os maiores subconjuntos que formem uma PA. Por exemplo, dado a lista [1,2,3,5,6,7,9] teríamos como resultado:  \n",
    "\n",
    "[[1,2,3], [5,6,7], [1,3,5,7,9], [3,6,9], [1,5,9]]  \n",
    "\n",
    "Note que, por exemplo, a sequência [1,3,5] não deve ser apresentada, porque já faz parte de [1,3,5,7,9].  "
   ]
  },
  {
   "cell_type": "code",
   "execution_count": null,
   "metadata": {
    "collapsed": true
   },
   "outputs": [],
   "source": []
  },
  {
   "cell_type": "markdown",
   "metadata": {},
   "source": [
    "Uma permutação é um arranjo ordenado de objetos. Por exemplo, $ 3124 \\ $ é uma das possíveis permutações dos dígitos $1, 2, 3$ e $4$. Se todas as permutações são ordenadas numericamente, chamamos a este arranjo de ordem lexicográfica. As permutações lexicográficas de $0, 1$ e $2$ são:  \n",
    "\n",
    "$012\\;021\\;102\\;120\\;201\\;210$    \n",
    "\n",
    "Qual o milionésimo elemento da ordenação lexicográfica dos dígitos $0, 1, 2, 3, 4, 5, 6, 7, 8$ e $9$?   "
   ]
  },
  {
   "cell_type": "code",
   "execution_count": 12,
   "metadata": {},
   "outputs": [
    {
     "data": {
      "text/plain": [
       "[(1, 2, 3), (1, 2, 4), (1, 3, 4), (2, 3, 4)]"
      ]
     },
     "execution_count": 12,
     "metadata": {},
     "output_type": "execute_result"
    }
   ],
   "source": [
    "from itertools import combinations\n",
    "lis = [1, 2, 3, 4]\n",
    "list(combinations(lis, 3))"
   ]
  },
  {
   "cell_type": "code",
   "execution_count": 16,
   "metadata": {
    "collapsed": true
   },
   "outputs": [],
   "source": [
    "#Código do Itertools\n",
    "\n",
    "def permutations(iterable, r=None):\n",
    "    # permutations('ABCD', 2) --> AB AC AD BA BC BD CA CB CD DA DB DC\n",
    "    # permutations(range(3)) --> 012 021 102 120 201 210\n",
    "    pool = tuple(iterable)\n",
    "    n = len(pool)\n",
    "    r = n if r is None else r\n",
    "    if r > n:\n",
    "        return\n",
    "    indices = list(range(n))\n",
    "    cycles = list(range(n, n-r, -1))\n",
    "    yield tuple(pool[i] for i in indices[:r])\n",
    "    while n:\n",
    "        for i in reversed(list(range(r))):\n",
    "            cycles[i] -= 1\n",
    "            if cycles[i] == 0:\n",
    "                indices[i:] = indices[i+1:] + indices[i:i+1]\n",
    "                cycles[i] = n - i\n",
    "            else:\n",
    "                j = cycles[i]\n",
    "                indices[i], indices[-j] = indices[-j], indices[i]\n",
    "                yield tuple(pool[i] for i in indices[:r])\n",
    "                break\n",
    "        else:\n",
    "            return"
   ]
  },
  {
   "cell_type": "code",
   "execution_count": 18,
   "metadata": {},
   "outputs": [
    {
     "data": {
      "text/plain": [
       "[('0', '1', '2'),\n",
       " ('0', '2', '1'),\n",
       " ('1', '0', '2'),\n",
       " ('1', '2', '0'),\n",
       " ('2', '0', '1'),\n",
       " ('2', '1', '0')]"
      ]
     },
     "execution_count": 18,
     "metadata": {},
     "output_type": "execute_result"
    }
   ],
   "source": [
    "list(permutations('012',3))"
   ]
  },
  {
   "cell_type": "code",
   "execution_count": 28,
   "metadata": {},
   "outputs": [
    {
     "name": "stdout",
     "output_type": "stream",
     "text": [
      "0124658793\n",
      "CPU times: user 1.84 s, sys: 40 ms, total: 1.88 s\n",
      "Wall time: 1.87 s\n"
     ]
    }
   ],
   "source": [
    "%%time\n",
    "\n",
    "#permutações mais simples\n",
    "from IPython.display import clear_output\n",
    "\n",
    "validos = []\n",
    "count = 0\n",
    "for i in range(123456789,9876543211):\n",
    "    if '0' not in str(i):\n",
    "        if len(set(list(str(i)))) == 9:\n",
    "            validos.append('0'+ str(i))\n",
    "            print('0'+ str(i))\n",
    "            count += 1\n",
    "    else:\n",
    "        if len(set(list(str(i)))) == 10:\n",
    "            validos.append(str(i))\n",
    "            print(str(i))\n",
    "            count += 1\n",
    "    if count%100 == 1:\n",
    "        clear_output()\n",
    "    if count > 1000:\n",
    "        break\n",
    "print(validos[999])"
   ]
  },
  {
   "cell_type": "markdown",
   "metadata": {},
   "source": [
    "No semestre passado manipulamos textos usando Shell do linux.  \n",
    "Implemente no Python funções para ler um arquivo e:  \n",
    "- Contar a quantidade de palavras que começam com letras maiúsculas;  \n",
    "- Contar quantas palavras contém sequências de três vogais (tritongos);  \n",
    "- Salvar no arquivo “resultados.txt” as linhas que começam e terminam com uma não vogal."
   ]
  },
  {
   "cell_type": "code",
   "execution_count": null,
   "metadata": {
    "collapsed": true
   },
   "outputs": [],
   "source": []
  },
  {
   "cell_type": "markdown",
   "metadata": {},
   "source": [
    "Implemente em Python uma classe chamada “Tamagotchi” com as seguintes propriedades:  \n",
    "- Tem métodos para dizer a idade, se está com fome e se está de bom humor  \n",
    "- Fica com fome após 5 minutos depois de comer, e fica de mau humor se não bricarem com ele em 10 minutos\n",
    "- Se comunica com um conjunto de mensagens predefinidas e aleatórias, dependendo do humor e da fome \n",
    "- \"Morre\" se ficar com fome por mais de 10 minutos (os métodos deixarão de funcionar)"
   ]
  },
  {
   "cell_type": "code",
   "execution_count": null,
   "metadata": {
    "collapsed": true
   },
   "outputs": [],
   "source": []
  },
  {
   "cell_type": "markdown",
   "metadata": {},
   "source": [
    "Implemente em Python a classe quadrilátero, que recebe o tamanho dos lados ao ser instanciada. Implemente as classes retângulo, quadrado, losango e trapézio, derivadas da classe quadrilátero, com os métodos para área e perímetro.\n"
   ]
  },
  {
   "cell_type": "code",
   "execution_count": null,
   "metadata": {
    "collapsed": true
   },
   "outputs": [],
   "source": []
  },
  {
   "cell_type": "markdown",
   "metadata": {},
   "source": [
    "Implemente em Python uma classe chamada “Navio” com as seguintes propriedades:  \n",
    "- Quando instanciado, tem o tanque cheio e está nas coordenadas 0,0.  \n",
    "- Possui um tanque de diesel com capacidade de 600.000 litros.  \n",
    "- Consome 13.700 litros por hora, numa velocidade de 37 Km/h.  \n",
    "- Possui o metodo “navegar”, que recebe as coordenadas de destino. Esse método calcula a distância a navegar e avalia se o navio possui combustível para chegar nestas coordenadas.  \n",
    "- Possui métodos para encher o tanque, dizer a autonomia, retornar o total de km navegados desde que encheu o tanque e desde que foi instanciado.  \n",
    "\n",
    "OBS: Considere que um grau de latitude sempre corresponde a uma distância de 111,12 Km. Embora não seja verdade, considere que um grau de longitude corresponde à mesma distância.  "
   ]
  },
  {
   "cell_type": "code",
   "execution_count": null,
   "metadata": {
    "collapsed": true
   },
   "outputs": [],
   "source": []
  },
  {
   "cell_type": "markdown",
   "metadata": {},
   "source": [
    "O problema de Monty Hall, também conhecido por paradoxo de Monty Hall é um problema matemático e paradoxo que surgiu a partir de um concurso televisivo dos Estados Unidos chamado \"Let’s Make a Deal\", exibido na década de 1970. O jogo consiste no seguinte: Monty Hall (o apresentador) apresentava 3 portas aos concorrentes, sabendo que atrás de uma delas está um carro (prêmio bom) e que as outras têm prêmios de pouco valor.\n",
    "\n",
    "- Na 1ª etapa o concorrente escolhe uma porta (que ainda não é aberta);  \n",
    "- Em seguida, Monty abre uma das outras duas portas que o concorrente não escolheu, sabendo de antemão que o carro não se encontra na porta que abrirá;  \n",
    "- Agora com duas portas apenas para escolher — pois uma delas já se viu, na 2ª etapa, que não tinha o prêmio — e sabendo que o carro está atrás de uma delas, o concorrente tem que se decidir se permanece com a porta que escolheu no início do jogo e abre-a ou se muda para a outra porta que ainda está fechada para então a abrir.  \n",
    "\n",
    "Demonstre graficamente que é mais provável ganhar o prêmio se trocar de porta do que se não o fizer. Quais as probabilidade de acertar, em ambos os casos?"
   ]
  },
  {
   "cell_type": "code",
   "execution_count": null,
   "metadata": {
    "collapsed": true
   },
   "outputs": [],
   "source": []
  },
  {
   "cell_type": "markdown",
   "metadata": {},
   "source": [
    "Você sabe jogar pôquer? Vamos criar um jogo virtual...  \n",
    "a) Crie uma classe chamada “Baralho”, com as cartas dos naipes de Paus, Copas, Ouros e Espadas, cada naipe possuindo cartas que variam de 1 a 13.  \n",
    "Esta classe deve possuir o método “embaralhar”. Quando instanciado, o baralho deve chamar este método, gerando uma uma ordem aleatória para estas 52 cartas.  \n",
    "\n",
    "Dica: gerar um baralho com o comando [str(x)+str(y) for x,y in list(itertools.product('PCOE',range(1,14)))]  \n",
    "\n",
    "b) Crie uma classe chamada “Jogador”, que seja iniciada com cinco cartas, e retorne o valor da “mão” (veja a primeira coluna da tabela a seguir)  \n",
    "\n",
    "c) Crie uma classe chamada “Jogo”, que recebe uma instância de Baralho e $n$ instâncias de jogador. Esta classe deve ser capaz de:  \n",
    "\n",
    "- Distribuir cartas de um baralho embaralhado para $n$ jogadores, 5 cartas para cada um e;  \n",
    "- Anunciar o ganhador da rodada (aquele com o maior número no valor da mão).  \n",
    "\n",
    "A hierarquia de “mãos” do pôquer é a seguinte (todos os naipes possuem o mesmo valor):"
   ]
  },
  {
   "cell_type": "code",
   "execution_count": 30,
   "metadata": {},
   "outputs": [
    {
     "data": {
      "text/html": [
       "<div>\n",
       "<style>\n",
       "    .dataframe thead tr:only-child th {\n",
       "        text-align: right;\n",
       "    }\n",
       "\n",
       "    .dataframe thead th {\n",
       "        text-align: left;\n",
       "    }\n",
       "\n",
       "    .dataframe tbody tr th {\n",
       "        vertical-align: top;\n",
       "    }\n",
       "</style>\n",
       "<table border=\"1\" class=\"dataframe\">\n",
       "  <thead>\n",
       "    <tr style=\"text-align: right;\">\n",
       "      <th></th>\n",
       "      <th>Nome da Jogada</th>\n",
       "      <th>Descrição</th>\n",
       "      <th>Combinações possíveis</th>\n",
       "    </tr>\n",
       "  </thead>\n",
       "  <tbody>\n",
       "    <tr>\n",
       "      <th>0</th>\n",
       "      <td>Royal Straight Flush</td>\n",
       "      <td>5 cartas seguidas do mesmo naipe até o Ás</td>\n",
       "      <td>4</td>\n",
       "    </tr>\n",
       "    <tr>\n",
       "      <th>1</th>\n",
       "      <td>Straight Flush</td>\n",
       "      <td>5 cartas seguidas do mesmo naipe que não seja ...</td>\n",
       "      <td>36</td>\n",
       "    </tr>\n",
       "    <tr>\n",
       "      <th>2</th>\n",
       "      <td>Four of a kind</td>\n",
       "      <td>Quatro cartas iguais</td>\n",
       "      <td>624</td>\n",
       "    </tr>\n",
       "    <tr>\n",
       "      <th>3</th>\n",
       "      <td>Full House</td>\n",
       "      <td>Uma trinca e um par</td>\n",
       "      <td>3744</td>\n",
       "    </tr>\n",
       "    <tr>\n",
       "      <th>4</th>\n",
       "      <td>Flush</td>\n",
       "      <td>5 cartas do mesmo naipe não seguidas</td>\n",
       "      <td>5108</td>\n",
       "    </tr>\n",
       "    <tr>\n",
       "      <th>5</th>\n",
       "      <td>Straight</td>\n",
       "      <td>5 cartas seguidas de naipes diferentes</td>\n",
       "      <td>10200</td>\n",
       "    </tr>\n",
       "    <tr>\n",
       "      <th>6</th>\n",
       "      <td>Three of a kind</td>\n",
       "      <td>3 cartas iguais</td>\n",
       "      <td>54912</td>\n",
       "    </tr>\n",
       "    <tr>\n",
       "      <th>7</th>\n",
       "      <td>Two Pairs</td>\n",
       "      <td>2 pares de cartas</td>\n",
       "      <td>123552</td>\n",
       "    </tr>\n",
       "    <tr>\n",
       "      <th>8</th>\n",
       "      <td>One Pair</td>\n",
       "      <td>2 cartas iguais</td>\n",
       "      <td>1098240</td>\n",
       "    </tr>\n",
       "    <tr>\n",
       "      <th>9</th>\n",
       "      <td>High Card</td>\n",
       "      <td>Ganha quem tiver a carta mais alta</td>\n",
       "      <td>1302540</td>\n",
       "    </tr>\n",
       "  </tbody>\n",
       "</table>\n",
       "</div>"
      ],
      "text/plain": [
       "         Nome da Jogada                                          Descrição  \\\n",
       "0  Royal Straight Flush          5 cartas seguidas do mesmo naipe até o Ás   \n",
       "1        Straight Flush  5 cartas seguidas do mesmo naipe que não seja ...   \n",
       "2        Four of a kind                               Quatro cartas iguais   \n",
       "3            Full House                                Uma trinca e um par   \n",
       "4                 Flush               5 cartas do mesmo naipe não seguidas   \n",
       "5              Straight             5 cartas seguidas de naipes diferentes   \n",
       "6       Three of a kind                                    3 cartas iguais   \n",
       "7             Two Pairs                                  2 pares de cartas   \n",
       "8              One Pair                                    2 cartas iguais   \n",
       "9             High Card                 Ganha quem tiver a carta mais alta   \n",
       "\n",
       "   Combinações possíveis  \n",
       "0                      4  \n",
       "1                     36  \n",
       "2                    624  \n",
       "3                   3744  \n",
       "4                   5108  \n",
       "5                  10200  \n",
       "6                  54912  \n",
       "7                 123552  \n",
       "8                1098240  \n",
       "9                1302540  "
      ]
     },
     "execution_count": 30,
     "metadata": {},
     "output_type": "execute_result"
    }
   ],
   "source": [
    "nomes = {'Nome da Jogada':['Royal Straight Flush',\n",
    "                           'Straight Flush',\n",
    "                           'Four of a kind',\n",
    "                           'Full House',\n",
    "                           'Flush',\n",
    "                           'Straight',\n",
    "                           'Three of a kind',\n",
    "                           'Two Pairs',\n",
    "                           'One Pair',\n",
    "                           'High Card'],\n",
    "         'Descrição':['5 cartas seguidas do mesmo naipe até o Ás', \n",
    "                      '5 cartas seguidas do mesmo naipe que não seja até ao Ás',\n",
    "                      'Quatro cartas iguais',\n",
    "                      'Uma trinca e um par',\n",
    "                      '5 cartas do mesmo naipe não seguidas',\n",
    "                      '5 cartas seguidas de naipes diferentes',\n",
    "                      '3 cartas iguais',\n",
    "                      '2 pares de cartas',\n",
    "                      '2 cartas iguais',\n",
    "                      'Ganha quem tiver a carta mais alta'],\n",
    "         'Combinações possíveis':[4,36,624,3744,5108,10200,54912,123552,1098240,1302540]}\n",
    "\n",
    "df = pd.DataFrame(nomes, columns=['Nome da Jogada','Descrição','Combinações possíveis'])\n",
    "df"
   ]
  },
  {
   "cell_type": "code",
   "execution_count": 97,
   "metadata": {
    "collapsed": true
   },
   "outputs": [],
   "source": [
    "from random import shuffle\n",
    "\n",
    "class Baralho:\n",
    "    def embaralha(self):\n",
    "        self.baralho = [str(x)+str(y) for x,y in list(itertools.product('PCOE',range(1,14)))]\n",
    "        random.shuffle(self.baralho)\n",
    "        \n",
    "    def __init__(self):\n",
    "        self.embaralha()\n",
    "        \n",
    "    def show(self):\n",
    "        print(self.baralho)\n",
    "        \n",
    "    def da_cartas(self,num):\n",
    "        if num <= len(self.baralho):\n",
    "            cartas = []\n",
    "            for i in range(num):\n",
    "                cartas.append(self.baralho.pop())\n",
    "            return cartas\n",
    "        else:\n",
    "            print('Não há cartas suficientes')"
   ]
  },
  {
   "cell_type": "code",
   "execution_count": 105,
   "metadata": {},
   "outputs": [
    {
     "name": "stdout",
     "output_type": "stream",
     "text": [
      "['P5', 'P2', 'C3', 'C10', 'P12', 'O12', 'E6', 'P6', 'O7', 'C1', 'E2', 'O1', 'O9', 'O3', 'E4', 'C8', 'C9', 'P1', 'C7', 'P11', 'P7', 'C13', 'C11', 'C6', 'E5', 'P9', 'P13', 'E9', 'E1', 'E7', 'O8', 'C2', 'O10', 'O5', 'E13', 'O13', 'P10', 'C5', 'O11', 'P8', 'E11', 'O2', 'O6', 'E10', 'E8', 'C4', 'O4', 'E3', 'P3', 'E12', 'P4', 'C12']\n"
     ]
    }
   ],
   "source": [
    "b1 = Baralho()\n",
    "b1.show()"
   ]
  },
  {
   "cell_type": "code",
   "execution_count": 106,
   "metadata": {},
   "outputs": [
    {
     "data": {
      "text/plain": [
       "['C12', 'P4', 'E12', 'P3', 'E3', 'O4', 'C4', 'E8', 'E10', 'O6']"
      ]
     },
     "execution_count": 106,
     "metadata": {},
     "output_type": "execute_result"
    }
   ],
   "source": [
    "b1.da_cartas(10)"
   ]
  },
  {
   "cell_type": "code",
   "execution_count": 107,
   "metadata": {},
   "outputs": [
    {
     "name": "stdout",
     "output_type": "stream",
     "text": [
      "['P5', 'P2', 'C3', 'C10', 'P12', 'O12', 'E6', 'P6', 'O7', 'C1', 'E2', 'O1', 'O9', 'O3', 'E4', 'C8', 'C9', 'P1', 'C7', 'P11', 'P7', 'C13', 'C11', 'C6', 'E5', 'P9', 'P13', 'E9', 'E1', 'E7', 'O8', 'C2', 'O10', 'O5', 'E13', 'O13', 'P10', 'C5', 'O11', 'P8', 'E11', 'O2']\n"
     ]
    }
   ],
   "source": [
    "b1.show()"
   ]
  },
  {
   "cell_type": "code",
   "execution_count": 108,
   "metadata": {
    "collapsed": true
   },
   "outputs": [],
   "source": [
    "b1.embaralha()"
   ]
  },
  {
   "cell_type": "code",
   "execution_count": 109,
   "metadata": {},
   "outputs": [
    {
     "name": "stdout",
     "output_type": "stream",
     "text": [
      "['P2', 'O6', 'O1', 'E7', 'P10', 'P6', 'E12', 'C10', 'E9', 'P1', 'E2', 'O4', 'O8', 'C6', 'O5', 'E5', 'O10', 'E11', 'E10', 'C2', 'E8', 'C4', 'C1', 'P4', 'E1', 'P11', 'C9', 'C3', 'C7', 'P7', 'O3', 'O11', 'P13', 'O7', 'E6', 'P5', 'O2', 'P12', 'E3', 'C5', 'O12', 'O9', 'P9', 'E13', 'O13', 'C8', 'C13', 'P3', 'E4', 'C11', 'P8', 'C12']\n"
     ]
    }
   ],
   "source": [
    "b1.show()"
   ]
  },
  {
   "cell_type": "code",
   "execution_count": 91,
   "metadata": {
    "collapsed": true
   },
   "outputs": [],
   "source": [
    "class Jogador:\n",
    "    def __init__(self,name):\n",
    "        self.cartas = []\n",
    "        self.name = name\n",
    "        \n",
    "    def recebe_cartas(self, cartas):\n",
    "        self.cartas = cartas\n",
    "        \n",
    "    def mostra_cartas(self):\n",
    "        return self.cartas\n",
    "    \n",
    "    def valor_mao(self):\n",
    "        return max([int(c[1:]) for c in self.cartas])  #implementar função de valor da mão"
   ]
  },
  {
   "cell_type": "code",
   "execution_count": 119,
   "metadata": {
    "collapsed": true
   },
   "outputs": [],
   "source": [
    "class Jogo:\n",
    "    def __init__(self, *jogadores, baralho):\n",
    "        self.jogadores = [j for j in jogadores]\n",
    "        self.baralho = baralho\n",
    "        \n",
    "    def jogada(self):\n",
    "        self.baralho.embaralha()\n",
    "        for jogador in self.jogadores:\n",
    "            jogador.recebe_cartas(self.baralho.da_cartas(5))\n",
    "            print('Jogador {} possui cartas {}'.format(jogador.name, jogador.mostra_cartas()))\n",
    "            print('Valor da mão: {}\\n'.format(jogador.valor_mao()))"
   ]
  },
  {
   "cell_type": "code",
   "execution_count": 120,
   "metadata": {
    "collapsed": true
   },
   "outputs": [],
   "source": [
    "jogador1 = Jogador('Renato')\n",
    "jogador2 = Jogador('Matheus')\n",
    "jogador3 = Jogador('Breno')\n",
    "jogador4 = Jogador('Lucas')\n",
    "banca = Jogador('Banca')\n",
    "b2 = Baralho()\n",
    "jogo1 = Jogo(jogador1, jogador2, jogador3, jogador4, banca, baralho=b2)"
   ]
  },
  {
   "cell_type": "code",
   "execution_count": 121,
   "metadata": {},
   "outputs": [
    {
     "name": "stdout",
     "output_type": "stream",
     "text": [
      "Jogador Renato possui cartas ['E11', 'C10', 'E7', 'O13', 'O9']\n",
      "Valor da mão: 13\n",
      "\n",
      "Jogador Matheus possui cartas ['P7', 'P3', 'E2', 'O7', 'O8']\n",
      "Valor da mão: 8\n",
      "\n",
      "Jogador Breno possui cartas ['C1', 'O10', 'P10', 'P4', 'E4']\n",
      "Valor da mão: 10\n",
      "\n",
      "Jogador Lucas possui cartas ['E13', 'C5', 'O11', 'E12', 'P9']\n",
      "Valor da mão: 13\n",
      "\n",
      "Jogador Banca possui cartas ['C6', 'C4', 'P2', 'O4', 'P13']\n",
      "Valor da mão: 13\n",
      "\n"
     ]
    }
   ],
   "source": [
    "jogo1.jogada()"
   ]
  },
  {
   "cell_type": "code",
   "execution_count": 122,
   "metadata": {},
   "outputs": [
    {
     "name": "stdout",
     "output_type": "stream",
     "text": [
      "Jogador Renato possui cartas ['O7', 'O6', 'O10', 'C5', 'E13']\n",
      "Valor da mão: 13\n",
      "\n",
      "Jogador Matheus possui cartas ['E9', 'O4', 'O12', 'E2', 'O2']\n",
      "Valor da mão: 12\n",
      "\n",
      "Jogador Breno possui cartas ['C10', 'C7', 'P1', 'E8', 'E6']\n",
      "Valor da mão: 10\n",
      "\n",
      "Jogador Lucas possui cartas ['E10', 'P10', 'C9', 'C13', 'C1']\n",
      "Valor da mão: 13\n",
      "\n",
      "Jogador Banca possui cartas ['P12', 'C8', 'E1', 'O8', 'P5']\n",
      "Valor da mão: 12\n",
      "\n"
     ]
    }
   ],
   "source": [
    "jogo1.jogada()"
   ]
  },
  {
   "cell_type": "markdown",
   "metadata": {
    "collapsed": true
   },
   "source": [
    "## Mega Sena\n",
    "\n",
    "### Como Jogar\n",
    "\n",
    "A Mega-Sena paga milhões para o acertador dos 6 números sorteados. Ainda é possível ganhar prêmios ao acertar 4 ou 5 números dentre os 60 disponíveis no volante de apostas. Para realizar o sonho de ser o próximo milionário, você deve marcar de 6 a 15 números do volante.\n",
    "\n",
    "#### Apostas\n",
    "\n",
    "A aposta mínima é de 6 números e a máxima é de 15 números.\n",
    "\n",
    "#### Premiação\n",
    "\n",
    "São premiados os:\n",
    "\n",
    "- acertadores dos 6 números sorteados (Sena);\n",
    "\n",
    "- acertadores de 5 números (Quina);\n",
    "\n",
    "- acertadores de 4 números (Quadra);"
   ]
  },
  {
   "cell_type": "code",
   "execution_count": null,
   "metadata": {
    "collapsed": true
   },
   "outputs": [],
   "source": []
  },
  {
   "cell_type": "markdown",
   "metadata": {},
   "source": [
    "Crie uma função **apostar** que receba números de 6 a 15 números diferentes entre 1 e 60. Caso a aposta seja válida, sua função deve adicionar a aposta à um container (lista, tupla, ...) **apostas**. Caso contrário, indique qual foi o erro."
   ]
  },
  {
   "cell_type": "code",
   "execution_count": null,
   "metadata": {
    "collapsed": true
   },
   "outputs": [],
   "source": []
  },
  {
   "cell_type": "markdown",
   "metadata": {},
   "source": [
    "Crie uma função **megasena** que não receba argumentos. Ela deve realizar o sorteio de 6 números diferentes entre 1 e 60 e indicar quantas apostas foram vencedoras da sena, da quina e da quadra. \n",
    "\n",
    "Lembre-se que o vencedor da sena não é considerado vencedor da quina e assim por diante. \n",
    "\n",
    "Dica: O **randrange** da biblioteca **random** pode ser útil."
   ]
  },
  {
   "cell_type": "code",
   "execution_count": null,
   "metadata": {
    "collapsed": true
   },
   "outputs": [],
   "source": []
  },
  {
   "cell_type": "markdown",
   "metadata": {},
   "source": [
    "Crie uma função **apostador** que recebe um argumento **num_apostas**. A função deve retornar um *container* contendo **num_apostas** apostas.\n",
    "\n",
    "Por exemplo: Ao chamar a função **apostador(10)**, deve ser retornado uma container com 10 apostas.\n",
    "\n",
    "Cada aposta pode conter a quantidade de números que você desejar, desde que seja entre 6 e 15 números."
   ]
  },
  {
   "cell_type": "code",
   "execution_count": null,
   "metadata": {
    "collapsed": true
   },
   "outputs": [],
   "source": []
  }
 ],
 "metadata": {
  "kernelspec": {
   "display_name": "Python 3",
   "language": "python",
   "name": "python3"
  },
  "language_info": {
   "codemirror_mode": {
    "name": "ipython",
    "version": 3
   },
   "file_extension": ".py",
   "mimetype": "text/x-python",
   "name": "python",
   "nbconvert_exporter": "python",
   "pygments_lexer": "ipython3",
   "version": "3.5.2+"
  }
 },
 "nbformat": 4,
 "nbformat_minor": 1
}
