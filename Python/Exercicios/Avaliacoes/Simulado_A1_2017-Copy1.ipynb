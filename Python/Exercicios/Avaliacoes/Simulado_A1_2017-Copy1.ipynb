{
 "cells": [
  {
   "cell_type": "markdown",
   "metadata": {},
   "source": [
    "A1 de Linguagens de Programação – 28/09/2017\n",
    "--\n",
    "Professor: Renato Rocha Souza  \n",
    "--"
   ]
  },
  {
   "cell_type": "markdown",
   "metadata": {},
   "source": [
    "Nome do Aluno(a):"
   ]
  },
  {
   "cell_type": "code",
   "execution_count": 2,
   "metadata": {},
   "outputs": [
    {
     "name": "stdout",
     "output_type": "stream",
     "text": [
      "Entre com o seu nome completo: Daphne Henriette van Leeuwen\n",
      "Olá, Daphne Henriette van Leeuwen!\n",
      "Bom trabalho!\n"
     ]
    }
   ],
   "source": [
    "meu_nome = input('Entre com o seu nome completo: ')\n",
    "print('Olá, {}!'.format(meu_nome))\n",
    "print('Bom trabalho!')"
   ]
  },
  {
   "cell_type": "code",
   "execution_count": 4,
   "metadata": {},
   "outputs": [],
   "source": [
    "# Somente estes módulos podem ser importados para a realização das questões\n",
    "import numpy as np\n",
    "import matplotlib.pyplot as plt\n",
    "import requests\n",
    "import random\n",
    "import re\n",
    "from bs4 import BeautifulSoup as bs\n",
    "%matplotlib inline"
   ]
  },
  {
   "cell_type": "markdown",
   "metadata": {},
   "source": [
    "Questão 1 (1,5 pontos)  \n",
    "\n",
    "\n",
    "Mostre graficamente (usando matplotlib) que as funções:  \n",
    "$ y = 2x^2 - 10x -32$  \n",
    "e  \n",
    "$ y = 2x^3 - 12x^2 +4x +2$  \n",
    "possuem, respectivamente, 2 e 3 raízes reais e distintas.  "
   ]
  },
  {
   "cell_type": "code",
   "execution_count": 73,
   "metadata": {},
   "outputs": [
    {
     "data": {
      "text/plain": [
       "[<matplotlib.lines.Line2D at 0x7f14834d43c8>]"
      ]
     },
     "execution_count": 73,
     "metadata": {},
     "output_type": "execute_result"
    },
    {
     "data": {
      "image/png": "[encoded data removed]",
      "text/plain": [
       "<matplotlib.figure.Figure at 0x7f14834d4940>"
      ]
     },
     "metadata": {},
     "output_type": "display_data"
    }
   ],
   "source": [
    "x = np.linspace(-5,10,600)\n",
    "y1 = 2*(x**2)-10*x-32\n",
    "y2 = x*0\n",
    "plt.plot(x,y1)\n",
    "plt.plot(x,y2)"
   ]
  },
  {
   "cell_type": "code",
   "execution_count": 72,
   "metadata": {},
   "outputs": [
    {
     "data": {
      "text/plain": [
       "[<matplotlib.lines.Line2D at 0x7f148308fb70>]"
      ]
     },
     "execution_count": 72,
     "metadata": {},
     "output_type": "execute_result"
    },
    {
     "data": {
      "image/png": "[encoded data removed]",
      "text/plain": [
       "<matplotlib.figure.Figure at 0x7f1483045a58>"
      ]
     },
     "metadata": {},
     "output_type": "display_data"
    }
   ],
   "source": [
    "x = np.linspace(-1,6,600)\n",
    "y1 = 2*(x**3)-12*(x**2)+4*x+2\n",
    "y2 = x*0\n",
    "plt.plot(x,y1)\n",
    "plt.plot(x,y2)"
   ]
  },
  {
   "cell_type": "markdown",
   "metadata": {},
   "source": [
    "Questão 2 (2.5 pontos)  \n",
    "\n",
    "Partindo do código abaixo, escreva comandos para realizar as seguintes tarefas:\n",
    "- Identificar as 10 palavras mais frequentes, independente de possuírem letras maiúsculas ou minúsculas;\n",
    "- Identificar os trechos em que há uma citação de fala de personagens (entre aspas);\n",
    "- Identificar as 5 letras mais comuns no final de palavras;\n",
    "- Salvar os resultados em um arquivo chamado \"respostas_q2.txt\" no computador"
   ]
  },
  {
   "cell_type": "code",
   "execution_count": 5,
   "metadata": {},
   "outputs": [],
   "source": [
    "url = 'http://www.releituras.com/guimarosa_margem.asp'\n",
    "page = requests.get(url)\n",
    "html = page.text\n",
    "sopa = bs(html, \"lxml\")\n",
    "texto = sopa.text"
   ]
  },
  {
   "cell_type": "code",
   "execution_count": null,
   "metadata": {},
   "outputs": [],
   "source": [
    "novotexto = re.sub(r'(?i)[^A-Z0-9çáéíóúàâêôüãõ\\n]',' ',texto)\n",
    "listapalavras = novotexto.split()"
   ]
  },
  {
   "cell_type": "code",
   "execution_count": 31,
   "metadata": {
    "scrolled": true
   },
   "outputs": [
    {
     "name": "stdout",
     "output_type": "stream",
     "text": [
      "['de', 'que', 'e', 'a', 'o', 'não', 'se', 'para', 'do', 'no']\n",
      "['o', 'a', 'e', 's', 'm']\n"
     ]
    }
   ],
   "source": [
    "dicpcomum = {}\n",
    "diclcomum = {}\n",
    "\n",
    "for i in listapalavras:\n",
    "    i = i.lower()\n",
    "    \n",
    "    if i in dicpcomum:\n",
    "        dicpcomum[i]+=1\n",
    "    else:\n",
    "        dicpcomum[i]=1\n",
    "\n",
    "    if i[-1] in diclcomum:\n",
    "        diclcomum[i[-1]]+=1\n",
    "    else:\n",
    "        diclcomum[i[-1]]=1\n",
    "\n",
    "pmaiscomum = sorted(dicpcomum, key=dicpcomum.get, reverse=True)[:10]\n",
    "lmaiscomum = sorted(diclcomum, key=diclcomum.get, reverse=True)[:5]\n",
    "\n",
    "print(pmaiscomum)\n",
    "print(lmaiscomum)"
   ]
  },
  {
   "cell_type": "code",
   "execution_count": 33,
   "metadata": {},
   "outputs": [
    {
     "name": "stdout",
     "output_type": "stream",
     "text": [
      "\n",
      "\n",
      "\n",
      "\n",
      "\n",
      "\n",
      "\r\n",
      "function popUP(url,w,h){\r\n",
      "window.open(url,\"Releituras\",\"width=\"+w+\",height=\"+h+\",top=0,left=0,scrollbars=1\");\r\n",
      "}\r\n",
      "\n",
      "Guimarães Rosa - A Terceira Margem do Rio\n",
      "\n",
      "\n",
      "\n",
      "\n",
      "\n",
      "\n",
      "\n",
      "\n",
      "\n",
      "\n",
      "\n",
      "\n",
      "\n",
      "[ Principal ][ Biografias ][ Releituras ][ Novos\r\n",
      "        escritores ]\n",
      "© Projeto Releituras\n",
      "Arnaldo Nogueira Jr\n",
      "<!--\r\n",
      "data = new Date();\r\n",
      "dia = data.getDate(); if(dia<10){dia = \"0\"+dia};\r\n",
      "mes = data.getMonth()+1; if(mes<10){mes = \"0\"+mes};\r\n",
      "hora = data.getHours(); if(hora<10){hora = \"0\"+hora};\r\n",
      "minuto = data.getMinutes(); if(minuto<10){minuto = \"0\"+minuto};\r\n",
      "segundo = data.getSeconds(); if(segundo<10){segundo = \"0\"+segundo};\r\n",
      "ano = (navigator.appName == \"Netscape\") ? data.getYear() + 1900 : data.getYear();\r\n",
      "document.writeln(dia + \"/\" + mes + \"/\" + ano + \" - \" + hora + \":\" + minuto + \":\" + segundo);\r\n",
      " -->\n",
      "\n",
      "\n",
      "\n",
      "\n",
      "\n",
      "\n",
      "Guimarães Rosa\n",
      "\n",
      "\n",
      "Biografia e Bibliografia\n",
      "\n",
      "\n",
      "Menu do Autor\n",
      "\n",
      "\n",
      "\n",
      "\n",
      "\n",
      "\n",
      "\r\n",
      "              A Terceira Margem do Rio\n",
      "\n",
      "Guimarães Rosa\n",
      "\n",
      "Nosso pai era homem cumpridor, ordeiro, positivo; e sido assim desde mocinho e\r\n",
      "            menino, pelo que testemunharam as diversas sensatas pessoas, quando indaguei a\r\n",
      "            informação. Do que eu mesmo me alembro, ele não figurava mais estúrdio nem mais triste\r\n",
      "            do que os outros, conhecidos nossos. Só quieto. Nossa mãe era quem regia, e que ralhava\r\n",
      "            no diário com a gente  minha irmã, meu irmão e eu. Mas se deu que, certo dia,\r\n",
      "            nosso pai mandou fazer para si uma canoa.\n",
      "\r\n",
      "            Era a sério. Encomendou a canoa especial, de pau de vinhático, pequena, mal com a\r\n",
      "            tabuinha da popa, como para caber justo o remador. Mas teve de ser toda fabricada,\r\n",
      "            escolhida forte e arqueada em rijo, própria para dever durar na água por uns vinte ou\r\n",
      "            trinta anos. Nossa mãe jurou muito contra a idéia. Seria que, ele, que nessas artes não\r\n",
      "            vadiava, se ia propor agora para pescarias e caçadas? Nosso pai nada não dizia. Nossa\r\n",
      "            casa, no tempo, ainda era mais próxima do rio, obra de nem quarto de légua: o rio por\r\n",
      "            aí se estendendo grande, fundo, calado que sempre. Largo, de não se poder ver a forma da\r\n",
      "            outra beira. E esquecer não posso, do dia em que a canoa ficou pronta.\n",
      "\r\n",
      "            Sem alegria nem cuidado, nosso pai encalcou o chapéu e decidiu um adeus para a gente. Nem\r\n",
      "            falou outras palavras, não pegou matula e trouxa, não fez a alguma recomendação. Nossa\r\n",
      "            mãe, a gente achou que ela ia esbravejar, mas persistiu somente alva de pálida, mascou o\r\n",
      "            beiço e bramou:  \"Cê vai, ocê fique, você nunca volte!\" Nosso pai\r\n",
      "            suspendeu a resposta. Espiou manso para mim, me acenando de vir também, por uns passos.\r\n",
      "            Temi a ira de nossa mãe, mas obedeci, de vez de jeito. O rumo daquilo me animava, chega\r\n",
      "            que um propósito perguntei:  \"Pai, o senhor me leva junto, nessa sua\r\n",
      "            canoa?\" Ele só retornou o olhar em mim, e me botou a bênção, com gesto me\r\n",
      "            mandando para trás. Fiz que vim, mas ainda virei, na grota do mato, para saber. Nosso pai\r\n",
      "            entrou na canoa e desamarrou, pelo remar. E a canoa saiu se indo  a sombra dela por\r\n",
      "            igual, feito um jacaré, comprida longa.\n",
      "\r\n",
      "            Nosso pai não voltou. Ele não tinha ido a nenhuma parte. Só executava a invenção de\r\n",
      "            se permanecer naqueles espaços do rio, de meio a meio, sempre dentro da canoa, para dela\r\n",
      "            não saltar, nunca mais. A estranheza dessa verdade deu para. estarrecer de todo a gente.\r\n",
      "            Aquilo que não havia, acontecia. Os parentes, vizinhos e conhecidos nossos, se reuniram,\r\n",
      "            tomaram juntamente conselho.\n",
      "\r\n",
      "            Nossa mãe, vergonhosa, se portou com muita cordura; por isso, todos pensaram de nosso pai\r\n",
      "            a razão em que não queriam falar: doideira. Só uns achavam o entanto de poder também\r\n",
      "            ser pagamento de promessa; ou que, nosso pai, quem sabe, por escrúpulo de estar com\r\n",
      "            alguma feia doença, que seja, a lepra, se desertava para outra sina de existir, perto e\r\n",
      "            longe de sua família dele. As vozes das notícias se dando pelas certas pessoas \r\n",
      "            passadores, moradores das beiras, até do afastado da outra banda  descrevendo que\r\n",
      "            nosso pai nunca se surgia a tomar terra, em ponto nem canto, de dia nem de noite, da forma\r\n",
      "            como cursava no rio, solto solitariamente. Então, pois, nossa mãe e os aparentados\r\n",
      "            nossos, assentaram: que o mantimento que tivesse, ocultado na canoa, se gastava; e, ele,\r\n",
      "            ou desembarcava e viajava s'embora, para jamais, o que ao menos se condizia mais correto,\r\n",
      "            ou se arrependia, por uma vez, para casa.\n",
      "\r\n",
      "            No que num engano. Eu mesmo cumpria de trazer para ele, cada dia, um tanto de comida\r\n",
      "            furtada: a idéia que senti, logo na primeira noite, quando o pessoal nosso experimentou\r\n",
      "            de acender fogueiras em beirada do rio, enquanto que, no alumiado delas, se rezava e se\r\n",
      "            chamava. Depois, no seguinte, apareci, com rapadura, broa de pão, cacho de bananas.\r\n",
      "            Enxerguei nosso pai, no enfim de uma hora, tão custosa para sobrevir: só assim, ele no\r\n",
      "            ao-longe, sentado no fundo da canoa, suspendida no liso do rio. Me viu, não remou para\r\n",
      "            cá, não fez sinal. Mostrei o de comer, depositei num oco de pedra do barranco, a salvo\r\n",
      "            de bicho mexer e a seco de chuva e orvalho. Isso, que fiz, e refiz, sempre, tempos a fora.\r\n",
      "            Surpresa que mais tarde tive: que nossa mãe sabia desse meu encargo, só se encobrindo de\r\n",
      "            não saber; ela mesma deixava, facilitado, sobra de coisas, para o meu conseguir. Nossa\r\n",
      "            mãe muito não se demonstrava.\n",
      "\r\n",
      "            Mandou vir o tio nosso, irmão dela, para auxiliar na fazenda e nos negócios. Mandou vir\r\n",
      "            o mestre, para nós, os meninos. Incumbiu ao padre que um dia se revestisse, em praia de\r\n",
      "            margem, para esconjurar e clamar a nosso pai o 'dever de desistir da tristonha teima. De\r\n",
      "            outra, por arranjo dela, para medo, vieram os dois soldados. Tudo o que não valeu de\r\n",
      "            nada. Nosso pai passava ao largo, avistado ou diluso, cruzando na canoa, sem deixar\r\n",
      "            ninguém se chegar à pega ou à fala. Mesmo quando foi, não faz muito, dos homens do\r\n",
      "            jornal, que trouxeram a lancha e tencionavam tirar retrato dele, não venceram: nosso pai\r\n",
      "            se desaparecia para a outra banda, aproava a canoa no brejão, de léguas, que há, por\r\n",
      "            entre juncos e mato, e só ele conhecesse, a palmos, a escuridão, daquele.\n",
      "\r\n",
      "            A gente teve de se acostumar com aquilo. Às penas, que, com aquilo, a gente mesmo nunca\r\n",
      "            se acostumou, em si, na verdade. Tiro por mim, que, no que queria, e no que não queria,\r\n",
      "            só com nosso pai me achava: assunto que jogava para trás meus pensamentos. O severo que\r\n",
      "            era, de não se entender, de maneira nenhuma, como ele agüentava. De dia e de noite, com\r\n",
      "            sol ou aguaceiros, calor, sereno, e nas friagens terríveis de meio-do-ano, sem arrumo,\r\n",
      "            só com o chapéu velho na cabeça, por todas as semanas, e meses, e os anos  sem\r\n",
      "            fazer conta do se-ir do viver. Não pojava em nenhuma das duas beiras, nem nas ilhas e\r\n",
      "            croas do rio, não pisou mais em chão nem capim. Por certo, ao menos, que, para dormir\r\n",
      "            seu tanto, ele fizesse amarração da canoa, em alguma ponta-de-ilha, no esconso. Mas não\r\n",
      "            armava um foguinho em praia, nem dispunha de sua luz feita, nunca mais riscou um fósforo.\r\n",
      "            O que consumia de comer, era só um quase; mesmo do que a gente depositava, no entre as\r\n",
      "            raízes da gameleira, ou na lapinha de pedra do barranco, ele recolhia pouco, nem o\r\n",
      "            bastável. Não adoecia? E a constante força dos braços, para ter tento na canoa,\r\n",
      "            resistido, mesmo na demasia das enchentes, no subimento, aí quando no lanço da\r\n",
      "            correnteza enorme do rio tudo rola o perigoso, aqueles corpos de bichos mortos e\r\n",
      "            paus-de-árvore descendo  de espanto de esbarro. E nunca falou mais palavra, com\r\n",
      "            pessoa alguma. Nós, também, não falávamos mais nele. Só se pensava. Não, de nosso\r\n",
      "            pai não se podia ter esquecimento; e, se, por um pouco, a gente fazia que esquecia, era\r\n",
      "            só para se despertar de novo, de repente, com a memória, no passo de outros\r\n",
      "            sobressaltos.\n",
      "\r\n",
      "            Minha irmã se casou; nossa mãe não quis festa. A gente imaginava nele, quando se comia\r\n",
      "            uma comida mais gostosa; assim como, no gasalhado da noite, no desamparo dessas noites de\r\n",
      "            muita chuva, fria, forte, nosso pai só com a mão e uma cabaça para ir esvaziando a\r\n",
      "            canoa da água do temporal. Às vezes, algum conhecido nosso achava que eu ia ficando mais\r\n",
      "            parecido com nosso pai. Mas eu sabia que ele agora virara cabeludo, barbudo, de unhas\r\n",
      "            grandes, mal e magro, ficado preto de sol e dos pêlos, com o aspecto de bicho, conforme\r\n",
      "            quase nu, mesmo dispondo das peças de roupas que a gente de tempos em tempos fornecia.\n",
      "\r\n",
      "            Nem queria saber de nós; não tinha afeto? Mas, por afeto mesmo, de respeito, sempre que\r\n",
      "            às vezes me louvavam, por causa de algum meu bom procedimento, eu falava: \r\n",
      "            \"Foi pai que um dia me ensinou a fazer assim...\"; o que não era o certo, exato;\r\n",
      "            mas, que era mentira por verdade. Sendo que, se ele não se lembrava mais, nem queria\r\n",
      "            saber da gente, por que, então, não subia ou descia o rio, para outras paragens, longe,\r\n",
      "            no não-encontrável? Só ele soubesse. Mas minha irmã teve menino, ela mesma entestou\r\n",
      "            que queria mostrar para ele o neto. Viemos, todos, no barranco, foi num dia bonito, minha\r\n",
      "            irmã de vestido branco, que tinha sido o do casamento, ela erguia nos braços a\r\n",
      "            criancinha, o marido dela segurou, para defender os dois, o guarda-sol. A gente chamou,\r\n",
      "            esperou. Nosso pai não apareceu. Minha irmã chorou, nós todos aí choramos, abraçados.\n",
      "\r\n",
      "            Minha irmã se mudou, com o marido, para longe daqui. Meu irmão resolveu e se foi, para\r\n",
      "            uma cidade. Os tempos mudavam, no devagar depressa dos tempos. Nossa mãe terminou indo\r\n",
      "            também, de uma vez, residir com minha irmã, ela estava envelhecida. Eu fiquei aqui, de\r\n",
      "            resto. Eu nunca podia querer me casar. Eu permaneci, com as bagagens da vida. Nosso pai\r\n",
      "            carecia de mim, eu sei  na vagação, no rio no ermo  sem dar razão de seu\r\n",
      "            feito. Seja que, quando eu quis mesmo saber, e firme indaguei, me diz-que-disseram: que\r\n",
      "            constava que nosso pai, alguma vez, tivesse revelado a explicação, ao homem que para ele\r\n",
      "            aprontara a canoa. Mas, agora, esse homem já tinha morrido, ninguém soubesse, fizesse\r\n",
      "            recordação, de nada mais. Só as falsas conversas, sem senso, como por ocasião, no\r\n",
      "            começo, na vinda das primeiras cheias do rio, com chuvas que não estiavam, todos temeram\r\n",
      "            o fim-do-mundo, diziam: que nosso pai fosse o avisado que nem Noé, que, por tanto, a\r\n",
      "            canoa ele tinha antecipado; pois agora me entrelembro. Meu pai, eu não podia malsinar. E\r\n",
      "            apontavam já em mim uns primeiros cabelos brancos.\n",
      "\r\n",
      "            Sou homem de tristes palavras. De que era que eu tinha tanta, tanta culpa? Se o meu pai,\r\n",
      "            sempre fazendo ausência: e o rio-rio-rio, o rio  pondo perpétuo. Eu sofria já o\r\n",
      "            começo de velhice  esta vida era só o demoramento. Eu mesmo tinha achaques,\r\n",
      "            ânsias, cá de baixo, cansaços, perrenguice de reumatismo. E ele? Por quê? Devia de\r\n",
      "            padecer demais. De tão idoso, não ia, mais dia menos dia, fraquejar do vigor, deixar que\r\n",
      "            a canoa emborcasse, ou que bubuiasse sem pulso, na levada do rio, para se despenhar horas\r\n",
      "            abaixo, em tororoma e no tombo da cachoeira, brava, com o fervimento e morte. Apertava o\r\n",
      "            coração. Ele estava lá, sem a minha tranqüilidade. Sou o culpado do que nem sei, de\r\n",
      "            dor em aberto, no meu foro. Soubesse  se as coisas fossem outras. E fui tomando\r\n",
      "            idéia.\n",
      "\r\n",
      "            Sem fazer véspera. Sou doido? Não. Na nossa casa, a palavra doido não se falava, nunca\r\n",
      "            mais se falou, os anos todos, não se condenava ninguém de doido. Ninguém é doido. Ou,\r\n",
      "            então, todos. Só fiz, que fui lá. Com um lenço, para o aceno ser mais. Eu estava muito\r\n",
      "            no meu sentido. Esperei. Ao por fim, ele apareceu, aí e lá, o vulto. Estava ali, sentado\r\n",
      "            à popa. Estava ali, de grito. Chamei, umas quantas vezes. E falei, o que me urgia, jurado\r\n",
      "            e declarado, tive que reforçar a voz:  \"Pai, o senhor está velho, já fez o\r\n",
      "            seu tanto... Agora, o senhor vem, não carece mais... O senhor vem, e eu, agora mesmo,\r\n",
      "            quando que seja, a ambas vontades, eu tomo o seu lugar, do senhor, na canoa!...\" E,\r\n",
      "            assim dizendo, meu coração bateu no compasso do mais certo.\n",
      "\r\n",
      "            Ele me escutou. Ficou em pé. Manejou remo n'água, proava para cá, concordado. E eu\r\n",
      "            tremi, profundo, de repente: porque, antes, ele tinha levantado o braço e feito um saudar\r\n",
      "            de gesto  o primeiro, depois de tamanhos anos decorridos! E eu não podia... Por\r\n",
      "            pavor, arrepiados os cabelos, corri, fugi, me tirei de lá, num procedimento desatinado.\r\n",
      "            Porquanto que ele me pareceu vir: da parte de além. E estou pedindo, pedindo, pedindo um\r\n",
      "            perdão.\n",
      "\r\n",
      "            Sofri o grave frio dos medos, adoeci. Sei que ninguém soube mais dele. Sou homem, depois\r\n",
      "            desse falimento? Sou o que não foi, o que vai ficar calado. Sei que agora é tarde, e\r\n",
      "            temo abreviar com a vida, nos rasos do mundo. Mas, então, ao menos, que, no artigo da\r\n",
      "            morte, peguem em mim, e me depositem também numa canoinha de nada, nessa água que não\r\n",
      "            pára, de longas beiras: e, eu, rio abaixo, rio a fora, rio a dentro  o rio.\n",
      "\n",
      "Texto extraído do livro \"Primeiras Estórias\", Editora Nova Fronteira - Rio\r\n",
      "            de Janeiro, 1988, pág. 32, cuja compra e leitura recomendamos.\n",
      "\r\n",
      "            Tudo sobre o autor e sua obra em \"Biografias\".\n",
      " \n",
      "\n",
      "\n",
      "\n",
      " \n",
      "\n",
      "\n",
      "\n",
      "\n",
      "\n",
      "\n",
      "\n",
      "\n",
      "\n",
      "\n",
      "[ Principal ][ Biografias\r\n",
      "        ][ Releituras ][ Novos escritores ]\n",
      "\r\n",
      "        © Projeto Releituras  Todos os direitos reservados. O Projeto Releituras  um\r\n",
      "        sítio sem fins lucrativos  tem como objetivo divulgar trabalhos de\r\n",
      "        escritores nacionais e estrangeiros, buscando, sempre que possível, seu lado\r\n",
      "        humorístico,\r\n",
      "        satírico ou irônico. Aguardamos dos amigos leitores críticas, comentários e\r\n",
      "        sugestões. \r\n",
      "        A todos, muito obrigado. Arnaldo Nogueira Júnior. ® @njo\n",
      "\n",
      "\n",
      "\n",
      "\n",
      "\n",
      "\n",
      "\n",
      "\n",
      "\n",
      "\n"
     ]
    }
   ],
   "source": [
    "print(texto)"
   ]
  },
  {
   "cell_type": "code",
   "execution_count": 53,
   "metadata": {},
   "outputs": [],
   "source": [
    "re1 = r'(?i)[\"][A-Z0-9çáéíóúàâêôüãõ\\\" \"]{1}[A-Z0-9çáéíóúàâêôüãõ,!;?\\\" \"]*' #'[\"]{1}' \n",
    "re2 = r'(?i)[\"]{1}'"
   ]
  },
  {
   "cell_type": "code",
   "execution_count": 54,
   "metadata": {},
   "outputs": [
    {
     "data": {
      "text/plain": [
       "['\"Releituras\",\"width',\n",
       " '\"0\"',\n",
       " '\"0\"',\n",
       " '\"0\"',\n",
       " '\"0\"',\n",
       " '\"0\"',\n",
       " '\"Netscape\"',\n",
       " '\" ',\n",
       " '\" ',\n",
       " '\" ',\n",
       " '\" ',\n",
       " '\" ',\n",
       " '\" ',\n",
       " '\"Cê vai, ocê fique, você nunca volte!\" Nosso pai',\n",
       " '\"Pai, o senhor me leva junto, nessa sua',\n",
       " '\" Ele só retornou o olhar em mim, e me botou a bênção, com gesto me',\n",
       " '\"Foi pai que um dia me ensinou a fazer assim',\n",
       " '\"Pai, o senhor está velho, já fez o',\n",
       " '\" E,',\n",
       " '\"Primeiras Estórias\", Editora Nova Fronteira ',\n",
       " '\"Biografias\"']"
      ]
     },
     "execution_count": 54,
     "metadata": {},
     "output_type": "execute_result"
    }
   ],
   "source": [
    "re.findall(re1, texto)"
   ]
  },
  {
   "cell_type": "code",
   "execution_count": 32,
   "metadata": {
    "collapsed": true
   },
   "outputs": [],
   "source": [
    "#with open('resultado.txt','w') as f:\n",
    " #   f.write(texto)"
   ]
  },
  {
   "cell_type": "markdown",
   "metadata": {},
   "source": [
    "for palavras, numero in diclcomum.items():\n",
    "    listaw.append(palavras)\n",
    "    listan.append(numero) "
   ]
  },
  {
   "cell_type": "markdown",
   "metadata": {},
   "source": [
    "Questão 3 (3 pontos)  \n",
    "\n",
    "Christian Goldbach propos que qualquer número ímpar não primo pode ser formado pela soma de um número primo e duas vezes o quadrado de outro número.\n",
    "\n",
    "$9 = 7 + 2×1^2$  \n",
    "$15 = 7 + 2×2^2$  \n",
    "$21 = 3 + 2×3^2$  \n",
    "$25 = 7 + 2×3^2$  \n",
    "$27 = 19 + 2×2^2$  \n",
    "$33 = 31 + 2×1^2$  \n",
    "\n",
    "A conjectura se mostrou falsa. \n",
    "\n",
    "Crie um programa para mostrar qual o primeiro número ímpar não primo que não pode ser escrito pela soma de um primo e duas vezes o quadrado de outro número."
   ]
  },
  {
   "cell_type": "code",
   "execution_count": null,
   "metadata": {
    "collapsed": true
   },
   "outputs": [],
   "source": [
    "#seu código aqui"
   ]
  },
  {
   "cell_type": "markdown",
   "metadata": {
    "collapsed": true
   },
   "source": [
    "Questão 4 (3 pontos) \n",
    "\n",
    "Vamos ajudar uma tartaruga a sair de um labirinto?  \n",
    "\n",
    "Implemente em Python uma classe chamada “Tartaruga” com as seguintes propriedades:  \n",
    "\n",
    "- Recebe um labirinto (array do numpy) com 0s nas células desocupadas e 1s nas células ocupadas;\n",
    "- Sorteia, ao iniciar, uma posição aleatória para si neste array (representada por 2) dentre as células com 0 (não ocupadas);  \n",
    "- Possui um método \"andar\", que recebe as ordens:\n",
    "    - Norte, na qual tenta diminuir o índice da linha, mantendo o da coluna;\n",
    "    - Sul, na qual tenta aumentar o índice da linha, mantendo o da coluna;\n",
    "    - Leste, na qual tenta aumentar o índice da coluna, mantendo o da linha;\n",
    "    - Oeste, na qual tenta diminuir o índice da coluna, mantendo o da linha;\n",
    "    - Só pode andar para posições que estão ocupadas com '0'.\n",
    "- Possui um método para mostrar a sua posição no labirinto;\n",
    "- Deve guardar as posições que já visitou e a quantidade de vezes (com método para mostrar este array);\n",
    "- Possui um método \"tenta_sair\" com uma estratégia:  \n",
    "    - Anda para o norte, enquanto for possível; \n",
    "    - Quando não for possível andar para o norte, anda para o sul;\n",
    "    - Quando não for possível andar para o norte ou o sul, anda para o leste;\n",
    "    - Quando não for possível andar para o norte ou o sul ou o leste, anda para oeste;\n",
    "    - Quando passar por uma célula já visitada, deve mudar a sequência de \"tenta_sair\" na forma:  \n",
    "        NSLO -> SLON -> LONS -> ONSL -> ...  \n",
    "- Deve saber a cada passo se saiu do labirinto, mostrando uma mensagem e interrompendo o processo de tentar sair;\n",
    "- Caso não consiga sair em 1000 iterações, deve declarar que é impossível sair.  "
   ]
  },
  {
   "cell_type": "code",
   "execution_count": 64,
   "metadata": {},
   "outputs": [
    {
     "data": {
      "text/plain": [
       "(22, 22)"
      ]
     },
     "execution_count": 64,
     "metadata": {},
     "output_type": "execute_result"
    }
   ],
   "source": [
    "#exemplo de labirinto\n",
    "\n",
    "labirinto = np.array([[1,1,1,1,1,1,1,1,1,1,1,1,1,1,1,1,1,1,1,1,1,1],\n",
    "                      [1,0,0,0,1,0,0,0,1,1,0,1,1,0,0,0,0,0,1,0,0,0],\n",
    "                      [1,0,1,0,0,0,1,0,0,0,0,0,0,0,1,1,1,0,1,0,1,1],\n",
    "                      [1,0,1,0,1,0,0,1,1,0,0,1,0,1,1,0,0,0,1,0,1,1],\n",
    "                      [1,0,0,0,1,0,0,1,1,0,0,1,1,1,1,0,0,0,1,0,1,1],\n",
    "                      [1,0,1,0,1,0,0,0,1,0,0,1,0,0,1,0,0,1,1,0,1,1],\n",
    "                      [1,0,1,0,1,0,0,1,0,0,0,1,0,1,1,1,0,0,1,0,1,1],\n",
    "                      [1,0,0,0,1,0,0,1,1,0,0,0,0,1,1,0,1,0,1,0,1,1],\n",
    "                      [1,0,1,0,1,0,0,1,1,0,0,1,1,1,1,0,0,0,1,0,1,1],\n",
    "                      [1,1,1,0,1,1,1,1,1,1,0,0,0,0,1,1,1,0,1,0,0,1],\n",
    "                      [1,0,0,0,0,0,0,0,0,0,0,1,1,0,0,1,1,0,0,0,0,1],\n",
    "                      [1,0,1,1,1,0,1,1,1,1,1,1,0,0,0,1,1,1,1,1,0,1],\n",
    "                      [1,0,1,0,0,0,1,1,0,1,0,1,0,0,0,1,1,1,1,1,0,1],\n",
    "                      [1,0,1,0,1,1,1,1,0,1,0,1,1,1,0,0,0,0,1,1,0,1],\n",
    "                      [1,0,1,0,0,0,0,0,0,1,0,1,0,1,0,1,1,0,1,1,0,1],\n",
    "                      [1,0,1,1,0,1,1,1,1,1,0,1,0,0,0,1,1,0,1,1,0,1],\n",
    "                      [1,0,1,1,0,0,1,1,1,0,0,1,0,0,1,1,1,0,1,1,0,1],\n",
    "                      [1,1,1,1,1,0,1,1,1,0,1,1,0,0,0,1,1,1,1,1,0,1],\n",
    "                      [1,0,0,0,0,0,1,0,0,0,1,1,1,1,0,1,1,0,0,1,0,1],\n",
    "                      [1,0,1,1,1,1,1,1,1,0,0,0,0,0,0,0,0,1,0,0,0,1],\n",
    "                      [1,0,0,0,0,0,0,0,0,0,0,0,0,0,0,0,0,1,0,1,1,1],\n",
    "                      [1,1,1,1,1,1,1,1,1,1,1,1,1,1,1,1,1,1,0,1,1,1]], dtype=float)\n",
    "\n",
    "labirinto.shape"
   ]
  },
  {
   "cell_type": "code",
   "execution_count": 65,
   "metadata": {},
   "outputs": [
    {
     "data": {
      "text/plain": [
       "<matplotlib.image.AxesImage at 0x7fb9533cac50>"
      ]
     },
     "execution_count": 65,
     "metadata": {},
     "output_type": "execute_result"
    },
    {
     "data": {
      "image/png": "[encoded data removed]",
      "text/plain": [
       "<matplotlib.figure.Figure at 0x7fb9533ca940>"
      ]
     },
     "metadata": {},
     "output_type": "display_data"
    }
   ],
   "source": [
    "fig, ax = plt.subplots(figsize = (8,8))\n",
    "ax.matshow(labirinto, cmap=plt.cm.Blues)"
   ]
  },
  {
   "cell_type": "code",
   "execution_count": null,
   "metadata": {
    "collapsed": true
   },
   "outputs": [],
   "source": [
    "#seu código aqui"
   ]
  },
  {
   "cell_type": "markdown",
   "metadata": {
    "collapsed": true
   },
   "source": [
    "Questão Bônus (0,5 pontos)  \n",
    "\n",
    "O problema de Monty Hall, também conhecido por paradoxo de Monty Hall é um problema matemático e paradoxo que surgiu a partir de um concurso televisivo dos Estados Unidos chamado \"Let’s Make a Deal\", exibido na década de 1970. O jogo consiste no seguinte: Monty Hall (o apresentador) apresentava 3 portas aos concorrentes, sabendo que atrás de uma delas está um carro (prêmio bom) e que as outras têm prêmios de pouco valor.\n",
    "\n",
    "- Na 1ª etapa o concorrente escolhe uma porta (que ainda não é aberta);  \n",
    "- Em seguida, Monty abre uma das outras duas portas que o concorrente não escolheu, sabendo de antemão que o carro não se encontra na porta que abrirá;  \n",
    "- Agora com duas portas apenas para escolher — pois uma delas já se viu, na 2ª etapa, que não tinha o prêmio — e sabendo que o carro está atrás de uma delas, o concorrente tem que se decidir se permanece com a porta que escolheu no início do jogo e abre-a ou se muda para a outra porta que ainda está fechada para então a abrir.  \n",
    "\n",
    "Demonstre graficamente que é mais provável ganhar o prêmio se trocar de porta do que se não o fizer. Quais as probabilidade de acertar, em ambos os casos?"
   ]
  },
  {
   "cell_type": "code",
   "execution_count": null,
   "metadata": {
    "collapsed": true
   },
   "outputs": [],
   "source": [
    "#seu código aqui"
   ]
  }
 ],
 "metadata": {
  "kernelspec": {
   "display_name": "Python 3",
   "language": "python",
   "name": "python3"
  },
  "language_info": {
   "codemirror_mode": {
    "name": "ipython",
    "version": 3
   },
   "file_extension": ".py",
   "mimetype": "text/x-python",
   "name": "python",
   "nbconvert_exporter": "python",
   "pygments_lexer": "ipython3",
   "version": "3.5.2+"
  }
 },
 "nbformat": 4,
 "nbformat_minor": 1
}
