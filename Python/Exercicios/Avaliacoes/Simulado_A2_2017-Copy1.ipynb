{
 "cells": [
  {
   "cell_type": "markdown",
   "metadata": {},
   "source": [
    "Simulado da A2 de Linguagens de Programação – 17/11/2017\n",
    "--\n",
    "Professor: Renato Rocha Souza  \n",
    "--"
   ]
  },
  {
   "cell_type": "markdown",
   "metadata": {},
   "source": [
    "Nome do Aluno(a):"
   ]
  },
  {
   "cell_type": "code",
   "execution_count": 16,
   "metadata": {},
   "outputs": [
    {
     "name": "stdout",
     "output_type": "stream",
     "text": [
      "Entre com o seu nome completo: Daphne\n",
      "Olá, Daphne!\n",
      "Bom trabalho!\n"
     ]
    }
   ],
   "source": [
    "meu_nome = input('Entre com o seu nome completo: ')\n",
    "print('Olá, {}!'.format(meu_nome))\n",
    "\n",
    "print('Bom trabalho!')"
   ]
  },
  {
   "cell_type": "code",
   "execution_count": 17,
   "metadata": {},
   "outputs": [],
   "source": [
    "import numpy as np\n",
    "import matplotlib.pyplot as plt\n",
    "import requests\n",
    "import random\n",
    "import re\n",
    "import string\n",
    "import time\n",
    "import pymysql\n",
    "import sqlite3\n",
    "import getpass\n",
    "import pandas.io.sql as psql\n",
    "import networkx as nx\n",
    "from IPython.display import clear_output\n",
    "%matplotlib inline"
   ]
  },
  {
   "cell_type": "markdown",
   "metadata": {},
   "source": [
    "Questão 1 (2,0 pontos)  \n",
    "\n",
    "\n",
    "Utilizando Python, crie um banco de dados no sqlite que guarde a seguinte estrutura:\n",
    "\n",
    "\n",
    "| id (integer) | nome (text)    | data_nascimento (text)    | peso (real) | altura (real) | imc (real) | Gênero  (text) |\n",
    "|--------------|----------------|---------------------------|-------------|---------------|------------|----------------|\n",
    "| 1            | Anitta         | \"1980-10-10 00:00:00.000\" | 56          | 160           | 0          | POP            |\n",
    "| 2            | Caetano Veloso | \"1956-01-23 00:00:00.000\" | 57          | 165           | 0          | MBP            |\n",
    "| 3            | Roberto Carlos | \"1943-05-12 00:00:00.000\" | 69          | 172           | 0          | MPB            |\n",
    "| 4            | Ivete Sangalo  | \"1973-05-21 00:00:00.000\" | 60          | 170           | 0          | AXÉ            |\n",
    "| 5            | Wesley Safadão | \"1982-09-07 00:00:00.000\" | 77          | 181           | 0          | POP            |\n",
    "\n",
    "\n",
    "Após a estrutura gerada, crie um script que calcule e corrija o IMC da tabela pela fórmula:  \n",
    "\n",
    "\n",
    "$\\large IMC = \\frac{Peso}{Altura^{2}}$\n",
    "\n",
    "\n",
    "Veja: https://sqlite.org/datatype3.html  "
   ]
  },
  {
   "cell_type": "code",
   "execution_count": 34,
   "metadata": {},
   "outputs": [],
   "source": [
    "conn = sqlite3.connect('cadastro.db')\n",
    "cur = conn.cursor()\n",
    "\n",
    "# seu código aqui"
   ]
  },
  {
   "cell_type": "code",
   "execution_count": 36,
   "metadata": {},
   "outputs": [],
   "source": [
    "# Create table\n",
    "cur.execute('''CREATE TABLE IF NOT EXISTS cantores\n",
    "             (id integer, nome text, data_nascimento text, peso real, altura real, imc real, Gênero text)''')\n",
    "\n",
    "# Insert a row of data\n",
    "cur.execute(\"INSERT INTO cantores VALUES (1, 'Anitta', '1980-10-10 00:00:00.000', 56, 160, 0, 'POP')\")\n",
    "cur.execute(\"INSERT INTO cantores VALUES (2, 'Caetano Veloso', '1956-01-23 00:00:00.000', 57, 165, 0, 'MBP')\")\n",
    "cur.execute(\"INSERT INTO cantores VALUES (3, 'Roberto Carlos', '1943-05-12 00:00:00.000', 69, 172, 0, 'MPB')\")\n",
    "cur.execute(\"INSERT INTO cantores VALUES (4, 'Ivete Sangalo', '1973-05-21 00:00:00.000', 60, 170, 0, 'AXÉ')\")\n",
    "cur.execute(\"INSERT INTO cantores VALUES (5, 'Wesley Safadão','1982-09-07 00:00:00.000', 77, 181, 0, 'POP')\")\n",
    "\n",
    "# Save (commit) the changes\n",
    "conn.commit()\n",
    "\n",
    "# We can also close the connection if we are done with it.\n",
    "# Just be sure any changes have been committed or they will be lost.\n",
    "#conn.close()"
   ]
  },
  {
   "cell_type": "code",
   "execution_count": 54,
   "metadata": {},
   "outputs": [],
   "source": [
    "for row in cur.execute('UPDATE cantores SET imc = round((peso/(altura*altura)*10000),1)'):\n",
    "    print(row)"
   ]
  },
  {
   "cell_type": "code",
   "execution_count": 56,
   "metadata": {},
   "outputs": [
    {
     "name": "stdout",
     "output_type": "stream",
     "text": [
      "(1, 'Anitta', '1980-10-10 00:00:00.000', 56.0, 160.0, 21.9, 'POP')\n",
      "(2, 'Caetano Veloso', '1956-01-23 00:00:00.000', 57.0, 165.0, 20.9, 'MBP')\n",
      "(3, 'Roberto Carlos', '1943-05-12 00:00:00.000', 69.0, 172.0, 23.3, 'MPB')\n",
      "(4, 'Ivete Sangalo', '1973-05-21 00:00:00.000', 60.0, 170.0, 20.8, 'AXÉ')\n",
      "(5, 'Wesley Safadão', '1982-09-07 00:00:00.000', 77.0, 181.0, 23.5, 'POP')\n"
     ]
    }
   ],
   "source": [
    "for row in cur.execute('SELECT * FROM cantores ORDER BY id'):\n",
    "        print(row)"
   ]
  },
  {
   "cell_type": "markdown",
   "metadata": {},
   "source": [
    "Questão 2 (2.0 pontos)  \n",
    "\n",
    "Conecte ao banco SQLite e responda:\n",
    "- Quantos artistas/bandas (artists) possuem nomes (Name) começando com a letra \"L\"?\n",
    "- Quais as 5 faixas (tracks) mais longas?\n",
    "- Quais são os nomes (Name) dos artistas (artists) que as gravaram?\n",
    "- Qual o gênero (Genre) que possui, em média, as faixas (tracks) mais longas?\n",
    "- Qual o gênero (Genre) que possui, em média, as faixas (tracks) mais caras?"
   ]
  },
  {
   "cell_type": "code",
   "execution_count": 57,
   "metadata": {},
   "outputs": [],
   "source": [
    "conn = sqlite3.connect('../../Dados/chinook.sqlite')\n",
    "cur = conn.cursor()\n",
    "\n",
    "# seu código aqui"
   ]
  },
  {
   "cell_type": "code",
   "execution_count": 60,
   "metadata": {},
   "outputs": [
    {
     "name": "stdout",
     "output_type": "stream",
     "text": [
      "('albums',)\n",
      "('sqlite_sequence',)\n",
      "('artists',)\n",
      "('customers',)\n",
      "('employees',)\n",
      "('genres',)\n",
      "('invoices',)\n",
      "('invoice_items',)\n",
      "('media_types',)\n",
      "('playlists',)\n",
      "('playlist_track',)\n",
      "('tracks',)\n",
      "('sqlite_stat1',)\n",
      "('cantores',)\n"
     ]
    }
   ],
   "source": [
    "for row in cur.execute(\"SELECT name FROM sqlite_master WHERE type='table';\"):\n",
    "    print(row)"
   ]
  },
  {
   "cell_type": "code",
   "execution_count": 61,
   "metadata": {},
   "outputs": [
    {
     "name": "stdout",
     "output_type": "stream",
     "text": [
      "(0, 'ArtistId', 'INTEGER', 1, None, 1)\n",
      "(1, 'Name', 'NVARCHAR(120)', 0, None, 0)\n"
     ]
    }
   ],
   "source": [
    "for row in cur.execute(\"PRAGMA table_info([artists]);\"):\n",
    "    print(row)"
   ]
  },
  {
   "cell_type": "code",
   "execution_count": 89,
   "metadata": {},
   "outputs": [
    {
     "name": "stdout",
     "output_type": "stream",
     "text": [
      "(1, 'AC/DC')\n",
      "(2, 'Accept')\n",
      "(3, 'Aerosmith')\n",
      "(4, 'Alanis Morissette')\n",
      "(5, 'Alice In Chains')\n"
     ]
    }
   ],
   "source": [
    "for row in cur.execute(\"select * from artists limit 5\"):\n",
    "    print(row)"
   ]
  },
  {
   "cell_type": "code",
   "execution_count": 93,
   "metadata": {},
   "outputs": [
    {
     "name": "stdout",
     "output_type": "stream",
     "text": [
      "(1, 'For Those About To Rock (We Salute You)', 1, 1, 1, 'Angus Young, Malcolm Young, Brian Johnson', 343719, 11170334, 0.99)\n",
      "(2, 'Balls to the Wall', 2, 2, 1, None, 342562, 5510424, 0.99)\n",
      "(3, 'Fast As a Shark', 3, 2, 1, 'F. Baltes, S. Kaufman, U. Dirkscneider & W. Hoffman', 230619, 3990994, 0.99)\n",
      "(4, 'Restless and Wild', 3, 2, 1, 'F. Baltes, R.A. Smith-Diesel, S. Kaufman, U. Dirkscneider & W. Hoffman', 252051, 4331779, 0.99)\n",
      "(5, 'Princess of the Dawn', 3, 2, 1, 'Deaffy & R.A. Smith-Diesel', 375418, 6290521, 0.99)\n"
     ]
    }
   ],
   "source": [
    "for row in cur.execute(\"select * from tracks limit 5\"):\n",
    "    print(row)"
   ]
  },
  {
   "cell_type": "code",
   "execution_count": 96,
   "metadata": {},
   "outputs": [
    {
     "name": "stdout",
     "output_type": "stream",
     "text": [
      "(1, 'Rock')\n",
      "(2, 'Jazz')\n",
      "(3, 'Metal')\n",
      "(4, 'Alternative & Punk')\n",
      "(5, 'Rock And Roll')\n"
     ]
    }
   ],
   "source": [
    "for row in cur.execute(\"select * from genres limit 5\"):\n",
    "    print(row)"
   ]
  },
  {
   "cell_type": "code",
   "execution_count": 71,
   "metadata": {},
   "outputs": [
    {
     "name": "stdout",
     "output_type": "stream",
     "text": [
      "(0, 'TrackId', 'INTEGER', 1, None, 1)\n",
      "(1, 'Name', 'NVARCHAR(200)', 1, None, 0)\n",
      "(2, 'AlbumId', 'INTEGER', 0, None, 0)\n",
      "(3, 'MediaTypeId', 'INTEGER', 1, None, 0)\n",
      "(4, 'GenreId', 'INTEGER', 0, None, 0)\n",
      "(5, 'Composer', 'NVARCHAR(220)', 0, None, 0)\n",
      "(6, 'Milliseconds', 'INTEGER', 1, None, 0)\n",
      "(7, 'Bytes', 'INTEGER', 0, None, 0)\n",
      "(8, 'UnitPrice', 'NUMERIC(10,2)', 1, None, 0)\n"
     ]
    }
   ],
   "source": [
    "for row in cur.execute(\"PRAGMA table_info([tracks]);\"):\n",
    "    print(row)"
   ]
  },
  {
   "cell_type": "code",
   "execution_count": 78,
   "metadata": {},
   "outputs": [
    {
     "name": "stdout",
     "output_type": "stream",
     "text": [
      "(0, 'GenreId', 'INTEGER', 1, None, 1)\n",
      "(1, 'Name', 'NVARCHAR(120)', 0, None, 0)\n"
     ]
    }
   ],
   "source": [
    "for row in cur.execute(\"PRAGMA table_info([genres]);\"):\n",
    "    print(row)"
   ]
  },
  {
   "cell_type": "code",
   "execution_count": 85,
   "metadata": {},
   "outputs": [
    {
     "name": "stdout",
     "output_type": "stream",
     "text": [
      "(13,)\n"
     ]
    }
   ],
   "source": [
    "#Quantos artistas/bandas (artists) possuem nomes (Name) começando com a letra \"L\"?\n",
    "for row in cur.execute(\"SELECT COUNT(name) FROM artists WHERE name LIKE 'l%'\"):\n",
    "    print(row)"
   ]
  },
  {
   "cell_type": "code",
   "execution_count": 86,
   "metadata": {},
   "outputs": [
    {
     "name": "stdout",
     "output_type": "stream",
     "text": [
      "('Occupation / Precipice',)\n",
      "('Through a Looking Glass',)\n",
      "('Greetings from Earth, Pt. 1',)\n",
      "('The Man With Nine Lives',)\n",
      "('Battlestar Galactica, Pt. 2',)\n"
     ]
    }
   ],
   "source": [
    "#Quais as 5 faixas (tracks) mais longas?\n",
    "for row in cur.execute(\"SELECT name FROM tracks ORDER BY Milliseconds desc limit 5\"):\n",
    "    print(row)"
   ]
  },
  {
   "cell_type": "code",
   "execution_count": 87,
   "metadata": {},
   "outputs": [
    {
     "name": "stdout",
     "output_type": "stream",
     "text": [
      "(None,)\n",
      "(None,)\n",
      "(None,)\n",
      "(None,)\n",
      "(None,)\n"
     ]
    }
   ],
   "source": [
    "#Quais são os nomes (Name) dos artistas (artists) que as gravaram?\n",
    "for row in cur.execute(\"SELECT composer FROM tracks ORDER BY Milliseconds desc limit 5\"):\n",
    "    print(row)"
   ]
  },
  {
   "cell_type": "code",
   "execution_count": 123,
   "metadata": {},
   "outputs": [
    {
     "name": "stdout",
     "output_type": "stream",
     "text": [
      "(2911783.0384615385, 20)\n",
      "(2625549.076923077, 18)\n",
      "(2575283.78125, 21)\n",
      "(2145041.0215053763, 19)\n",
      "(1585263.705882353, 22)\n",
      "(309749.4438502674, 3)\n",
      "(302985.8, 15)\n",
      "(297452.9285714286, 13)\n",
      "(293867.5675675676, 24)\n",
      "(291755.3769230769, 2)\n"
     ]
    }
   ],
   "source": [
    "#Qual o gênero (Genre) que possui, em média, as faixas (tracks) mais longas?\n",
    "for row in cur.execute(\"SELECT AVG(Milliseconds), GenreID FROM tracks GROUP BY GenreID ORDER BY AVG(Milliseconds) desc LIMIT 10\"):\n",
    "    print(row)"
   ]
  },
  {
   "cell_type": "code",
   "execution_count": 139,
   "metadata": {},
   "outputs": [
    {
     "name": "stdout",
     "output_type": "stream",
     "text": [
      "(20,)\n"
     ]
    }
   ],
   "source": [
    "#Qual o gênero (Genre) que possui, em média, as faixas (tracks) mais longas?\n",
    "for row in cur.execute(\"SELECT GenreID FROM tracks GROUP BY GenreID ORDER BY AVG(Milliseconds) desc LIMIT 1\"):\n",
    "    print(row)"
   ]
  },
  {
   "cell_type": "code",
   "execution_count": 134,
   "metadata": {},
   "outputs": [
    {
     "name": "stdout",
     "output_type": "stream",
     "text": [
      "(1.990000000000001, 19)\n"
     ]
    }
   ],
   "source": [
    "#Qual o gênero (Genre) que possui, em média, as faixas (tracks) mais caras?\n",
    "for row in cur.execute(\"SELECT AVG(UnitPrice), GenreID FROM tracks GROUP BY GenreID ORDER BY AVG(UnitPrice) desc LIMIT 1\"):\n",
    "    print(row)"
   ]
  },
  {
   "cell_type": "code",
   "execution_count": 136,
   "metadata": {},
   "outputs": [
    {
     "name": "stdout",
     "output_type": "stream",
     "text": [
      "(19,)\n"
     ]
    }
   ],
   "source": [
    "#Qual o gênero (Genre) que possui, em média, as faixas (tracks) mais caras?\n",
    "for row in cur.execute(\"SELECT GenreID FROM tracks GROUP BY GenreID ORDER BY AVG(UnitPrice) desc LIMIT 1\"):\n",
    "    print(row)"
   ]
  },
  {
   "cell_type": "code",
   "execution_count": 129,
   "metadata": {},
   "outputs": [
    {
     "name": "stdout",
     "output_type": "stream",
     "text": [
      "(0.99, 1)\n",
      "(0.99, 1)\n",
      "(0.99, 1)\n",
      "(0.99, 1)\n"
     ]
    }
   ],
   "source": [
    "for row in cur.execute(\"\"\"SELECT (UnitPrice), GenreID FROM tracks limit 4\"\"\"):\n",
    "    print(row)"
   ]
  },
  {
   "cell_type": "code",
   "execution_count": 117,
   "metadata": {},
   "outputs": [
    {
     "name": "stdout",
     "output_type": "stream",
     "text": [
      "(25,)\n"
     ]
    }
   ],
   "source": [
    "for row in cur.execute(\"\"\"SELECT count(distinct GenreID) from tracks\"\"\"):\n",
    "    print(row)"
   ]
  },
  {
   "cell_type": "markdown",
   "metadata": {},
   "source": [
    "Questão 3 (3.0 pontos)  (questão desafiante!!)\n",
    "\n",
    "Com o banco de dados da questão anterior, crie um grafo utilizando o pacote networkx do Python, de modo que os artistas estejam ligados ao gênero a que pertence a maioria de suas músicas. Diferencie com atributos os nós de artista e de gênero.\n",
    "\n",
    "https://networkx.github.io/  \n",
    "https://networkx.github.io/documentation/stable/tutorial.html#directed-graphs \n",
    "https://networkx.github.io/documentation/stable/tutorial.html#adding-attributes-to-graphs-nodes-and-edges  \n",
    "https://networkx.github.io/documentation/stable/tutorial.html#drawing-graphs  "
   ]
  },
  {
   "cell_type": "code",
   "execution_count": 21,
   "metadata": {},
   "outputs": [],
   "source": [
    "# seu código aqui"
   ]
  },
  {
   "cell_type": "markdown",
   "metadata": {
    "collapsed": true
   },
   "source": [
    "Questão 4 (1.5 pontos) \n",
    "\n",
    "Pedro, coitado, programa em R há muitos anos, mas gostaria de migrar para Python, uma linguagem muito mais poderosa. Ajude-o a converter o código abaixo para Python:  "
   ]
  },
  {
   "cell_type": "code",
   "execution_count": 22,
   "metadata": {},
   "outputs": [
    {
     "ename": "SyntaxError",
     "evalue": "invalid syntax (<ipython-input-22-98b7d93b2ca8>, line 1)",
     "output_type": "error",
     "traceback": [
      "\u001b[0;36m  File \u001b[0;32m\"<ipython-input-22-98b7d93b2ca8>\"\u001b[0;36m, line \u001b[0;32m1\u001b[0m\n\u001b[0;31m    countdown <- function(from)\u001b[0m\n\u001b[0m                             ^\u001b[0m\n\u001b[0;31mSyntaxError\u001b[0m\u001b[0;31m:\u001b[0m invalid syntax\n"
     ]
    }
   ],
   "source": [
    "countdown <- function(from)\n",
    "{\n",
    "  print(from)\n",
    "  while(from!=0)\n",
    "  {\n",
    "    Sys.sleep(1)\n",
    "    from <- from - 1\n",
    "    print(from)\n",
    "  }\n",
    "}\n",
    "\n",
    "countdown(5)"
   ]
  },
  {
   "cell_type": "code",
   "execution_count": 23,
   "metadata": {},
   "outputs": [],
   "source": [
    "def countdown(fro):\n",
    "    print(fro)\n",
    "    while fro != 0:\n",
    "        time.sleep(1)\n",
    "        fro = fro - 1\n",
    "        print(fro)"
   ]
  },
  {
   "cell_type": "code",
   "execution_count": 24,
   "metadata": {},
   "outputs": [
    {
     "name": "stdout",
     "output_type": "stream",
     "text": [
      "5\n",
      "4\n",
      "3\n",
      "2\n",
      "1\n",
      "0\n"
     ]
    }
   ],
   "source": [
    "countdown(5)"
   ]
  },
  {
   "cell_type": "markdown",
   "metadata": {},
   "source": [
    "Questão 5 (1.5 pontos) \n",
    "\n",
    "Vitória é uma excelente programadora em C. Nos últimos tempos - mas isso ela não admitiria - tem se convencido de que Python é uma escolha mais razoável para sua vida acadêmica. Ajude-a a converter o código abaixo para Python:    "
   ]
  },
  {
   "cell_type": "code",
   "execution_count": 25,
   "metadata": {},
   "outputs": [
    {
     "ename": "SyntaxError",
     "evalue": "invalid syntax (<ipython-input-25-0e07da0fba82>, line 2)",
     "output_type": "error",
     "traceback": [
      "\u001b[0;36m  File \u001b[0;32m\"<ipython-input-25-0e07da0fba82>\"\u001b[0;36m, line \u001b[0;32m2\u001b[0m\n\u001b[0;31m    int main()\u001b[0m\n\u001b[0m           ^\u001b[0m\n\u001b[0;31mSyntaxError\u001b[0m\u001b[0;31m:\u001b[0m invalid syntax\n"
     ]
    }
   ],
   "source": [
    "#include <stdio.h>\n",
    "int main()\n",
    "{\n",
    "    int n, reversedInteger = 0, remainder, originalInteger;\n",
    "\n",
    "    printf(\"Enter an integer: \");\n",
    "    scanf(\"%d\", &n);\n",
    "\n",
    "    originalInteger = n;\n",
    "\n",
    "    // reversed integer is stored in variable \n",
    "    while( n!=0 )\n",
    "    {\n",
    "        remainder = n%10;\n",
    "        reversedInteger = reversedInteger*10 + remainder;\n",
    "        n /= 10;\n",
    "    }\n",
    "\n",
    "    // palindrome if orignalInteger and reversedInteger are equal\n",
    "    if (originalInteger == reversedInteger)\n",
    "        printf(\"%d is a palindrome.\", originalInteger);\n",
    "    else\n",
    "        printf(\"%d is not a palindrome.\", originalInteger);\n",
    "    \n",
    "    return 0;\n",
    "}"
   ]
  },
  {
   "cell_type": "code",
   "execution_count": 26,
   "metadata": {},
   "outputs": [],
   "source": [
    "#seu código aqui"
   ]
  },
  {
   "cell_type": "markdown",
   "metadata": {},
   "source": [
    "Questão Bônus (0,5 pontos)  \n",
    "\n",
    "Alexandrino gosta muito de LISP, mas - poucos sabem - secretamente acalenta o sonho de programar em Python. \n",
    "Ajude-o a converter o código abaixo para Python:  "
   ]
  },
  {
   "cell_type": "code",
   "execution_count": 27,
   "metadata": {},
   "outputs": [
    {
     "ename": "SyntaxError",
     "evalue": "invalid syntax (<ipython-input-27-27fe275b691e>, line 1)",
     "output_type": "error",
     "traceback": [
      "\u001b[0;36m  File \u001b[0;32m\"<ipython-input-27-27fe275b691e>\"\u001b[0;36m, line \u001b[0;32m1\u001b[0m\n\u001b[0;31m    (defun get-max-value (list)\u001b[0m\n\u001b[0m             ^\u001b[0m\n\u001b[0;31mSyntaxError\u001b[0m\u001b[0;31m:\u001b[0m invalid syntax\n"
     ]
    }
   ],
   "source": [
    "(defun get-max-value (list)\n",
    "  (let ((ans (first list)))\n",
    "    (do ((i 1 (1+ i)))\n",
    "        ((>= i (length list)) ans)\n",
    "      (when (> (nth i list) ans)\n",
    "        (setf ans (nth i list))))))"
   ]
  },
  {
   "cell_type": "code",
   "execution_count": 28,
   "metadata": {},
   "outputs": [],
   "source": [
    "#seu código aqui"
   ]
  },
  {
   "cell_type": "code",
   "execution_count": null,
   "metadata": {},
   "outputs": [],
   "source": []
  },
  {
   "cell_type": "code",
   "execution_count": null,
   "metadata": {},
   "outputs": [],
   "source": []
  },
  {
   "cell_type": "code",
   "execution_count": null,
   "metadata": {},
   "outputs": [],
   "source": []
  }
 ],
 "metadata": {
  "kernelspec": {
   "display_name": "Python 3",
   "language": "python",
   "name": "python3"
  },
  "language_info": {
   "codemirror_mode": {
    "name": "ipython",
    "version": 3
   },
   "file_extension": ".py",
   "mimetype": "text/x-python",
   "name": "python",
   "nbconvert_exporter": "python",
   "pygments_lexer": "ipython3",
   "version": "3.5.2"
  }
 },
 "nbformat": 4,
 "nbformat_minor": 1
}
