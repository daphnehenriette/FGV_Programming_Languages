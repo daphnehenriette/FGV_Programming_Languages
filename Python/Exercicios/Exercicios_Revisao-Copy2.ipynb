{
 "cells": [
  {
   "cell_type": "markdown",
   "metadata": {},
   "source": [
    "Exercícios de Revisão\n",
    "--\n",
    "Professor: Renato Rocha Souza  \n",
    "--"
   ]
  },
  {
   "cell_type": "code",
   "execution_count": 3,
   "metadata": {
    "collapsed": true
   },
   "outputs": [],
   "source": [
    "import itertools\n",
    "import random\n",
    "import numpy as np\n",
    "import matplotlib.pyplot as plt\n",
    "import urllib\n",
    "import pandas as pd\n",
    "import requests\n",
    "from bs4 import BeautifulSoup as bs\n",
    "import networkx as nx\n",
    "%matplotlib inline"
   ]
  },
  {
   "cell_type": "markdown",
   "metadata": {},
   "source": [
    "Em quais tipos de dados do Python (que você conhece) que se pode iterar (com o comando for, por exemplo)? Exemplifique para cada tipo."
   ]
  },
  {
   "cell_type": "code",
   "execution_count": null,
   "metadata": {
    "collapsed": true
   },
   "outputs": [],
   "source": [
    "tipo container"
   ]
  },
  {
   "cell_type": "markdown",
   "metadata": {},
   "source": [
    "Escreva uma função que receba um número romano e retorne o equivalente em algarismos indo-arábicos"
   ]
  },
  {
   "cell_type": "code",
   "execution_count": null,
   "metadata": {
    "collapsed": true
   },
   "outputs": [],
   "source": []
  },
  {
   "cell_type": "markdown",
   "metadata": {},
   "source": [
    "#### Validação de CPF\n",
    "\n",
    "O CPF é formado por 11 dígitos numéricos que seguem a máscara “###.###.###-##”, a verificação do CPF acontece utilizando os 9 primeiros dígitos e, com um cálculo simples, verificando se o resultado corresponde aos dois últimos dígitos (depois do sinal “-“).\n",
    "\n",
    "Vamos usar como exemplo, um CPF fictício “529.982.247-25”.\n",
    "\n",
    "#### Validação do primeiro dígito após o \"-\"\n",
    "\n",
    "Primeiramente multiplicam-se os 9 primeiros dígitos pela sequência decrescente de números de 10 à 2 e soma os resultados. Assim:\n",
    "\n",
    "    5 * 10 + 2 * 9 + 9 * 8 + 9 * 7 + 8 * 6 + 2 * 5 + 2 * 4 + 4 * 3 + 7 * 2\n",
    "\n",
    "O resultado do nosso exemplo é: 295\n",
    "    \n",
    "O próximo passo da verificação também é simples, basta multiplicarmos esse resultado por 10 e dividirmos por 11.\n",
    "\n",
    "    295 * 10 / 11\n",
    "\n",
    "O resultado que nos interessa na verdade é o RESTO da divisão. Se ele for igual ao primeiro dígito verificador (primeiro dígito depois do ‘-‘), a primeira parte da validação está correta.\n",
    "\n",
    "Observação Importante: Se o resto da divisão for igual a 10, nós o consideramos como 0.\n",
    "\n",
    "Vamos conferir o primeiro dígito verificador do nosso exemplo. O resultado da divisão acima é ‘268’ e o RESTO é 2\n",
    "\n",
    "Isso significa que o nosso CPF exemplo passou na validação do primeiro dígito.\n",
    "\n",
    "#### Validação do segundo dígito após o \"-\"\n",
    "\n",
    "A validação do segundo dígito é semelhante à primeira, porém vamos considerar os 9 primeiros dígitos, mais o primeiro dígito verificador, e vamos multiplicar esses 10 números pela sequencia decrescente de 11 a 2. Vejamos:\n",
    "\n",
    "    5 * 11 + 2 * 10 + 9 * 9 + 9 * 8 + 8 * 7 + 2 * 6 + 2 * 5 + 4 * 4 + 7 * 3 + 2 * 2\n",
    "\n",
    "O resultado é: 347\n",
    "\n",
    "Seguindo o mesmo processo da primeira verificação, multiplicamos por 10 e dividimos por 11.\n",
    "\n",
    "    347 * 10 / 11\n",
    "\n",
    "Verificando o RESTO, como fizemos anteriormente, temos que o resultado da divisão é ‘315’ e o RESTO é 5\n",
    "\n",
    "Verificamos, se o resto corresponde ao segundo dígito verificador. Com essa verificação, constatamos que o CPF 529.982.247-25 é válido.\n",
    "\n",
    "Existe alguns casos de CPFs que passam nessa validação que expliquei, mas que ainda são inválidos. É os caso dos CPFs com dígitos repetidos (111.111.111-11, 222.222.222-22, …). Esses CPF atendem à validação, mas ainda são considerados inválidos.\n",
    "\n",
    "#### Crie uma função que receba um CPF e diga se este é válido."
   ]
  },
  {
   "cell_type": "code",
   "execution_count": null,
   "metadata": {
    "collapsed": true
   },
   "outputs": [],
   "source": []
  },
  {
   "cell_type": "markdown",
   "metadata": {},
   "source": [
    "Escreva um programa em Python que:\n",
    "+ Leia o arquivo em: \n",
    "\thttps://github.com/rsouza/FGV-Intro-Python/blob/master/numero_mil_digitos.txt\n",
    "+ Some 1 (um) a cada dígito do arquivo (se for 9, vira 0), e;\n",
    "+ Salve o arquivo novamente no seu disco rígido com o nome de “resultado.txt”.\n",
    "\n",
    "+ Lembre-se dos métodos de arquivo: read(), readline(), readlines() e write().\n",
    "\n",
    "Lembre-se, também, do caractere especial <newline> (\\n).\n",
    "Finalmente, lembre-se do pacote “requests”, se quiser automatizar a leitura do arquivo na web."
   ]
  },
  {
   "cell_type": "code",
   "execution_count": null,
   "metadata": {
    "collapsed": true
   },
   "outputs": [],
   "source": []
  },
  {
   "cell_type": "markdown",
   "metadata": {},
   "source": [
    "Mostre graficamente que $ \\sin ^2 x + \\cos^2 x = 1. $  \n",
    "\n",
    "Dica: para melhor visualização do gráfico, mude a escala dos eixos com $plt.axis([x_{min},x_{max},y_{min},y_{max}])$"
   ]
  },
  {
   "cell_type": "code",
   "execution_count": null,
   "metadata": {
    "collapsed": true
   },
   "outputs": [],
   "source": []
  },
  {
   "cell_type": "markdown",
   "metadata": {},
   "source": [
    "Vamos testar se o módulo “random” gera mesmo números aleatórios?   \n",
    "Escreva uma função que sorteie 10000 números de 1 a 10 e crie um gráfico (histograma) com a frequência de ocorrência de cada um deles.  "
   ]
  },
  {
   "cell_type": "code",
   "execution_count": null,
   "metadata": {
    "collapsed": true
   },
   "outputs": [],
   "source": [
    "x = np.random.randint(0,10,10000000)\n",
    "plt.hist(x, 20, facecolor='g', alpha=0.5, histtype='stepfilled')\n",
    "plt.show()"
   ]
  },
  {
   "cell_type": "markdown",
   "metadata": {
    "collapsed": true
   },
   "source": [
    "Escreva uma função que gere uma lista com os n primeiros números primos.    "
   ]
  },
  {
   "cell_type": "code",
   "execution_count": null,
   "metadata": {
    "collapsed": true
   },
   "outputs": [],
   "source": []
  },
  {
   "cell_type": "markdown",
   "metadata": {},
   "source": [
    "Escreva uma função que gere uma lista com os n primeiros números da sequência de fibonacci  "
   ]
  },
  {
   "cell_type": "code",
   "execution_count": null,
   "metadata": {
    "collapsed": true
   },
   "outputs": [],
   "source": []
  },
  {
   "cell_type": "markdown",
   "metadata": {
    "collapsed": true
   },
   "source": [
    "Escreva uma função que receba n listas de números e “plote” estas sequências em um único gráfico."
   ]
  },
  {
   "cell_type": "code",
   "execution_count": 8,
   "metadata": {
    "collapsed": true
   },
   "outputs": [],
   "source": [
    "seq1 = [1,2,3,4,5,6]\n",
    "seq2 = [8,6,5,2,3,1]\n",
    "seq3 = [8,3,5,2,4,1]\n",
    "\n",
    "def plota_seq(*seqs):\n",
    "    for seq in seqs:\n",
    "        plt.plot(seq)\n",
    "        \n",
    "def plota_seq_lado(*seqs):\n",
    "    num = len(seqs)\n",
    "    fig, ax = plt.subplot(nrows = 1, ncols = num, figsize=(8,8))\n",
    "    for idx, seq in enumerate(seqs):\n",
    "        ax[idx].plot(seq)  #passando para cada gráfico o que tem que plotar"
   ]
  },
  {
   "cell_type": "code",
   "execution_count": 5,
   "metadata": {},
   "outputs": [
    {
     "data": {
      "image/png": "[encoded data removed]",
      "text/plain": [
       "<matplotlib.figure.Figure at 0x7ff7d06c87b8>"
      ]
     },
     "metadata": {},
     "output_type": "display_data"
    }
   ],
   "source": [
    "plota_seq(seq1,seq2,seq3)"
   ]
  },
  {
   "cell_type": "code",
   "execution_count": 9,
   "metadata": {},
   "outputs": [
    {
     "ename": "AttributeError",
     "evalue": "Unknown property figsize",
     "output_type": "error",
     "traceback": [
      "\u001b[0;31m---------------------------------------------------------------------------\u001b[0m",
      "\u001b[0;31mAttributeError\u001b[0m                            Traceback (most recent call last)",
      "\u001b[0;32m<ipython-input-9-7f9e9187e509>\u001b[0m in \u001b[0;36m<module>\u001b[0;34m()\u001b[0m\n\u001b[0;32m----> 1\u001b[0;31m \u001b[0mplota_seq_lado\u001b[0m\u001b[0;34m(\u001b[0m\u001b[0mseq1\u001b[0m\u001b[0;34m,\u001b[0m\u001b[0mseq2\u001b[0m\u001b[0;34m,\u001b[0m\u001b[0mseq3\u001b[0m\u001b[0;34m)\u001b[0m\u001b[0;34m\u001b[0m\u001b[0m\n\u001b[0m",
      "\u001b[0;32m<ipython-input-8-74925a75f1f6>\u001b[0m in \u001b[0;36mplota_seq_lado\u001b[0;34m(*seqs)\u001b[0m\n\u001b[1;32m      9\u001b[0m \u001b[0;32mdef\u001b[0m \u001b[0mplota_seq_lado\u001b[0m\u001b[0;34m(\u001b[0m\u001b[0;34m*\u001b[0m\u001b[0mseqs\u001b[0m\u001b[0;34m)\u001b[0m\u001b[0;34m:\u001b[0m\u001b[0;34m\u001b[0m\u001b[0m\n\u001b[1;32m     10\u001b[0m     \u001b[0mnum\u001b[0m \u001b[0;34m=\u001b[0m \u001b[0mlen\u001b[0m\u001b[0;34m(\u001b[0m\u001b[0mseqs\u001b[0m\u001b[0;34m)\u001b[0m\u001b[0;34m\u001b[0m\u001b[0m\n\u001b[0;32m---> 11\u001b[0;31m     \u001b[0mfig\u001b[0m\u001b[0;34m,\u001b[0m \u001b[0max\u001b[0m \u001b[0;34m=\u001b[0m \u001b[0mplt\u001b[0m\u001b[0;34m.\u001b[0m\u001b[0msubplot\u001b[0m\u001b[0;34m(\u001b[0m\u001b[0mnrows\u001b[0m \u001b[0;34m=\u001b[0m \u001b[0;36m1\u001b[0m\u001b[0;34m,\u001b[0m \u001b[0mncols\u001b[0m \u001b[0;34m=\u001b[0m \u001b[0mnum\u001b[0m\u001b[0;34m,\u001b[0m \u001b[0mfigsize\u001b[0m\u001b[0;34m=\u001b[0m\u001b[0;34m(\u001b[0m\u001b[0;36m8\u001b[0m\u001b[0;34m,\u001b[0m\u001b[0;36m8\u001b[0m\u001b[0;34m)\u001b[0m\u001b[0;34m)\u001b[0m\u001b[0;34m\u001b[0m\u001b[0m\n\u001b[0m\u001b[1;32m     12\u001b[0m     \u001b[0;32mfor\u001b[0m \u001b[0midx\u001b[0m\u001b[0;34m,\u001b[0m \u001b[0mseq\u001b[0m \u001b[0;32min\u001b[0m \u001b[0menumerate\u001b[0m\u001b[0;34m(\u001b[0m\u001b[0mseqs\u001b[0m\u001b[0;34m)\u001b[0m\u001b[0;34m:\u001b[0m\u001b[0;34m\u001b[0m\u001b[0m\n\u001b[1;32m     13\u001b[0m         \u001b[0max\u001b[0m\u001b[0;34m[\u001b[0m\u001b[0midx\u001b[0m\u001b[0;34m]\u001b[0m\u001b[0;34m.\u001b[0m\u001b[0mplot\u001b[0m\u001b[0;34m(\u001b[0m\u001b[0mseq\u001b[0m\u001b[0;34m)\u001b[0m  \u001b[0;31m#passando para cada gráfico o que tem que plotar\u001b[0m\u001b[0;34m\u001b[0m\u001b[0m\n",
      "\u001b[0;32m/usr/local/lib/python3.5/dist-packages/matplotlib/pyplot.py\u001b[0m in \u001b[0;36msubplot\u001b[0;34m(*args, **kwargs)\u001b[0m\n\u001b[1;32m   1042\u001b[0m \u001b[0;34m\u001b[0m\u001b[0m\n\u001b[1;32m   1043\u001b[0m     \u001b[0mfig\u001b[0m \u001b[0;34m=\u001b[0m \u001b[0mgcf\u001b[0m\u001b[0;34m(\u001b[0m\u001b[0;34m)\u001b[0m\u001b[0;34m\u001b[0m\u001b[0m\n\u001b[0;32m-> 1044\u001b[0;31m     \u001b[0ma\u001b[0m \u001b[0;34m=\u001b[0m \u001b[0mfig\u001b[0m\u001b[0;34m.\u001b[0m\u001b[0madd_subplot\u001b[0m\u001b[0;34m(\u001b[0m\u001b[0;34m*\u001b[0m\u001b[0margs\u001b[0m\u001b[0;34m,\u001b[0m \u001b[0;34m**\u001b[0m\u001b[0mkwargs\u001b[0m\u001b[0;34m)\u001b[0m\u001b[0;34m\u001b[0m\u001b[0m\n\u001b[0m\u001b[1;32m   1045\u001b[0m     \u001b[0mbbox\u001b[0m \u001b[0;34m=\u001b[0m \u001b[0ma\u001b[0m\u001b[0;34m.\u001b[0m\u001b[0mbbox\u001b[0m\u001b[0;34m\u001b[0m\u001b[0m\n\u001b[1;32m   1046\u001b[0m     \u001b[0mbyebye\u001b[0m \u001b[0;34m=\u001b[0m \u001b[0;34m[\u001b[0m\u001b[0;34m]\u001b[0m\u001b[0;34m\u001b[0m\u001b[0m\n",
      "\u001b[0;32m/usr/local/lib/python3.5/dist-packages/matplotlib/figure.py\u001b[0m in \u001b[0;36madd_subplot\u001b[0;34m(self, *args, **kwargs)\u001b[0m\n\u001b[1;32m   1019\u001b[0m                     \u001b[0mself\u001b[0m\u001b[0;34m.\u001b[0m\u001b[0m_axstack\u001b[0m\u001b[0;34m.\u001b[0m\u001b[0mremove\u001b[0m\u001b[0;34m(\u001b[0m\u001b[0max\u001b[0m\u001b[0;34m)\u001b[0m\u001b[0;34m\u001b[0m\u001b[0m\n\u001b[1;32m   1020\u001b[0m \u001b[0;34m\u001b[0m\u001b[0m\n\u001b[0;32m-> 1021\u001b[0;31m             \u001b[0ma\u001b[0m \u001b[0;34m=\u001b[0m \u001b[0msubplot_class_factory\u001b[0m\u001b[0;34m(\u001b[0m\u001b[0mprojection_class\u001b[0m\u001b[0;34m)\u001b[0m\u001b[0;34m(\u001b[0m\u001b[0mself\u001b[0m\u001b[0;34m,\u001b[0m \u001b[0;34m*\u001b[0m\u001b[0margs\u001b[0m\u001b[0;34m,\u001b[0m \u001b[0;34m**\u001b[0m\u001b[0mkwargs\u001b[0m\u001b[0;34m)\u001b[0m\u001b[0;34m\u001b[0m\u001b[0m\n\u001b[0m\u001b[1;32m   1022\u001b[0m \u001b[0;34m\u001b[0m\u001b[0m\n\u001b[1;32m   1023\u001b[0m         \u001b[0mself\u001b[0m\u001b[0;34m.\u001b[0m\u001b[0m_axstack\u001b[0m\u001b[0;34m.\u001b[0m\u001b[0madd\u001b[0m\u001b[0;34m(\u001b[0m\u001b[0mkey\u001b[0m\u001b[0;34m,\u001b[0m \u001b[0ma\u001b[0m\u001b[0;34m)\u001b[0m\u001b[0;34m\u001b[0m\u001b[0m\n",
      "\u001b[0;32m/usr/local/lib/python3.5/dist-packages/matplotlib/axes/_subplots.py\u001b[0m in \u001b[0;36m__init__\u001b[0;34m(self, fig, *args, **kwargs)\u001b[0m\n\u001b[1;32m     71\u001b[0m \u001b[0;34m\u001b[0m\u001b[0m\n\u001b[1;32m     72\u001b[0m         \u001b[0;31m# _axes_class is set in the subplot_class_factory\u001b[0m\u001b[0;34m\u001b[0m\u001b[0;34m\u001b[0m\u001b[0m\n\u001b[0;32m---> 73\u001b[0;31m         \u001b[0mself\u001b[0m\u001b[0;34m.\u001b[0m\u001b[0m_axes_class\u001b[0m\u001b[0;34m.\u001b[0m\u001b[0m__init__\u001b[0m\u001b[0;34m(\u001b[0m\u001b[0mself\u001b[0m\u001b[0;34m,\u001b[0m \u001b[0mfig\u001b[0m\u001b[0;34m,\u001b[0m \u001b[0mself\u001b[0m\u001b[0;34m.\u001b[0m\u001b[0mfigbox\u001b[0m\u001b[0;34m,\u001b[0m \u001b[0;34m**\u001b[0m\u001b[0mkwargs\u001b[0m\u001b[0;34m)\u001b[0m\u001b[0;34m\u001b[0m\u001b[0m\n\u001b[0m\u001b[1;32m     74\u001b[0m \u001b[0;34m\u001b[0m\u001b[0m\n\u001b[1;32m     75\u001b[0m     \u001b[0;32mdef\u001b[0m \u001b[0m__reduce__\u001b[0m\u001b[0;34m(\u001b[0m\u001b[0mself\u001b[0m\u001b[0;34m)\u001b[0m\u001b[0;34m:\u001b[0m\u001b[0;34m\u001b[0m\u001b[0m\n",
      "\u001b[0;32m/usr/local/lib/python3.5/dist-packages/matplotlib/axes/_base.py\u001b[0m in \u001b[0;36m__init__\u001b[0;34m(self, fig, rect, facecolor, frameon, sharex, sharey, label, xscale, yscale, axisbg, **kwargs)\u001b[0m\n\u001b[1;32m    566\u001b[0m \u001b[0;34m\u001b[0m\u001b[0m\n\u001b[1;32m    567\u001b[0m         \u001b[0;32mif\u001b[0m \u001b[0mlen\u001b[0m\u001b[0;34m(\u001b[0m\u001b[0mkwargs\u001b[0m\u001b[0;34m)\u001b[0m\u001b[0;34m:\u001b[0m\u001b[0;34m\u001b[0m\u001b[0m\n\u001b[0;32m--> 568\u001b[0;31m             \u001b[0mself\u001b[0m\u001b[0;34m.\u001b[0m\u001b[0mupdate\u001b[0m\u001b[0;34m(\u001b[0m\u001b[0mkwargs\u001b[0m\u001b[0;34m)\u001b[0m\u001b[0;34m\u001b[0m\u001b[0m\n\u001b[0m\u001b[1;32m    569\u001b[0m \u001b[0;34m\u001b[0m\u001b[0m\n\u001b[1;32m    570\u001b[0m         \u001b[0;32mif\u001b[0m \u001b[0mself\u001b[0m\u001b[0;34m.\u001b[0m\u001b[0mxaxis\u001b[0m \u001b[0;32mis\u001b[0m \u001b[0;32mnot\u001b[0m \u001b[0;32mNone\u001b[0m\u001b[0;34m:\u001b[0m\u001b[0;34m\u001b[0m\u001b[0m\n",
      "\u001b[0;32m/usr/local/lib/python3.5/dist-packages/matplotlib/artist.py\u001b[0m in \u001b[0;36mupdate\u001b[0;34m(self, props)\u001b[0m\n\u001b[1;32m    883\u001b[0m         \u001b[0;32mtry\u001b[0m\u001b[0;34m:\u001b[0m\u001b[0;34m\u001b[0m\u001b[0m\n\u001b[1;32m    884\u001b[0m             ret = [_update_property(self, k, v)\n\u001b[0;32m--> 885\u001b[0;31m                    for k, v in props.items()]\n\u001b[0m\u001b[1;32m    886\u001b[0m         \u001b[0;32mfinally\u001b[0m\u001b[0;34m:\u001b[0m\u001b[0;34m\u001b[0m\u001b[0m\n\u001b[1;32m    887\u001b[0m             \u001b[0mself\u001b[0m\u001b[0;34m.\u001b[0m\u001b[0meventson\u001b[0m \u001b[0;34m=\u001b[0m \u001b[0mstore\u001b[0m\u001b[0;34m\u001b[0m\u001b[0m\n",
      "\u001b[0;32m/usr/local/lib/python3.5/dist-packages/matplotlib/artist.py\u001b[0m in \u001b[0;36m<listcomp>\u001b[0;34m(.0)\u001b[0m\n\u001b[1;32m    883\u001b[0m         \u001b[0;32mtry\u001b[0m\u001b[0;34m:\u001b[0m\u001b[0;34m\u001b[0m\u001b[0m\n\u001b[1;32m    884\u001b[0m             ret = [_update_property(self, k, v)\n\u001b[0;32m--> 885\u001b[0;31m                    for k, v in props.items()]\n\u001b[0m\u001b[1;32m    886\u001b[0m         \u001b[0;32mfinally\u001b[0m\u001b[0;34m:\u001b[0m\u001b[0;34m\u001b[0m\u001b[0m\n\u001b[1;32m    887\u001b[0m             \u001b[0mself\u001b[0m\u001b[0;34m.\u001b[0m\u001b[0meventson\u001b[0m \u001b[0;34m=\u001b[0m \u001b[0mstore\u001b[0m\u001b[0;34m\u001b[0m\u001b[0m\n",
      "\u001b[0;32m/usr/local/lib/python3.5/dist-packages/matplotlib/artist.py\u001b[0m in \u001b[0;36m_update_property\u001b[0;34m(self, k, v)\u001b[0m\n\u001b[1;32m    876\u001b[0m                 \u001b[0mfunc\u001b[0m \u001b[0;34m=\u001b[0m \u001b[0mgetattr\u001b[0m\u001b[0;34m(\u001b[0m\u001b[0mself\u001b[0m\u001b[0;34m,\u001b[0m \u001b[0;34m'set_'\u001b[0m \u001b[0;34m+\u001b[0m \u001b[0mk\u001b[0m\u001b[0;34m,\u001b[0m \u001b[0;32mNone\u001b[0m\u001b[0;34m)\u001b[0m\u001b[0;34m\u001b[0m\u001b[0m\n\u001b[1;32m    877\u001b[0m                 \u001b[0;32mif\u001b[0m \u001b[0mfunc\u001b[0m \u001b[0;32mis\u001b[0m \u001b[0;32mNone\u001b[0m \u001b[0;32mor\u001b[0m \u001b[0;32mnot\u001b[0m \u001b[0msix\u001b[0m\u001b[0;34m.\u001b[0m\u001b[0mcallable\u001b[0m\u001b[0;34m(\u001b[0m\u001b[0mfunc\u001b[0m\u001b[0;34m)\u001b[0m\u001b[0;34m:\u001b[0m\u001b[0;34m\u001b[0m\u001b[0m\n\u001b[0;32m--> 878\u001b[0;31m                     \u001b[0;32mraise\u001b[0m \u001b[0mAttributeError\u001b[0m\u001b[0;34m(\u001b[0m\u001b[0;34m'Unknown property %s'\u001b[0m \u001b[0;34m%\u001b[0m \u001b[0mk\u001b[0m\u001b[0;34m)\u001b[0m\u001b[0;34m\u001b[0m\u001b[0m\n\u001b[0m\u001b[1;32m    879\u001b[0m                 \u001b[0;32mreturn\u001b[0m \u001b[0mfunc\u001b[0m\u001b[0;34m(\u001b[0m\u001b[0mv\u001b[0m\u001b[0;34m)\u001b[0m\u001b[0;34m\u001b[0m\u001b[0m\n\u001b[1;32m    880\u001b[0m \u001b[0;34m\u001b[0m\u001b[0m\n",
      "\u001b[0;31mAttributeError\u001b[0m: Unknown property figsize"
     ]
    },
    {
     "data": {
      "text/plain": [
       "<matplotlib.figure.Figure at 0x7ff7d05dec50>"
      ]
     },
     "metadata": {},
     "output_type": "display_data"
    }
   ],
   "source": [
    "plota_seq_lado(seq1,seq2,seq3)"
   ]
  },
  {
   "cell_type": "code",
   "execution_count": null,
   "metadata": {
    "collapsed": true
   },
   "outputs": [],
   "source": []
  },
  {
   "cell_type": "markdown",
   "metadata": {},
   "source": [
    "Implemente funções em Python que tenham as mesmas funcionalidade dos comandos \"range\", \"zip\", \"map\", \"filter\" e \"reduce\""
   ]
  },
  {
   "cell_type": "code",
   "execution_count": null,
   "metadata": {
    "collapsed": true
   },
   "outputs": [],
   "source": []
  },
  {
   "cell_type": "markdown",
   "metadata": {},
   "source": [
    "Escreva uma função em Python que receba uma string e devolva quatro listas: uma com as palavras em minúsculas, outra com as palavras todas em maiúsculas, uma com as palavras que comecem em maiúsculas, e outra com o que não se encaixar nas listas anteriores."
   ]
  },
  {
   "cell_type": "code",
   "execution_count": null,
   "metadata": {
    "collapsed": true
   },
   "outputs": [],
   "source": []
  },
  {
   "cell_type": "markdown",
   "metadata": {},
   "source": [
    "Escreva a sequência de comandos para extrair as palavras que que se iniciem com maiúsculas de uma string utilizando no processo a função “filter”. O resultado deve ser uma lista."
   ]
  },
  {
   "cell_type": "code",
   "execution_count": 12,
   "metadata": {},
   "outputs": [
    {
     "name": "stdout",
     "output_type": "stream",
     "text": [
      "['Uma', 'Frase', 'Algumas']\n"
     ]
    }
   ],
   "source": [
    "string = 'Uma Frase com Algumas palavras em MAIÚSCULO'\n",
    "resultado = filter(str.istitle,string.split())\n",
    "print(list(resultado))"
   ]
  },
  {
   "cell_type": "markdown",
   "metadata": {},
   "source": [
    "Escreva uma função que receba uma lista de nomes e retorne um grafo que ligue os nomes que compartilham ao menos uma letra. Veja o código abaixo para exemplificar a geração de um grafo.\n",
    "+ Mais informação em: https://networkx.github.io/documentation/stable/tutorial.html"
   ]
  },
  {
   "cell_type": "code",
   "execution_count": 14,
   "metadata": {},
   "outputs": [
    {
     "name": "stderr",
     "output_type": "stream",
     "text": [
      "/usr/local/lib/python3.5/dist-packages/networkx/drawing/nx_pylab.py:126: MatplotlibDeprecationWarning: pyplot.hold is deprecated.\n",
      "    Future behavior will be consistent with the long-time default:\n",
      "    plot commands add elements without first clearing the\n",
      "    Axes and/or Figure.\n",
      "  b = plt.ishold()\n",
      "/usr/local/lib/python3.5/dist-packages/networkx/drawing/nx_pylab.py:138: MatplotlibDeprecationWarning: pyplot.hold is deprecated.\n",
      "    Future behavior will be consistent with the long-time default:\n",
      "    plot commands add elements without first clearing the\n",
      "    Axes and/or Figure.\n",
      "  plt.hold(b)\n",
      "/usr/local/lib/python3.5/dist-packages/matplotlib/__init__.py:917: UserWarning: axes.hold is deprecated. Please remove it from your matplotlibrc and/or style files.\n",
      "  warnings.warn(self.msg_depr_set % key)\n",
      "/usr/local/lib/python3.5/dist-packages/matplotlib/rcsetup.py:152: UserWarning: axes.hold is deprecated, will be removed in 3.0\n",
      "  warnings.warn(\"axes.hold is deprecated, will be removed in 3.0\")\n"
     ]
    },
    {
     "data": {
      "image/png": "[encoded data removed]",
      "text/plain": [
       "<matplotlib.figure.Figure at 0x7ff7d0640278>"
      ]
     },
     "metadata": {},
     "output_type": "display_data"
    }
   ],
   "source": [
    "G = nx.Graph() #criando o grafo\n",
    "G.add_nodes_from(['Renato','Carla','Theo','Alifer']) #adicionando nós ao grafo\n",
    "G.add_edge('Renato','Carla') #adicionando aresta ao grafo (ligações)\n",
    "nx.draw(G, with_labels=True, font_weight='bold') #plotando o grafo"
   ]
  },
  {
   "cell_type": "markdown",
   "metadata": {},
   "source": [
    "Uma das tarefas mais comuns no tratamento de dados não estruturados é a extração de informações em textos. Escreva uma função chamada “freqdist” que receba uma string e retorne um dicionário que contenha as palavras como chaves e suas frequências de ocorrência como valores. Use apenas a biblioteca padrão do Python."
   ]
  },
  {
   "cell_type": "code",
   "execution_count": 15,
   "metadata": {
    "collapsed": true
   },
   "outputs": [],
   "source": [
    "#não vale usar o counter"
   ]
  },
  {
   "cell_type": "markdown",
   "metadata": {},
   "source": [
    "Uma técnica muito comum no estudo de linguagem natural é eliminar as palavras mais frequentes que não agregam muito ao texto, para \"limpar\" as análises; essas palavras são chamadas de \"stopwords\".  \n",
    "\n",
    "Crie uma função chamada “remove_stopwords”que recebe um dicionário como o retornado pela função “freqdist”e uma lista de palavras a serem removidas e retorna um novo dicionário, com as devidas palavras removidas.  \n",
    "Por exemplo:  \n",
    "\n",
    "    distribuicao_de_frequencia = {'Era': 1, 'casa': 1, 'engra\\xe7ada': 1,  'muito': 1, 'nada': 1, u'n\\xe3o': 2,\n",
    "                                  'teto': 1, 'tinha': 2, 'uma': 1}\n",
    "    stopwords = ['não', 'de', 'em', 'um', 'uma', 'para']\n",
    "    nova_freqdist = remove_stopwords(distribuicao_de_frequencia, stopwords)\n",
    "    print nova_freqdist\n",
    "    {'casa': 1, 'engra\\xe7ada': 1, 'era': 1, 'muito': 1, 'nada': 1, 'teto': 1, 'tinha': 2}\n",
    "    \n",
    "Nota: sua função não deve alterar o dicionário recebido! Ela deve retornar um novo dicionário com as palavras desejadas."
   ]
  },
  {
   "cell_type": "code",
   "execution_count": null,
   "metadata": {
    "collapsed": true
   },
   "outputs": [],
   "source": []
  },
  {
   "cell_type": "markdown",
   "metadata": {},
   "source": [
    "Escreva uma função que extraia todos os links da url abaixo."
   ]
  },
  {
   "cell_type": "code",
   "execution_count": null,
   "metadata": {
    "collapsed": true
   },
   "outputs": [],
   "source": [
    "url = 'http://ppgci.eci.ufmg.br/pessoas/professores/permanentes'"
   ]
  },
  {
   "cell_type": "code",
   "execution_count": null,
   "metadata": {
    "collapsed": true
   },
   "outputs": [],
   "source": [
    "pagina = requests.get(url)\n",
    "texto = pagina.text\n",
    "#soup = BeautifulSoup(texto)"
   ]
  },
  {
   "cell_type": "code",
   "execution_count": null,
   "metadata": {
    "collapsed": true
   },
   "outputs": [],
   "source": []
  },
  {
   "cell_type": "markdown",
   "metadata": {},
   "source": [
    "Partindo do código abaixo, escreva comandos para realizar as seguintes tarefas:\n",
    "- Identificar os candidatos a nomes próprios do texto e a frequência com que aparecem;\n",
    "- Identificar as 5 palavras mais comuns;\n",
    "- Identificar os tritongos;\n",
    "- Salvar os resultados em um arquivo chamado \"respostas_q2.txt\" no computador\n",
    "\n",
    "-você pega o texto assim:"
   ]
  },
  {
   "cell_type": "code",
   "execution_count": null,
   "metadata": {
    "collapsed": true
   },
   "outputs": [],
   "source": [
    "url = 'http://norvig.com/big.txt'\n",
    "page = requests.get(url)\n",
    "html = page.text\n",
    "sopa = bs(html, \"lxml\")  #beautiful para limpar o resultado\n",
    "texto = sopa.text"
   ]
  },
  {
   "cell_type": "code",
   "execution_count": 16,
   "metadata": {
    "collapsed": true
   },
   "outputs": [],
   "source": [
    "#beautiful para limpar o resultado"
   ]
  },
  {
   "cell_type": "markdown",
   "metadata": {},
   "source": [
    "Escreva uma função (ou conjunto de funções) que extraia(m) todos os endereços de e-mail de uma página web (passada como parâmetro) e os devolva em uma lista. Considere apenas e-mails:  \n",
    "- De domínios do Brasil ('.br') ou;  \n",
    "- De domínios de alto nível originais ('.com', '.org', '.net', '.int', '.edu', '.gov', '.mil')."
   ]
  },
  {
   "cell_type": "code",
   "execution_count": null,
   "metadata": {
    "collapsed": true
   },
   "outputs": [],
   "source": []
  },
  {
   "cell_type": "markdown",
   "metadata": {},
   "source": [
    "Escreva uma função que possua o mesmo comportamento do gerador (x**2 for x in range(100))"
   ]
  },
  {
   "cell_type": "code",
   "execution_count": null,
   "metadata": {
    "collapsed": true
   },
   "outputs": [],
   "source": []
  },
  {
   "cell_type": "markdown",
   "metadata": {},
   "source": [
    "Uma progressão aritmética (PA) é um sequência numérica em que cada termo, a partir do segundo, é igual à soma do termo anterior com uma constante R positiva (denominada razão).  \n",
    "\n",
    "A fórmula geral de uma PA é:  $an = a1 + (n - 1) * R$    \n",
    "\n",
    "Escreva uma função que receba uma lista com um conjunto de números inteiros positivos, identifique todos os subconjuntos de no mínimo 3 elementos desta lista onde os números formem uma progressão aritmética. Devem ser apresentados sempre os maiores subconjuntos que formem uma PA. Por exemplo, dado a lista [1,2,3,5,6,7,9] teríamos como resultado:  \n",
    "\n",
    "[[1,2,3], [5,6,7], [1,3,5,7,9], [3,6,9], [1,5,9]]  \n",
    "\n",
    "Note que, por exemplo, a sequência [1,3,5] não deve ser apresentada, porque já faz parte de [1,3,5,7,9].  "
   ]
  },
  {
   "cell_type": "code",
   "execution_count": null,
   "metadata": {
    "collapsed": true
   },
   "outputs": [],
   "source": []
  },
  {
   "cell_type": "markdown",
   "metadata": {},
   "source": [
    "Uma permutação é um arranjo ordenado de objetos. Por exemplo, $ 3124 \\ $ é uma das possíveis permutações dos dígitos $1, 2, 3$ e $4$. Se todas as permutações são ordenadas numericamente, chamamos a este arranjo de ordem lexicográfica. As permutações lexicográficas de $0, 1$ e $2$ são:  \n",
    "\n",
    "$012\\;021\\;102\\;120\\;201\\;210$    \n",
    "\n",
    "Qual o milionésimo elemento da ordenação lexicográfica dos dígitos $0, 1, 2, 3, 4, 5, 6, 7, 8$ e $9$?   "
   ]
  },
  {
   "cell_type": "code",
   "execution_count": null,
   "metadata": {
    "collapsed": true
   },
   "outputs": [],
   "source": []
  },
  {
   "cell_type": "markdown",
   "metadata": {},
   "source": [
    "Na primeira prova, manipulamos textos usando Shell do linux.  \n",
    "Implemente no Python funções para ler um arquivo e:  \n",
    "- Contar a quantidade de palavras que começam com letras maiúsculas;  \n",
    "- Contar quantas palavras contém sequências de três vogais (tritongos);  \n",
    "- Salvar no arquivo “resultados.txt” as linhas que começam e terminam com uma não vogal."
   ]
  },
  {
   "cell_type": "code",
   "execution_count": null,
   "metadata": {
    "collapsed": true
   },
   "outputs": [],
   "source": []
  },
  {
   "cell_type": "markdown",
   "metadata": {},
   "source": [
    "Implemente em Python uma classe chamada “Tamagotchi” com as seguintes propriedades:  \n",
    "- Tem métodos para dizer a idade, se está com fome e se está de bom humor  \n",
    "- Fica com fome após 5 minutos, e fica de mau humor se não bricarem com ele em 10 minutos\n",
    "- Se comunica com um conjunto de mensagens predefinidas e aleatórias, dependendo do humor e da fome \n",
    "- \"Morre\" se ficar com fome por mais de 10 minutos (os métodos deixarão de funcionar)"
   ]
  },
  {
   "cell_type": "code",
   "execution_count": null,
   "metadata": {
    "collapsed": true
   },
   "outputs": [],
   "source": []
  },
  {
   "cell_type": "markdown",
   "metadata": {},
   "source": [
    "Implemente em Python a classe quadrilátero, que recebe o tamanho dos lados ao ser instanciada. Implemente as classes retângulo, quadrado, losango e trapézio, derivadas da classe quadrilátero, com os métodos para área e perímetro.\n"
   ]
  },
  {
   "cell_type": "code",
   "execution_count": null,
   "metadata": {
    "collapsed": true
   },
   "outputs": [],
   "source": []
  },
  {
   "cell_type": "markdown",
   "metadata": {},
   "source": [
    "Implemente em Python uma classe chamada “Navio” com as seguintes propriedades:  \n",
    "- Quando instanciado, tem o tanque cheio e está nas coordenadas 0,0.  \n",
    "- Possui um tanque de diesel com capacidade de 600.000 litros.  \n",
    "- Consome 13.700 litros por hora, numa velocidade de 37 Km/h.  \n",
    "- Possui o metodo “navegar”, que recebe as coordenadas de destino. Esse método calcula a distância a navegar e avalia se o navio possui combustível para chegar nestas coordenadas.  \n",
    "- Possui métodos para encher o tanque, dizer a autonomia, retornar o total de km navegados desde que encheu o tanque e desde que foi instanciado.  \n",
    "\n",
    "OBS: Considere que um grau de latitude, que sempre corresponde a uma distância de 111,12 Km. Embora não seja verdade, considere que um grau de longitude corresponde à mesma distância.  "
   ]
  },
  {
   "cell_type": "code",
   "execution_count": null,
   "metadata": {
    "collapsed": true
   },
   "outputs": [],
   "source": []
  },
  {
   "cell_type": "markdown",
   "metadata": {},
   "source": [
    "O problema de Monty Hall, também conhecido por paradoxo de Monty Hall é um problema matemático e paradoxo que surgiu a partir de um concurso televisivo dos Estados Unidos chamado \"Let’s Make a Deal\", exibido na década de 1970. O jogo consiste no seguinte: Monty Hall (o apresentador) apresentava 3 portas aos concorrentes, sabendo que atrás de uma delas está um carro (prêmio bom) e que as outras têm prêmios de pouco valor.\n",
    "\n",
    "- Na 1ª etapa o concorrente escolhe uma porta (que ainda não é aberta);  \n",
    "- Em seguida, Monty abre uma das outras duas portas que o concorrente não escolheu, sabendo de antemão que o carro não se encontra na porta que abrirá;  \n",
    "- Agora com duas portas apenas para escolher — pois uma delas já se viu, na 2ª etapa, que não tinha o prêmio — e sabendo que o carro está atrás de uma delas, o concorrente tem que se decidir se permanece com a porta que escolheu no início do jogo e abre-a ou se muda para a outra porta que ainda está fechada para então a abrir.  \n",
    "\n",
    "Demonstre graficamente que é mais provável ganhar o prêmio se trocar de porta do que se não o fizer. Quais as probabilidade de acertar, em ambos os casos?"
   ]
  },
  {
   "cell_type": "code",
   "execution_count": null,
   "metadata": {
    "collapsed": true
   },
   "outputs": [],
   "source": []
  },
  {
   "cell_type": "markdown",
   "metadata": {},
   "source": [
    "Você sabe jogar pôquer? Vamos criar um jogo virtual...  \n",
    "a) Crie uma classe chamada “Baralho”, com as cartas dos naipes de Paus, Copas, Ouros e Espadas, cada naipe possuindo cartas que variam de 1 a 13.  \n",
    "Esta classe deve possuir o método “embaralhar”. Quando instanciado, o baralho deve gerar chamar este método, gerando uma uma ordem aleatória para estas 52 cartas.  \n",
    "\n",
    "Dica: gerar um baralho com o comando [str(x)+str(y) for x,y in list(itertools.product('PCOE',range(1,14)))]  \n",
    "\n",
    "b) Crie uma classe chamada “Jogador”, que seja iniciada com cinco cartas, e retorne o valor da “mão” (veja a primeira coluna da tabela a seguir)  \n",
    "\n",
    "c) Crie uma classe chamada “Jogo”, que recebe uma instância de Baralho e $n$ instâncias de jogador. Esta classe deve ser capaz de:  \n",
    "\n",
    "- Distribuir cartas de um baralho embaralhado para $n$ jogadores, 5 cartas para cada um e;  \n",
    "- Anunciar o ganhador da rodada (aquele com o maior número no valor da mão).  \n",
    "\n",
    "A hierarquia de “mãos” do pôquer é a seguinte (todos os naipes possuem o mesmo valor):"
   ]
  },
  {
   "cell_type": "code",
   "execution_count": null,
   "metadata": {
    "collapsed": true
   },
   "outputs": [],
   "source": [
    "nomes = {'Nome da Jogada':['Royal Straight Flush',\n",
    "                           'Straight Flush',\n",
    "                           'Four of a kind',\n",
    "                           'Full House',\n",
    "                           'Flush',\n",
    "                           'Straight',\n",
    "                           'Three of a kind',\n",
    "                           'Two Pairs',\n",
    "                           'One Pair',\n",
    "                           'High Card'],\n",
    "         u'Descrição':[u'5 cartas seguidas do mesmo naipe até o Ás', \n",
    "                      u'5 cartas seguidas do mesmo naipe que não seja até ao Ás',\n",
    "                      u'Quatro cartas iguais',\n",
    "                      u'Uma trinca e um par',\n",
    "                      u'5 cartas do mesmo naipe não seguidas',\n",
    "                      u'5 cartas seguidas de naipes diferentes',\n",
    "                      u'3 cartas iguais',\n",
    "                      u'2 pares de cartas',\n",
    "                      u'2 cartas iguais',\n",
    "                      u'Ganha quem tiver a carta mais alta'],\n",
    "         u'Combinações possíveis':[4,36,624,3744,5108,10200,54912,123552,1098240,1302540]}\n",
    "\n",
    "df = pd.DataFrame(nomes, columns=[u'Nome da Jogada',u'Descrição',u'Combinações possíveis'])\n",
    "df"
   ]
  },
  {
   "cell_type": "code",
   "execution_count": null,
   "metadata": {
    "collapsed": true
   },
   "outputs": [],
   "source": [
    "cartas = [str(x)+str(y) for x,y in list(itertools.product('PCOE',range(1,14)))]"
   ]
  },
  {
   "cell_type": "markdown",
   "metadata": {
    "collapsed": true
   },
   "source": [
    "## Mega Sena\n",
    "\n",
    "### Como Jogar\n",
    "\n",
    "A Mega-Sena paga milhões para o acertador dos 6 números sorteados. Ainda é possível ganhar prêmios ao acertar 4 ou 5 números dentre os 60 disponíveis no volante de apostas. Para realizar o sonho de ser o próximo milionário, você deve marcar de 6 a 15 números do volante.\n",
    "\n",
    "#### Apostas\n",
    "\n",
    "A aposta mínima é de 6 números e a máxima é de 15 números.\n",
    "\n",
    "#### Premiação\n",
    "\n",
    "São premiados os:\n",
    "\n",
    "- acertadores dos 6 números sorteados (Sena);\n",
    "\n",
    "- acertadores de 5 números (Quina);\n",
    "\n",
    "- acertadores de 4 números (Quadra);"
   ]
  },
  {
   "cell_type": "markdown",
   "metadata": {},
   "source": [
    "Crie uma função **apostar** que receba números de 6 a 15 números diferentes entre 1 e 60. Caso a aposta seja válida, sua função deve adicionar a aposta à um container (lista, tupla, ...) **apostas**. Caso contrário, indique qual foi o erro."
   ]
  },
  {
   "cell_type": "code",
   "execution_count": null,
   "metadata": {
    "collapsed": true
   },
   "outputs": [],
   "source": []
  },
  {
   "cell_type": "markdown",
   "metadata": {},
   "source": [
    "Crie uma função **megasena** que não receba argumentos. Ela deve realizar o sorteio de 6 números diferentes entre 1 e 60 e indicar quantas apostas foram vencedoras da sena, da quina e da quadra. \n",
    "\n",
    "Lembre-se que o vencedor da sena não é considerado vencedor da quina e assim por diante. \n",
    "\n",
    "Dica: O **randrange** da biblioteca **random** pode ser útil."
   ]
  },
  {
   "cell_type": "code",
   "execution_count": null,
   "metadata": {
    "collapsed": true
   },
   "outputs": [],
   "source": []
  },
  {
   "cell_type": "markdown",
   "metadata": {},
   "source": [
    "Crie uma função **apostador** que recebe um arguemento **num_apostas**. A função deve retornar um *container* contendo **num_apostas** apostas.\n",
    "\n",
    "Por exemplo: Ao chamar a função **apostador(10)**, deve ser retornado uma container com 10 apostas.\n",
    "\n",
    "Cada aposta pode conter a quantidade de números que você desejar, desde que seja entre 6 e 15 números."
   ]
  },
  {
   "cell_type": "code",
   "execution_count": null,
   "metadata": {
    "collapsed": true
   },
   "outputs": [],
   "source": []
  }
 ],
 "metadata": {
  "kernelspec": {
   "display_name": "Python 3",
   "language": "python",
   "name": "python3"
  },
  "language_info": {
   "codemirror_mode": {
    "name": "ipython",
    "version": 3
   },
   "file_extension": ".py",
   "mimetype": "text/x-python",
   "name": "python",
   "nbconvert_exporter": "python",
   "pygments_lexer": "ipython3",
   "version": "3.5.2+"
  }
 },
 "nbformat": 4,
 "nbformat_minor": 1
}
